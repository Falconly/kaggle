{
 "cells": [
  {
   "cell_type": "code",
   "execution_count": 1,
   "id": "5222044c",
   "metadata": {
    "_cell_guid": "b1076dfc-b9ad-4769-8c92-a6c4dae69d19",
    "_uuid": "8f2839f25d086af736a60e9eeb907d3b93b6e0e5",
    "execution": {
     "iopub.execute_input": "2024-03-13T05:54:16.313935Z",
     "iopub.status.busy": "2024-03-13T05:54:16.313191Z",
     "iopub.status.idle": "2024-03-13T05:54:28.709746Z",
     "shell.execute_reply": "2024-03-13T05:54:28.708378Z"
    },
    "papermill": {
     "duration": 12.423175,
     "end_time": "2024-03-13T05:54:28.712766",
     "exception": false,
     "start_time": "2024-03-13T05:54:16.289591",
     "status": "completed"
    },
    "scrolled": true,
    "tags": []
   },
   "outputs": [
    {
     "name": "stdout",
     "output_type": "stream",
     "text": [
      "/kaggle/input/titanic/train.csv\n",
      "/kaggle/input/titanic/test.csv\n",
      "/kaggle/input/titanic/gender_submission.csv\n"
     ]
    }
   ],
   "source": [
    "# This Python 3 environment comes with many helpful analytics libraries installed\n",
    "# It is defined by the kaggle/python Docker image: https://github.com/kaggle/docker-python\n",
    "# For example, here's several helpful packages to load\n",
    "\n",
    "import numpy as np # linear algebra\n",
    "import pandas as pd # data processing, CSV file I/O (e.g. pd.read_csv)\n",
    "import seaborn as sns\n",
    "import matplotlib.pyplot as plt\n",
    "import warnings\n",
    "\n",
    "import missingno as msno # visualization missing values (NA)\n",
    "\n",
    "from sklearn.model_selection import train_test_split\n",
    "from sklearn.metrics import classification_report\n",
    "\n",
    "from catboost import CatBoostClassifier \n",
    "\n",
    "import torch\n",
    "import torch.nn as nn\n",
    "from torch.utils.data import DataLoader, TensorDataset\n",
    "from torch.nn import functional as F\n",
    "\n",
    "from torchmetrics import Accuracy\n",
    "\n",
    "from tqdm.autonotebook import tqdm\n",
    "# Input data files are available in the read-only \"../input/\" directory\n",
    "# For example, running this (by clicking run or pressing Shift+Enter) will list all files under the input directory\n",
    "\n",
    "import os\n",
    "for dirname, _, filenames in os.walk('/kaggle/input'):\n",
    "    for filename in filenames:\n",
    "        print(os.path.join(dirname, filename))\n",
    "\n",
    "# You can write up to 20GB to the current directory (/kaggle/working/) that gets preserved as output when you create a version using \"Save & Run All\" \n",
    "# You can also write temporary files to /kaggle/temp/, but they won't be saved outside of the current session\n",
    "warnings.filterwarnings('ignore', 'FutureWarnings')\n",
    "plt.style.use('dark_background')"
   ]
  },
  {
   "cell_type": "code",
   "execution_count": 2,
   "id": "2ed1aaab",
   "metadata": {
    "execution": {
     "iopub.execute_input": "2024-03-13T05:54:28.756509Z",
     "iopub.status.busy": "2024-03-13T05:54:28.755285Z",
     "iopub.status.idle": "2024-03-13T05:54:28.788689Z",
     "shell.execute_reply": "2024-03-13T05:54:28.787176Z"
    },
    "papermill": {
     "duration": 0.058456,
     "end_time": "2024-03-13T05:54:28.791629",
     "exception": false,
     "start_time": "2024-03-13T05:54:28.733173",
     "status": "completed"
    },
    "tags": []
   },
   "outputs": [],
   "source": [
    "titanic = pd.read_csv('/kaggle/input/titanic/train.csv')\n",
    "test = pd.read_csv('/kaggle/input/titanic/test.csv')"
   ]
  },
  {
   "cell_type": "code",
   "execution_count": 3,
   "id": "71c1a2d9",
   "metadata": {
    "execution": {
     "iopub.execute_input": "2024-03-13T05:54:28.836223Z",
     "iopub.status.busy": "2024-03-13T05:54:28.835761Z",
     "iopub.status.idle": "2024-03-13T05:54:28.861546Z",
     "shell.execute_reply": "2024-03-13T05:54:28.860416Z"
    },
    "papermill": {
     "duration": 0.051,
     "end_time": "2024-03-13T05:54:28.863938",
     "exception": false,
     "start_time": "2024-03-13T05:54:28.812938",
     "status": "completed"
    },
    "tags": []
   },
   "outputs": [
    {
     "data": {
      "text/html": [
       "<div>\n",
       "<style scoped>\n",
       "    .dataframe tbody tr th:only-of-type {\n",
       "        vertical-align: middle;\n",
       "    }\n",
       "\n",
       "    .dataframe tbody tr th {\n",
       "        vertical-align: top;\n",
       "    }\n",
       "\n",
       "    .dataframe thead th {\n",
       "        text-align: right;\n",
       "    }\n",
       "</style>\n",
       "<table border=\"1\" class=\"dataframe\">\n",
       "  <thead>\n",
       "    <tr style=\"text-align: right;\">\n",
       "      <th></th>\n",
       "      <th>PassengerId</th>\n",
       "      <th>Survived</th>\n",
       "      <th>Pclass</th>\n",
       "      <th>Name</th>\n",
       "      <th>Sex</th>\n",
       "      <th>Age</th>\n",
       "      <th>SibSp</th>\n",
       "      <th>Parch</th>\n",
       "      <th>Ticket</th>\n",
       "      <th>Fare</th>\n",
       "      <th>Cabin</th>\n",
       "      <th>Embarked</th>\n",
       "    </tr>\n",
       "  </thead>\n",
       "  <tbody>\n",
       "    <tr>\n",
       "      <th>0</th>\n",
       "      <td>1</td>\n",
       "      <td>0</td>\n",
       "      <td>3</td>\n",
       "      <td>Braund, Mr. Owen Harris</td>\n",
       "      <td>male</td>\n",
       "      <td>22.0</td>\n",
       "      <td>1</td>\n",
       "      <td>0</td>\n",
       "      <td>A/5 21171</td>\n",
       "      <td>7.2500</td>\n",
       "      <td>NaN</td>\n",
       "      <td>S</td>\n",
       "    </tr>\n",
       "    <tr>\n",
       "      <th>1</th>\n",
       "      <td>2</td>\n",
       "      <td>1</td>\n",
       "      <td>1</td>\n",
       "      <td>Cumings, Mrs. John Bradley (Florence Briggs Th...</td>\n",
       "      <td>female</td>\n",
       "      <td>38.0</td>\n",
       "      <td>1</td>\n",
       "      <td>0</td>\n",
       "      <td>PC 17599</td>\n",
       "      <td>71.2833</td>\n",
       "      <td>C85</td>\n",
       "      <td>C</td>\n",
       "    </tr>\n",
       "    <tr>\n",
       "      <th>2</th>\n",
       "      <td>3</td>\n",
       "      <td>1</td>\n",
       "      <td>3</td>\n",
       "      <td>Heikkinen, Miss. Laina</td>\n",
       "      <td>female</td>\n",
       "      <td>26.0</td>\n",
       "      <td>0</td>\n",
       "      <td>0</td>\n",
       "      <td>STON/O2. 3101282</td>\n",
       "      <td>7.9250</td>\n",
       "      <td>NaN</td>\n",
       "      <td>S</td>\n",
       "    </tr>\n",
       "    <tr>\n",
       "      <th>3</th>\n",
       "      <td>4</td>\n",
       "      <td>1</td>\n",
       "      <td>1</td>\n",
       "      <td>Futrelle, Mrs. Jacques Heath (Lily May Peel)</td>\n",
       "      <td>female</td>\n",
       "      <td>35.0</td>\n",
       "      <td>1</td>\n",
       "      <td>0</td>\n",
       "      <td>113803</td>\n",
       "      <td>53.1000</td>\n",
       "      <td>C123</td>\n",
       "      <td>S</td>\n",
       "    </tr>\n",
       "    <tr>\n",
       "      <th>4</th>\n",
       "      <td>5</td>\n",
       "      <td>0</td>\n",
       "      <td>3</td>\n",
       "      <td>Allen, Mr. William Henry</td>\n",
       "      <td>male</td>\n",
       "      <td>35.0</td>\n",
       "      <td>0</td>\n",
       "      <td>0</td>\n",
       "      <td>373450</td>\n",
       "      <td>8.0500</td>\n",
       "      <td>NaN</td>\n",
       "      <td>S</td>\n",
       "    </tr>\n",
       "  </tbody>\n",
       "</table>\n",
       "</div>"
      ],
      "text/plain": [
       "   PassengerId  Survived  Pclass  \\\n",
       "0            1         0       3   \n",
       "1            2         1       1   \n",
       "2            3         1       3   \n",
       "3            4         1       1   \n",
       "4            5         0       3   \n",
       "\n",
       "                                                Name     Sex   Age  SibSp  \\\n",
       "0                            Braund, Mr. Owen Harris    male  22.0      1   \n",
       "1  Cumings, Mrs. John Bradley (Florence Briggs Th...  female  38.0      1   \n",
       "2                             Heikkinen, Miss. Laina  female  26.0      0   \n",
       "3       Futrelle, Mrs. Jacques Heath (Lily May Peel)  female  35.0      1   \n",
       "4                           Allen, Mr. William Henry    male  35.0      0   \n",
       "\n",
       "   Parch            Ticket     Fare Cabin Embarked  \n",
       "0      0         A/5 21171   7.2500   NaN        S  \n",
       "1      0          PC 17599  71.2833   C85        C  \n",
       "2      0  STON/O2. 3101282   7.9250   NaN        S  \n",
       "3      0            113803  53.1000  C123        S  \n",
       "4      0            373450   8.0500   NaN        S  "
      ]
     },
     "execution_count": 3,
     "metadata": {},
     "output_type": "execute_result"
    }
   ],
   "source": [
    "titanic.head()"
   ]
  },
  {
   "cell_type": "code",
   "execution_count": 4,
   "id": "44c39953",
   "metadata": {
    "execution": {
     "iopub.execute_input": "2024-03-13T05:54:28.906875Z",
     "iopub.status.busy": "2024-03-13T05:54:28.906077Z",
     "iopub.status.idle": "2024-03-13T05:54:28.938018Z",
     "shell.execute_reply": "2024-03-13T05:54:28.936789Z"
    },
    "papermill": {
     "duration": 0.056418,
     "end_time": "2024-03-13T05:54:28.940741",
     "exception": false,
     "start_time": "2024-03-13T05:54:28.884323",
     "status": "completed"
    },
    "tags": []
   },
   "outputs": [
    {
     "name": "stdout",
     "output_type": "stream",
     "text": [
      "<class 'pandas.core.frame.DataFrame'>\n",
      "RangeIndex: 891 entries, 0 to 890\n",
      "Data columns (total 12 columns):\n",
      " #   Column       Non-Null Count  Dtype  \n",
      "---  ------       --------------  -----  \n",
      " 0   PassengerId  891 non-null    int64  \n",
      " 1   Survived     891 non-null    int64  \n",
      " 2   Pclass       891 non-null    int64  \n",
      " 3   Name         891 non-null    object \n",
      " 4   Sex          891 non-null    object \n",
      " 5   Age          714 non-null    float64\n",
      " 6   SibSp        891 non-null    int64  \n",
      " 7   Parch        891 non-null    int64  \n",
      " 8   Ticket       891 non-null    object \n",
      " 9   Fare         891 non-null    float64\n",
      " 10  Cabin        204 non-null    object \n",
      " 11  Embarked     889 non-null    object \n",
      "dtypes: float64(2), int64(5), object(5)\n",
      "memory usage: 83.7+ KB\n"
     ]
    }
   ],
   "source": [
    "titanic.info()"
   ]
  },
  {
   "cell_type": "code",
   "execution_count": 5,
   "id": "1df803dd",
   "metadata": {
    "execution": {
     "iopub.execute_input": "2024-03-13T05:54:28.984934Z",
     "iopub.status.busy": "2024-03-13T05:54:28.983764Z",
     "iopub.status.idle": "2024-03-13T05:54:29.004441Z",
     "shell.execute_reply": "2024-03-13T05:54:29.003487Z"
    },
    "papermill": {
     "duration": 0.045704,
     "end_time": "2024-03-13T05:54:29.007083",
     "exception": false,
     "start_time": "2024-03-13T05:54:28.961379",
     "status": "completed"
    },
    "tags": []
   },
   "outputs": [
    {
     "data": {
      "text/html": [
       "<div>\n",
       "<style scoped>\n",
       "    .dataframe tbody tr th:only-of-type {\n",
       "        vertical-align: middle;\n",
       "    }\n",
       "\n",
       "    .dataframe tbody tr th {\n",
       "        vertical-align: top;\n",
       "    }\n",
       "\n",
       "    .dataframe thead th {\n",
       "        text-align: right;\n",
       "    }\n",
       "</style>\n",
       "<table border=\"1\" class=\"dataframe\">\n",
       "  <thead>\n",
       "    <tr style=\"text-align: right;\">\n",
       "      <th></th>\n",
       "      <th>PassengerId</th>\n",
       "      <th>Pclass</th>\n",
       "      <th>Name</th>\n",
       "      <th>Sex</th>\n",
       "      <th>Age</th>\n",
       "      <th>SibSp</th>\n",
       "      <th>Parch</th>\n",
       "      <th>Ticket</th>\n",
       "      <th>Fare</th>\n",
       "      <th>Cabin</th>\n",
       "      <th>Embarked</th>\n",
       "      <th>Survived</th>\n",
       "    </tr>\n",
       "  </thead>\n",
       "  <tbody>\n",
       "    <tr>\n",
       "      <th>0</th>\n",
       "      <td>1</td>\n",
       "      <td>3</td>\n",
       "      <td>Braund, Mr. Owen Harris</td>\n",
       "      <td>male</td>\n",
       "      <td>22.0</td>\n",
       "      <td>1</td>\n",
       "      <td>0</td>\n",
       "      <td>A/5 21171</td>\n",
       "      <td>7.25</td>\n",
       "      <td>NaN</td>\n",
       "      <td>S</td>\n",
       "      <td>0</td>\n",
       "    </tr>\n",
       "  </tbody>\n",
       "</table>\n",
       "</div>"
      ],
      "text/plain": [
       "   PassengerId  Pclass                     Name   Sex   Age  SibSp  Parch  \\\n",
       "0            1       3  Braund, Mr. Owen Harris  male  22.0      1      0   \n",
       "\n",
       "      Ticket  Fare Cabin Embarked  Survived  \n",
       "0  A/5 21171  7.25   NaN        S         0  "
      ]
     },
     "execution_count": 5,
     "metadata": {},
     "output_type": "execute_result"
    }
   ],
   "source": [
    "# Перемещение колонки Survived в конец датафрейма\n",
    "survived_pop = titanic.pop('Survived')\n",
    "titanic['Survived'] = survived_pop\n",
    "titanic.head(1)"
   ]
  },
  {
   "cell_type": "code",
   "execution_count": 6,
   "id": "5a0eb841",
   "metadata": {
    "execution": {
     "iopub.execute_input": "2024-03-13T05:54:29.051262Z",
     "iopub.status.busy": "2024-03-13T05:54:29.050847Z",
     "iopub.status.idle": "2024-03-13T05:54:29.373501Z",
     "shell.execute_reply": "2024-03-13T05:54:29.372326Z"
    },
    "papermill": {
     "duration": 0.347613,
     "end_time": "2024-03-13T05:54:29.376119",
     "exception": false,
     "start_time": "2024-03-13T05:54:29.028506",
     "status": "completed"
    },
    "tags": []
   },
   "outputs": [
    {
     "data": {
      "text/plain": [
       "<Axes: xlabel='Survived', ylabel='count'>"
      ]
     },
     "execution_count": 6,
     "metadata": {},
     "output_type": "execute_result"
    },
    {
     "data": {
      "image/png": "[encoded data removed]",
      "text/plain": [
       "<Figure size 1400x800 with 1 Axes>"
      ]
     },
     "metadata": {},
     "output_type": "display_data"
    }
   ],
   "source": [
    "plt.figure(figsize=(7, 4), dpi=200)\n",
    "sns.countplot(titanic, x='Survived')"
   ]
  },
  {
   "cell_type": "code",
   "execution_count": 7,
   "id": "df9e3e5d",
   "metadata": {
    "execution": {
     "iopub.execute_input": "2024-03-13T05:54:29.421958Z",
     "iopub.status.busy": "2024-03-13T05:54:29.421547Z",
     "iopub.status.idle": "2024-03-13T05:54:30.380367Z",
     "shell.execute_reply": "2024-03-13T05:54:30.379213Z"
    },
    "papermill": {
     "duration": 0.986221,
     "end_time": "2024-03-13T05:54:30.384422",
     "exception": false,
     "start_time": "2024-03-13T05:54:29.398201",
     "status": "completed"
    },
    "tags": []
   },
   "outputs": [
    {
     "data": {
      "text/plain": [
       "<Axes: >"
      ]
     },
     "execution_count": 7,
     "metadata": {},
     "output_type": "execute_result"
    },
    {
     "data": {
      "image/png": "[encoded data removed]",
      "text/plain": [
       "<Figure size 2400x1600 with 2 Axes>"
      ]
     },
     "metadata": {},
     "output_type": "display_data"
    }
   ],
   "source": [
    "plt.figure(figsize=(12, 8), dpi=200)\n",
    "sns.heatmap(titanic.corr(numeric_only=True), annot=True, cmap='magma')"
   ]
  },
  {
   "cell_type": "markdown",
   "id": "7d67e856",
   "metadata": {
    "papermill": {
     "duration": 0.023883,
     "end_time": "2024-03-13T05:54:30.433442",
     "exception": false,
     "start_time": "2024-03-13T05:54:30.409559",
     "status": "completed"
    },
    "tags": []
   },
   "source": [
    "## Работа с пропущенными значениями"
   ]
  },
  {
   "cell_type": "code",
   "execution_count": 8,
   "id": "0ea5eccf",
   "metadata": {
    "execution": {
     "iopub.execute_input": "2024-03-13T05:54:30.484372Z",
     "iopub.status.busy": "2024-03-13T05:54:30.483150Z",
     "iopub.status.idle": "2024-03-13T05:54:31.244784Z",
     "shell.execute_reply": "2024-03-13T05:54:31.243449Z"
    },
    "papermill": {
     "duration": 0.790475,
     "end_time": "2024-03-13T05:54:31.248146",
     "exception": false,
     "start_time": "2024-03-13T05:54:30.457671",
     "status": "completed"
    },
    "tags": []
   },
   "outputs": [
    {
     "data": {
      "text/plain": [
       "<Axes: >"
      ]
     },
     "execution_count": 8,
     "metadata": {},
     "output_type": "execute_result"
    },
    {
     "data": {
      "image/png": "[encoded data removed]",
      "text/plain": [
       "<Figure size 2500x1000 with 2 Axes>"
      ]
     },
     "metadata": {},
     "output_type": "display_data"
    }
   ],
   "source": [
    "msno.matrix(titanic)"
   ]
  },
  {
   "cell_type": "code",
   "execution_count": 9,
   "id": "f8fcb9ee",
   "metadata": {
    "execution": {
     "iopub.execute_input": "2024-03-13T05:54:31.302006Z",
     "iopub.status.busy": "2024-03-13T05:54:31.301584Z",
     "iopub.status.idle": "2024-03-13T05:54:32.562807Z",
     "shell.execute_reply": "2024-03-13T05:54:32.561636Z"
    },
    "papermill": {
     "duration": 1.291958,
     "end_time": "2024-03-13T05:54:32.566224",
     "exception": false,
     "start_time": "2024-03-13T05:54:31.274266",
     "status": "completed"
    },
    "tags": []
   },
   "outputs": [
    {
     "data": {
      "text/plain": [
       "<Axes: >"
      ]
     },
     "execution_count": 9,
     "metadata": {},
     "output_type": "execute_result"
    },
    {
     "data": {
      "image/png": "[encoded data removed]",
      "text/plain": [
       "<Figure size 2500x1000 with 3 Axes>"
      ]
     },
     "metadata": {},
     "output_type": "display_data"
    }
   ],
   "source": [
    "msno.bar(titanic)"
   ]
  },
  {
   "cell_type": "code",
   "execution_count": 10,
   "id": "33c2f30c",
   "metadata": {
    "execution": {
     "iopub.execute_input": "2024-03-13T05:54:32.623878Z",
     "iopub.status.busy": "2024-03-13T05:54:32.622850Z",
     "iopub.status.idle": "2024-03-13T05:54:33.129162Z",
     "shell.execute_reply": "2024-03-13T05:54:33.127998Z"
    },
    "papermill": {
     "duration": 0.538503,
     "end_time": "2024-03-13T05:54:33.131725",
     "exception": false,
     "start_time": "2024-03-13T05:54:32.593222",
     "status": "completed"
    },
    "tags": []
   },
   "outputs": [
    {
     "data": {
      "text/plain": [
       "<Axes: >"
      ]
     },
     "execution_count": 10,
     "metadata": {},
     "output_type": "execute_result"
    },
    {
     "data": {
      "image/png": "[encoded data removed]",
      "text/plain": [
       "<Figure size 2000x1200 with 2 Axes>"
      ]
     },
     "metadata": {},
     "output_type": "display_data"
    }
   ],
   "source": [
    "msno.heatmap(titanic)"
   ]
  },
  {
   "cell_type": "code",
   "execution_count": 11,
   "id": "86c75fac",
   "metadata": {
    "execution": {
     "iopub.execute_input": "2024-03-13T05:54:33.189937Z",
     "iopub.status.busy": "2024-03-13T05:54:33.189498Z",
     "iopub.status.idle": "2024-03-13T05:54:34.080243Z",
     "shell.execute_reply": "2024-03-13T05:54:34.078967Z"
    },
    "papermill": {
     "duration": 0.923645,
     "end_time": "2024-03-13T05:54:34.083420",
     "exception": false,
     "start_time": "2024-03-13T05:54:33.159775",
     "status": "completed"
    },
    "tags": []
   },
   "outputs": [
    {
     "data": {
      "text/plain": [
       "<Axes: >"
      ]
     },
     "execution_count": 11,
     "metadata": {},
     "output_type": "execute_result"
    },
    {
     "data": {
      "image/png": "[encoded data removed]",
      "text/plain": [
       "<Figure size 2500x1000 with 2 Axes>"
      ]
     },
     "metadata": {},
     "output_type": "display_data"
    }
   ],
   "source": [
    "msno.matrix(test)"
   ]
  },
  {
   "cell_type": "code",
   "execution_count": 12,
   "id": "1d28b86c",
   "metadata": {
    "execution": {
     "iopub.execute_input": "2024-03-13T05:54:34.149825Z",
     "iopub.status.busy": "2024-03-13T05:54:34.148843Z",
     "iopub.status.idle": "2024-03-13T05:54:35.745978Z",
     "shell.execute_reply": "2024-03-13T05:54:35.744689Z"
    },
    "papermill": {
     "duration": 1.633469,
     "end_time": "2024-03-13T05:54:35.750112",
     "exception": false,
     "start_time": "2024-03-13T05:54:34.116643",
     "status": "completed"
    },
    "tags": []
   },
   "outputs": [
    {
     "data": {
      "text/plain": [
       "<Axes: >"
      ]
     },
     "execution_count": 12,
     "metadata": {},
     "output_type": "execute_result"
    },
    {
     "data": {
      "image/png": "[encoded data removed]",
      "text/plain": [
       "<Figure size 2500x1000 with 3 Axes>"
      ]
     },
     "metadata": {},
     "output_type": "display_data"
    }
   ],
   "source": [
    "msno.bar(test)"
   ]
  },
  {
   "cell_type": "code",
   "execution_count": 13,
   "id": "41407d2c",
   "metadata": {
    "execution": {
     "iopub.execute_input": "2024-03-13T05:54:35.814710Z",
     "iopub.status.busy": "2024-03-13T05:54:35.814010Z",
     "iopub.status.idle": "2024-03-13T05:54:36.293924Z",
     "shell.execute_reply": "2024-03-13T05:54:36.292702Z"
    },
    "papermill": {
     "duration": 0.515064,
     "end_time": "2024-03-13T05:54:36.296650",
     "exception": false,
     "start_time": "2024-03-13T05:54:35.781586",
     "status": "completed"
    },
    "tags": []
   },
   "outputs": [
    {
     "data": {
      "text/plain": [
       "<Axes: >"
      ]
     },
     "execution_count": 13,
     "metadata": {},
     "output_type": "execute_result"
    },
    {
     "data": {
      "image/png": "[encoded data removed]",
      "text/plain": [
       "<Figure size 2000x1200 with 2 Axes>"
      ]
     },
     "metadata": {},
     "output_type": "display_data"
    }
   ],
   "source": [
    "msno.heatmap(test)"
   ]
  },
  {
   "cell_type": "code",
   "execution_count": 14,
   "id": "e91f9743",
   "metadata": {
    "execution": {
     "iopub.execute_input": "2024-03-13T05:54:36.361730Z",
     "iopub.status.busy": "2024-03-13T05:54:36.360969Z",
     "iopub.status.idle": "2024-03-13T05:54:36.370363Z",
     "shell.execute_reply": "2024-03-13T05:54:36.369282Z"
    },
    "papermill": {
     "duration": 0.04473,
     "end_time": "2024-03-13T05:54:36.372698",
     "exception": false,
     "start_time": "2024-03-13T05:54:36.327968",
     "status": "completed"
    },
    "tags": []
   },
   "outputs": [
    {
     "data": {
      "text/plain": [
       "PassengerId      0\n",
       "Pclass           0\n",
       "Name             0\n",
       "Sex              0\n",
       "Age            177\n",
       "SibSp            0\n",
       "Parch            0\n",
       "Ticket           0\n",
       "Fare             0\n",
       "Cabin          687\n",
       "Embarked         2\n",
       "Survived         0\n",
       "dtype: int64"
      ]
     },
     "execution_count": 14,
     "metadata": {},
     "output_type": "execute_result"
    }
   ],
   "source": [
    "titanic.isna().sum()"
   ]
  },
  {
   "cell_type": "code",
   "execution_count": 15,
   "id": "32d6afec",
   "metadata": {
    "execution": {
     "iopub.execute_input": "2024-03-13T05:54:36.439240Z",
     "iopub.status.busy": "2024-03-13T05:54:36.438290Z",
     "iopub.status.idle": "2024-03-13T05:54:36.446659Z",
     "shell.execute_reply": "2024-03-13T05:54:36.445657Z"
    },
    "papermill": {
     "duration": 0.043916,
     "end_time": "2024-03-13T05:54:36.448936",
     "exception": false,
     "start_time": "2024-03-13T05:54:36.405020",
     "status": "completed"
    },
    "tags": []
   },
   "outputs": [
    {
     "data": {
      "text/plain": [
       "PassengerId      0\n",
       "Pclass           0\n",
       "Name             0\n",
       "Sex              0\n",
       "Age             86\n",
       "SibSp            0\n",
       "Parch            0\n",
       "Ticket           0\n",
       "Fare             1\n",
       "Cabin          327\n",
       "Embarked         0\n",
       "dtype: int64"
      ]
     },
     "execution_count": 15,
     "metadata": {},
     "output_type": "execute_result"
    }
   ],
   "source": [
    "test.isna().sum()"
   ]
  },
  {
   "cell_type": "code",
   "execution_count": 16,
   "id": "05f819dc",
   "metadata": {
    "execution": {
     "iopub.execute_input": "2024-03-13T05:54:36.514314Z",
     "iopub.status.busy": "2024-03-13T05:54:36.513540Z",
     "iopub.status.idle": "2024-03-13T05:54:36.520688Z",
     "shell.execute_reply": "2024-03-13T05:54:36.519701Z"
    },
    "papermill": {
     "duration": 0.042734,
     "end_time": "2024-03-13T05:54:36.523201",
     "exception": false,
     "start_time": "2024-03-13T05:54:36.480467",
     "status": "completed"
    },
    "tags": []
   },
   "outputs": [],
   "source": [
    "# Объединение датафреймов для удобства\n",
    "df = pd.concat([titanic.drop(columns='Survived'), test])"
   ]
  },
  {
   "cell_type": "code",
   "execution_count": 17,
   "id": "1f657d43",
   "metadata": {
    "execution": {
     "iopub.execute_input": "2024-03-13T05:54:36.588858Z",
     "iopub.status.busy": "2024-03-13T05:54:36.588444Z",
     "iopub.status.idle": "2024-03-13T05:54:36.596910Z",
     "shell.execute_reply": "2024-03-13T05:54:36.595979Z"
    },
    "papermill": {
     "duration": 0.044642,
     "end_time": "2024-03-13T05:54:36.599200",
     "exception": false,
     "start_time": "2024-03-13T05:54:36.554558",
     "status": "completed"
    },
    "tags": []
   },
   "outputs": [
    {
     "data": {
      "text/plain": [
       "PassengerId       0\n",
       "Pclass            0\n",
       "Name              0\n",
       "Sex               0\n",
       "Age             263\n",
       "SibSp             0\n",
       "Parch             0\n",
       "Ticket            0\n",
       "Fare              1\n",
       "Cabin          1014\n",
       "Embarked          2\n",
       "dtype: int64"
      ]
     },
     "execution_count": 17,
     "metadata": {},
     "output_type": "execute_result"
    }
   ],
   "source": [
    "df.isna().sum()"
   ]
  },
  {
   "cell_type": "code",
   "execution_count": 18,
   "id": "58be4b92",
   "metadata": {
    "execution": {
     "iopub.execute_input": "2024-03-13T05:54:36.664852Z",
     "iopub.status.busy": "2024-03-13T05:54:36.664050Z",
     "iopub.status.idle": "2024-03-13T05:54:36.670441Z",
     "shell.execute_reply": "2024-03-13T05:54:36.669693Z"
    },
    "papermill": {
     "duration": 0.042024,
     "end_time": "2024-03-13T05:54:36.672774",
     "exception": false,
     "start_time": "2024-03-13T05:54:36.630750",
     "status": "completed"
    },
    "tags": []
   },
   "outputs": [],
   "source": [
    "df.drop(columns=['PassengerId', 'Cabin', 'Name', 'Ticket'], inplace=True)"
   ]
  },
  {
   "cell_type": "code",
   "execution_count": 19,
   "id": "b1bd602e",
   "metadata": {
    "execution": {
     "iopub.execute_input": "2024-03-13T05:54:36.739725Z",
     "iopub.status.busy": "2024-03-13T05:54:36.738919Z",
     "iopub.status.idle": "2024-03-13T05:54:36.752202Z",
     "shell.execute_reply": "2024-03-13T05:54:36.750867Z"
    },
    "papermill": {
     "duration": 0.050718,
     "end_time": "2024-03-13T05:54:36.754792",
     "exception": false,
     "start_time": "2024-03-13T05:54:36.704074",
     "status": "completed"
    },
    "tags": []
   },
   "outputs": [
    {
     "data": {
      "text/plain": [
       "count    1046.000000\n",
       "mean       29.881138\n",
       "std        14.413493\n",
       "min         0.170000\n",
       "25%        21.000000\n",
       "50%        28.000000\n",
       "75%        39.000000\n",
       "max        80.000000\n",
       "Name: Age, dtype: float64"
      ]
     },
     "execution_count": 19,
     "metadata": {},
     "output_type": "execute_result"
    }
   ],
   "source": [
    "df['Age'].describe()"
   ]
  },
  {
   "cell_type": "code",
   "execution_count": 20,
   "id": "711ccdb9",
   "metadata": {
    "execution": {
     "iopub.execute_input": "2024-03-13T05:54:36.819384Z",
     "iopub.status.busy": "2024-03-13T05:54:36.818989Z",
     "iopub.status.idle": "2024-03-13T05:54:36.829025Z",
     "shell.execute_reply": "2024-03-13T05:54:36.827941Z"
    },
    "papermill": {
     "duration": 0.045209,
     "end_time": "2024-03-13T05:54:36.831320",
     "exception": false,
     "start_time": "2024-03-13T05:54:36.786111",
     "status": "completed"
    },
    "tags": []
   },
   "outputs": [
    {
     "data": {
      "text/plain": [
       "Age       1.000000\n",
       "Pclass   -0.408106\n",
       "SibSp    -0.243699\n",
       "Fare      0.178740\n",
       "Parch    -0.150917\n",
       "Name: Age, dtype: float64"
      ]
     },
     "execution_count": 20,
     "metadata": {},
     "output_type": "execute_result"
    }
   ],
   "source": [
    "df.corr(numeric_only=True)['Age'].sort_values(key=abs, ascending=False)"
   ]
  },
  {
   "cell_type": "code",
   "execution_count": 21,
   "id": "0a32ecb8",
   "metadata": {
    "execution": {
     "iopub.execute_input": "2024-03-13T05:54:36.959384Z",
     "iopub.status.busy": "2024-03-13T05:54:36.958041Z",
     "iopub.status.idle": "2024-03-13T05:54:36.965895Z",
     "shell.execute_reply": "2024-03-13T05:54:36.964991Z"
    },
    "papermill": {
     "duration": 0.043536,
     "end_time": "2024-03-13T05:54:36.968278",
     "exception": false,
     "start_time": "2024-03-13T05:54:36.924742",
     "status": "completed"
    },
    "tags": []
   },
   "outputs": [
    {
     "data": {
      "text/plain": [
       "array([3, 1, 2])"
      ]
     },
     "execution_count": 21,
     "metadata": {},
     "output_type": "execute_result"
    }
   ],
   "source": [
    "df.Pclass.unique()"
   ]
  },
  {
   "cell_type": "code",
   "execution_count": 22,
   "id": "95ffb428",
   "metadata": {
    "execution": {
     "iopub.execute_input": "2024-03-13T05:54:37.035124Z",
     "iopub.status.busy": "2024-03-13T05:54:37.034223Z",
     "iopub.status.idle": "2024-03-13T05:54:37.046282Z",
     "shell.execute_reply": "2024-03-13T05:54:37.045147Z"
    },
    "papermill": {
     "duration": 0.048662,
     "end_time": "2024-03-13T05:54:37.049388",
     "exception": false,
     "start_time": "2024-03-13T05:54:37.000726",
     "status": "completed"
    },
    "tags": []
   },
   "outputs": [
    {
     "data": {
      "text/plain": [
       "Pclass\n",
       "1    39.159930\n",
       "2    29.506705\n",
       "3    24.816367\n",
       "Name: Age, dtype: float64"
      ]
     },
     "execution_count": 22,
     "metadata": {},
     "output_type": "execute_result"
    }
   ],
   "source": [
    "df.groupby('Pclass').Age.mean()"
   ]
  },
  {
   "cell_type": "code",
   "execution_count": 23,
   "id": "d7e11ad8",
   "metadata": {
    "execution": {
     "iopub.execute_input": "2024-03-13T05:54:37.118227Z",
     "iopub.status.busy": "2024-03-13T05:54:37.117574Z",
     "iopub.status.idle": "2024-03-13T05:54:37.125927Z",
     "shell.execute_reply": "2024-03-13T05:54:37.124905Z"
    },
    "papermill": {
     "duration": 0.046005,
     "end_time": "2024-03-13T05:54:37.128534",
     "exception": false,
     "start_time": "2024-03-13T05:54:37.082529",
     "status": "completed"
    },
    "tags": []
   },
   "outputs": [],
   "source": [
    "# Заполняем пропущенные значения в столбце Age, основываясь на признаке Pclass\n",
    "df['Age'] = df.Age.fillna(df.groupby('Pclass').Age.transform('mean'))"
   ]
  },
  {
   "cell_type": "code",
   "execution_count": 24,
   "id": "2adae360",
   "metadata": {
    "execution": {
     "iopub.execute_input": "2024-03-13T05:54:37.197354Z",
     "iopub.status.busy": "2024-03-13T05:54:37.196939Z",
     "iopub.status.idle": "2024-03-13T05:54:37.207912Z",
     "shell.execute_reply": "2024-03-13T05:54:37.206796Z"
    },
    "papermill": {
     "duration": 0.048697,
     "end_time": "2024-03-13T05:54:37.210367",
     "exception": false,
     "start_time": "2024-03-13T05:54:37.161670",
     "status": "completed"
    },
    "tags": []
   },
   "outputs": [
    {
     "data": {
      "text/plain": [
       "Parch\n",
       "0    10.50000\n",
       "1    26.00000\n",
       "2    31.38750\n",
       "3    34.37500\n",
       "4    27.90000\n",
       "5    31.33125\n",
       "6    46.90000\n",
       "9    69.55000\n",
       "Name: Fare, dtype: float64"
      ]
     },
     "execution_count": 24,
     "metadata": {},
     "output_type": "execute_result"
    }
   ],
   "source": [
    "df.groupby('Parch').Fare.median()"
   ]
  },
  {
   "cell_type": "code",
   "execution_count": 25,
   "id": "5c1dac3d",
   "metadata": {
    "execution": {
     "iopub.execute_input": "2024-03-13T05:54:37.278641Z",
     "iopub.status.busy": "2024-03-13T05:54:37.277847Z",
     "iopub.status.idle": "2024-03-13T05:54:37.291984Z",
     "shell.execute_reply": "2024-03-13T05:54:37.290804Z"
    },
    "papermill": {
     "duration": 0.050988,
     "end_time": "2024-03-13T05:54:37.294401",
     "exception": false,
     "start_time": "2024-03-13T05:54:37.243413",
     "status": "completed"
    },
    "tags": []
   },
   "outputs": [
    {
     "data": {
      "text/html": [
       "<div>\n",
       "<style scoped>\n",
       "    .dataframe tbody tr th:only-of-type {\n",
       "        vertical-align: middle;\n",
       "    }\n",
       "\n",
       "    .dataframe tbody tr th {\n",
       "        vertical-align: top;\n",
       "    }\n",
       "\n",
       "    .dataframe thead th {\n",
       "        text-align: right;\n",
       "    }\n",
       "</style>\n",
       "<table border=\"1\" class=\"dataframe\">\n",
       "  <thead>\n",
       "    <tr style=\"text-align: right;\">\n",
       "      <th></th>\n",
       "      <th>Pclass</th>\n",
       "      <th>Sex</th>\n",
       "      <th>Age</th>\n",
       "      <th>SibSp</th>\n",
       "      <th>Parch</th>\n",
       "      <th>Fare</th>\n",
       "      <th>Embarked</th>\n",
       "    </tr>\n",
       "  </thead>\n",
       "  <tbody>\n",
       "    <tr>\n",
       "      <th>152</th>\n",
       "      <td>3</td>\n",
       "      <td>male</td>\n",
       "      <td>60.5</td>\n",
       "      <td>0</td>\n",
       "      <td>0</td>\n",
       "      <td>NaN</td>\n",
       "      <td>S</td>\n",
       "    </tr>\n",
       "  </tbody>\n",
       "</table>\n",
       "</div>"
      ],
      "text/plain": [
       "     Pclass   Sex   Age  SibSp  Parch  Fare Embarked\n",
       "152       3  male  60.5      0      0   NaN        S"
      ]
     },
     "execution_count": 25,
     "metadata": {},
     "output_type": "execute_result"
    }
   ],
   "source": [
    "df[df['Fare'].isna()]"
   ]
  },
  {
   "cell_type": "code",
   "execution_count": 26,
   "id": "d42b2bba",
   "metadata": {
    "execution": {
     "iopub.execute_input": "2024-03-13T05:54:37.363183Z",
     "iopub.status.busy": "2024-03-13T05:54:37.362139Z",
     "iopub.status.idle": "2024-03-13T05:54:37.369573Z",
     "shell.execute_reply": "2024-03-13T05:54:37.368277Z"
    },
    "papermill": {
     "duration": 0.044572,
     "end_time": "2024-03-13T05:54:37.372209",
     "exception": false,
     "start_time": "2024-03-13T05:54:37.327637",
     "status": "completed"
    },
    "tags": []
   },
   "outputs": [],
   "source": [
    "df['Fare'] = df.Fare.fillna(df.groupby('Parch').Fare.transform('mean'))"
   ]
  },
  {
   "cell_type": "code",
   "execution_count": 27,
   "id": "5a548c3f",
   "metadata": {
    "execution": {
     "iopub.execute_input": "2024-03-13T05:54:37.440245Z",
     "iopub.status.busy": "2024-03-13T05:54:37.439867Z",
     "iopub.status.idle": "2024-03-13T05:54:37.447372Z",
     "shell.execute_reply": "2024-03-13T05:54:37.445930Z"
    },
    "papermill": {
     "duration": 0.044766,
     "end_time": "2024-03-13T05:54:37.449967",
     "exception": false,
     "start_time": "2024-03-13T05:54:37.405201",
     "status": "completed"
    },
    "tags": []
   },
   "outputs": [
    {
     "name": "stderr",
     "output_type": "stream",
     "text": [
      "/tmp/ipykernel_18/394009545.py:1: FutureWarning: A value is trying to be set on a copy of a DataFrame or Series through chained assignment using an inplace method.\n",
      "The behavior will change in pandas 3.0. This inplace method will never work because the intermediate object on which we are setting values always behaves as a copy.\n",
      "\n",
      "For example, when doing 'df[col].method(value, inplace=True)', try using 'df.method({col: value}, inplace=True)' or df[col] = df[col].method(value) instead, to perform the operation inplace on the original object.\n",
      "\n",
      "\n",
      "  df['Embarked'].fillna(df['Embarked'].mode().item(), inplace=True)\n"
     ]
    }
   ],
   "source": [
    "df['Embarked'].fillna(df['Embarked'].mode().item(), inplace=True)"
   ]
  },
  {
   "cell_type": "code",
   "execution_count": 28,
   "id": "1d63b2ee",
   "metadata": {
    "execution": {
     "iopub.execute_input": "2024-03-13T05:54:37.518086Z",
     "iopub.status.busy": "2024-03-13T05:54:37.517328Z",
     "iopub.status.idle": "2024-03-13T05:54:37.525964Z",
     "shell.execute_reply": "2024-03-13T05:54:37.525071Z"
    },
    "papermill": {
     "duration": 0.045923,
     "end_time": "2024-03-13T05:54:37.528638",
     "exception": false,
     "start_time": "2024-03-13T05:54:37.482715",
     "status": "completed"
    },
    "tags": []
   },
   "outputs": [
    {
     "data": {
      "text/plain": [
       "Pclass      0\n",
       "Sex         0\n",
       "Age         0\n",
       "SibSp       0\n",
       "Parch       0\n",
       "Fare        0\n",
       "Embarked    0\n",
       "dtype: int64"
      ]
     },
     "execution_count": 28,
     "metadata": {},
     "output_type": "execute_result"
    }
   ],
   "source": [
    "df.isna().sum()"
   ]
  },
  {
   "cell_type": "markdown",
   "id": "b595a179",
   "metadata": {
    "papermill": {
     "duration": 0.033015,
     "end_time": "2024-03-13T05:54:37.594506",
     "exception": false,
     "start_time": "2024-03-13T05:54:37.561491",
     "status": "completed"
    },
    "tags": []
   },
   "source": [
    "## Работа с признаками"
   ]
  },
  {
   "cell_type": "code",
   "execution_count": 29,
   "id": "70fd3778",
   "metadata": {
    "execution": {
     "iopub.execute_input": "2024-03-13T05:54:37.662717Z",
     "iopub.status.busy": "2024-03-13T05:54:37.662002Z",
     "iopub.status.idle": "2024-03-13T05:54:37.667048Z",
     "shell.execute_reply": "2024-03-13T05:54:37.666054Z"
    },
    "papermill": {
     "duration": 0.041993,
     "end_time": "2024-03-13T05:54:37.669456",
     "exception": false,
     "start_time": "2024-03-13T05:54:37.627463",
     "status": "completed"
    },
    "tags": []
   },
   "outputs": [],
   "source": [
    "df['Pclass'] = df['Pclass'].astype(object)"
   ]
  },
  {
   "cell_type": "code",
   "execution_count": 30,
   "id": "a39d7a53",
   "metadata": {
    "execution": {
     "iopub.execute_input": "2024-03-13T05:54:37.739956Z",
     "iopub.status.busy": "2024-03-13T05:54:37.738778Z",
     "iopub.status.idle": "2024-03-13T05:54:37.745811Z",
     "shell.execute_reply": "2024-03-13T05:54:37.744738Z"
    },
    "papermill": {
     "duration": 0.045287,
     "end_time": "2024-03-13T05:54:37.748471",
     "exception": false,
     "start_time": "2024-03-13T05:54:37.703184",
     "status": "completed"
    },
    "tags": []
   },
   "outputs": [],
   "source": [
    "num_features = df.select_dtypes(exclude=object)\n",
    "categorical_features = df.select_dtypes(include=object)"
   ]
  },
  {
   "cell_type": "code",
   "execution_count": 31,
   "id": "871d6701",
   "metadata": {
    "execution": {
     "iopub.execute_input": "2024-03-13T05:54:37.816424Z",
     "iopub.status.busy": "2024-03-13T05:54:37.815474Z",
     "iopub.status.idle": "2024-03-13T05:54:37.829146Z",
     "shell.execute_reply": "2024-03-13T05:54:37.827883Z"
    },
    "papermill": {
     "duration": 0.050414,
     "end_time": "2024-03-13T05:54:37.831522",
     "exception": false,
     "start_time": "2024-03-13T05:54:37.781108",
     "status": "completed"
    },
    "tags": []
   },
   "outputs": [
    {
     "data": {
      "text/html": [
       "<div>\n",
       "<style scoped>\n",
       "    .dataframe tbody tr th:only-of-type {\n",
       "        vertical-align: middle;\n",
       "    }\n",
       "\n",
       "    .dataframe tbody tr th {\n",
       "        vertical-align: top;\n",
       "    }\n",
       "\n",
       "    .dataframe thead th {\n",
       "        text-align: right;\n",
       "    }\n",
       "</style>\n",
       "<table border=\"1\" class=\"dataframe\">\n",
       "  <thead>\n",
       "    <tr style=\"text-align: right;\">\n",
       "      <th></th>\n",
       "      <th>Age</th>\n",
       "      <th>SibSp</th>\n",
       "      <th>Parch</th>\n",
       "      <th>Fare</th>\n",
       "    </tr>\n",
       "  </thead>\n",
       "  <tbody>\n",
       "    <tr>\n",
       "      <th>0</th>\n",
       "      <td>22.0</td>\n",
       "      <td>1</td>\n",
       "      <td>0</td>\n",
       "      <td>7.2500</td>\n",
       "    </tr>\n",
       "    <tr>\n",
       "      <th>1</th>\n",
       "      <td>38.0</td>\n",
       "      <td>1</td>\n",
       "      <td>0</td>\n",
       "      <td>71.2833</td>\n",
       "    </tr>\n",
       "    <tr>\n",
       "      <th>2</th>\n",
       "      <td>26.0</td>\n",
       "      <td>0</td>\n",
       "      <td>0</td>\n",
       "      <td>7.9250</td>\n",
       "    </tr>\n",
       "    <tr>\n",
       "      <th>3</th>\n",
       "      <td>35.0</td>\n",
       "      <td>1</td>\n",
       "      <td>0</td>\n",
       "      <td>53.1000</td>\n",
       "    </tr>\n",
       "    <tr>\n",
       "      <th>4</th>\n",
       "      <td>35.0</td>\n",
       "      <td>0</td>\n",
       "      <td>0</td>\n",
       "      <td>8.0500</td>\n",
       "    </tr>\n",
       "  </tbody>\n",
       "</table>\n",
       "</div>"
      ],
      "text/plain": [
       "    Age  SibSp  Parch     Fare\n",
       "0  22.0      1      0   7.2500\n",
       "1  38.0      1      0  71.2833\n",
       "2  26.0      0      0   7.9250\n",
       "3  35.0      1      0  53.1000\n",
       "4  35.0      0      0   8.0500"
      ]
     },
     "execution_count": 31,
     "metadata": {},
     "output_type": "execute_result"
    }
   ],
   "source": [
    "num_features.head()"
   ]
  },
  {
   "cell_type": "code",
   "execution_count": 32,
   "id": "e4b072d0",
   "metadata": {
    "execution": {
     "iopub.execute_input": "2024-03-13T05:54:37.901340Z",
     "iopub.status.busy": "2024-03-13T05:54:37.900931Z",
     "iopub.status.idle": "2024-03-13T05:54:37.911703Z",
     "shell.execute_reply": "2024-03-13T05:54:37.910854Z"
    },
    "papermill": {
     "duration": 0.04802,
     "end_time": "2024-03-13T05:54:37.913796",
     "exception": false,
     "start_time": "2024-03-13T05:54:37.865776",
     "status": "completed"
    },
    "tags": []
   },
   "outputs": [
    {
     "data": {
      "text/html": [
       "<div>\n",
       "<style scoped>\n",
       "    .dataframe tbody tr th:only-of-type {\n",
       "        vertical-align: middle;\n",
       "    }\n",
       "\n",
       "    .dataframe tbody tr th {\n",
       "        vertical-align: top;\n",
       "    }\n",
       "\n",
       "    .dataframe thead th {\n",
       "        text-align: right;\n",
       "    }\n",
       "</style>\n",
       "<table border=\"1\" class=\"dataframe\">\n",
       "  <thead>\n",
       "    <tr style=\"text-align: right;\">\n",
       "      <th></th>\n",
       "      <th>Pclass</th>\n",
       "      <th>Sex</th>\n",
       "      <th>Embarked</th>\n",
       "    </tr>\n",
       "  </thead>\n",
       "  <tbody>\n",
       "    <tr>\n",
       "      <th>0</th>\n",
       "      <td>3</td>\n",
       "      <td>male</td>\n",
       "      <td>S</td>\n",
       "    </tr>\n",
       "    <tr>\n",
       "      <th>1</th>\n",
       "      <td>1</td>\n",
       "      <td>female</td>\n",
       "      <td>C</td>\n",
       "    </tr>\n",
       "    <tr>\n",
       "      <th>2</th>\n",
       "      <td>3</td>\n",
       "      <td>female</td>\n",
       "      <td>S</td>\n",
       "    </tr>\n",
       "    <tr>\n",
       "      <th>3</th>\n",
       "      <td>1</td>\n",
       "      <td>female</td>\n",
       "      <td>S</td>\n",
       "    </tr>\n",
       "    <tr>\n",
       "      <th>4</th>\n",
       "      <td>3</td>\n",
       "      <td>male</td>\n",
       "      <td>S</td>\n",
       "    </tr>\n",
       "  </tbody>\n",
       "</table>\n",
       "</div>"
      ],
      "text/plain": [
       "  Pclass     Sex Embarked\n",
       "0      3    male        S\n",
       "1      1  female        C\n",
       "2      3  female        S\n",
       "3      1  female        S\n",
       "4      3    male        S"
      ]
     },
     "execution_count": 32,
     "metadata": {},
     "output_type": "execute_result"
    }
   ],
   "source": [
    "categorical_features.head()"
   ]
  },
  {
   "cell_type": "code",
   "execution_count": 33,
   "id": "903626c7",
   "metadata": {
    "execution": {
     "iopub.execute_input": "2024-03-13T05:54:37.984082Z",
     "iopub.status.busy": "2024-03-13T05:54:37.982826Z",
     "iopub.status.idle": "2024-03-13T05:54:37.989025Z",
     "shell.execute_reply": "2024-03-13T05:54:37.987971Z"
    },
    "papermill": {
     "duration": 0.043872,
     "end_time": "2024-03-13T05:54:37.991525",
     "exception": false,
     "start_time": "2024-03-13T05:54:37.947653",
     "status": "completed"
    },
    "tags": []
   },
   "outputs": [],
   "source": [
    "def get_skew_kurt(df, col_name):\n",
    "    return df[col_name].skew(), df[col_name].kurt()"
   ]
  },
  {
   "cell_type": "code",
   "execution_count": 34,
   "id": "cc12308c",
   "metadata": {
    "execution": {
     "iopub.execute_input": "2024-03-13T05:54:38.062399Z",
     "iopub.status.busy": "2024-03-13T05:54:38.061652Z",
     "iopub.status.idle": "2024-03-13T05:54:38.069693Z",
     "shell.execute_reply": "2024-03-13T05:54:38.068794Z"
    },
    "papermill": {
     "duration": 0.046306,
     "end_time": "2024-03-13T05:54:38.072175",
     "exception": false,
     "start_time": "2024-03-13T05:54:38.025869",
     "status": "completed"
    },
    "tags": []
   },
   "outputs": [
    {
     "name": "stdout",
     "output_type": "stream",
     "text": [
      "Для признака Age: \n",
      " Ассиметрия: 0.5543405224121433;\n",
      " Эксцесс: 0.7436970771316789.\n",
      "Для признака SibSp: \n",
      " Ассиметрия: 3.844220342922907;\n",
      " Эксцесс: 20.043251498181696.\n",
      "Для признака Parch: \n",
      " Ассиметрия: 3.6690782036511136;\n",
      " Эксцесс: 21.541078870706258.\n",
      "Для признака Fare: \n",
      " Ассиметрия: 4.369590994919865;\n",
      " Эксцесс: 27.05183710212493.\n"
     ]
    }
   ],
   "source": [
    "# Проверка ассиметрии и эксцесса\n",
    "for col in num_features:\n",
    "    skew, kurtosis = get_skew_kurt(df, col)\n",
    "    print(f'Для признака {col}: \\n Ассиметрия: {skew};\\n Эксцесс: {kurtosis}.')"
   ]
  },
  {
   "cell_type": "code",
   "execution_count": 35,
   "id": "1ea9bb45",
   "metadata": {
    "execution": {
     "iopub.execute_input": "2024-03-13T05:54:38.143868Z",
     "iopub.status.busy": "2024-03-13T05:54:38.142856Z",
     "iopub.status.idle": "2024-03-13T05:54:38.154429Z",
     "shell.execute_reply": "2024-03-13T05:54:38.153289Z"
    },
    "papermill": {
     "duration": 0.050548,
     "end_time": "2024-03-13T05:54:38.157383",
     "exception": false,
     "start_time": "2024-03-13T05:54:38.106835",
     "status": "completed"
    },
    "tags": []
   },
   "outputs": [
    {
     "name": "stdout",
     "output_type": "stream",
     "text": [
      "Для признака Age: \n",
      " Ассиметрия: -2.202354760811611;\n",
      " Эксцесс: 7.023162786493192.\n",
      "Для признака SibSp: \n",
      " Ассиметрия: 1.6368209762926682;\n",
      " Эксцесс: 2.491579626568578.\n",
      "Для признака Parch: \n",
      " Ассиметрия: 1.7897621054936539;\n",
      " Эксцесс: 2.421530342474208.\n",
      "Для признака Fare: \n",
      " Ассиметрия: 0.541274691632607;\n",
      " Эксцесс: 0.8554240949388485.\n"
     ]
    }
   ],
   "source": [
    "# Логорифмирование признаков\n",
    "for col in num_features:\n",
    "    if df[col].skew() > .5:\n",
    "        df[col] = np.log1p(df[col])\n",
    "    skew, kurtosis = get_skew_kurt(df, col)\n",
    "    print(f'Для признака {col}: \\n Ассиметрия: {skew};\\n Эксцесс: {kurtosis}.')"
   ]
  },
  {
   "cell_type": "markdown",
   "id": "68d9f5fd",
   "metadata": {
    "execution": {
     "iopub.execute_input": "2024-03-12T12:56:30.146328Z",
     "iopub.status.busy": "2024-03-12T12:56:30.145993Z",
     "iopub.status.idle": "2024-03-12T12:56:30.162295Z",
     "shell.execute_reply": "2024-03-12T12:56:30.161278Z",
     "shell.execute_reply.started": "2024-03-12T12:56:30.146298Z"
    },
    "papermill": {
     "duration": 0.033355,
     "end_time": "2024-03-13T05:54:38.224276",
     "exception": false,
     "start_time": "2024-03-13T05:54:38.190921",
     "status": "completed"
    },
    "tags": []
   },
   "source": [
    "## Подготовка данных к обучению"
   ]
  },
  {
   "cell_type": "code",
   "execution_count": 36,
   "id": "d9133fb9",
   "metadata": {
    "execution": {
     "iopub.execute_input": "2024-03-13T05:54:38.293869Z",
     "iopub.status.busy": "2024-03-13T05:54:38.293083Z",
     "iopub.status.idle": "2024-03-13T05:54:38.297898Z",
     "shell.execute_reply": "2024-03-13T05:54:38.296917Z"
    },
    "papermill": {
     "duration": 0.042464,
     "end_time": "2024-03-13T05:54:38.300406",
     "exception": false,
     "start_time": "2024-03-13T05:54:38.257942",
     "status": "completed"
    },
    "tags": []
   },
   "outputs": [],
   "source": [
    "X = df[:titanic.shape[0]]\n",
    "y = titanic['Survived']"
   ]
  },
  {
   "cell_type": "code",
   "execution_count": 37,
   "id": "e169aa7d",
   "metadata": {
    "execution": {
     "iopub.execute_input": "2024-03-13T05:54:38.370914Z",
     "iopub.status.busy": "2024-03-13T05:54:38.370474Z",
     "iopub.status.idle": "2024-03-13T05:54:38.376656Z",
     "shell.execute_reply": "2024-03-13T05:54:38.375649Z"
    },
    "papermill": {
     "duration": 0.04414,
     "end_time": "2024-03-13T05:54:38.378839",
     "exception": false,
     "start_time": "2024-03-13T05:54:38.334699",
     "status": "completed"
    },
    "tags": []
   },
   "outputs": [
    {
     "data": {
      "text/plain": [
       "((891, 7), (891,))"
      ]
     },
     "execution_count": 37,
     "metadata": {},
     "output_type": "execute_result"
    }
   ],
   "source": [
    "X.shape, y.shape"
   ]
  },
  {
   "cell_type": "code",
   "execution_count": 38,
   "id": "572c7b90",
   "metadata": {
    "execution": {
     "iopub.execute_input": "2024-03-13T05:54:38.450852Z",
     "iopub.status.busy": "2024-03-13T05:54:38.450115Z",
     "iopub.status.idle": "2024-03-13T05:54:38.458809Z",
     "shell.execute_reply": "2024-03-13T05:54:38.457682Z"
    },
    "papermill": {
     "duration": 0.047032,
     "end_time": "2024-03-13T05:54:38.461174",
     "exception": false,
     "start_time": "2024-03-13T05:54:38.414142",
     "status": "completed"
    },
    "tags": []
   },
   "outputs": [],
   "source": [
    "X_train, X_test, y_train, y_test = train_test_split(X, y, test_size=.33, random_state=77)"
   ]
  },
  {
   "cell_type": "code",
   "execution_count": 39,
   "id": "b8183fa6",
   "metadata": {
    "execution": {
     "iopub.execute_input": "2024-03-13T05:54:38.530720Z",
     "iopub.status.busy": "2024-03-13T05:54:38.529977Z",
     "iopub.status.idle": "2024-03-13T05:54:38.536424Z",
     "shell.execute_reply": "2024-03-13T05:54:38.535501Z"
    },
    "papermill": {
     "duration": 0.043664,
     "end_time": "2024-03-13T05:54:38.538585",
     "exception": false,
     "start_time": "2024-03-13T05:54:38.494921",
     "status": "completed"
    },
    "tags": []
   },
   "outputs": [
    {
     "data": {
      "text/plain": [
       "((596, 7), (295, 7), (596,), (295,))"
      ]
     },
     "execution_count": 39,
     "metadata": {},
     "output_type": "execute_result"
    }
   ],
   "source": [
    "X_train.shape, X_test.shape, y_train.shape, y_test.shape"
   ]
  },
  {
   "cell_type": "markdown",
   "id": "8ff12cee",
   "metadata": {
    "papermill": {
     "duration": 0.033546,
     "end_time": "2024-03-13T05:54:38.606134",
     "exception": false,
     "start_time": "2024-03-13T05:54:38.572588",
     "status": "completed"
    },
    "tags": []
   },
   "source": [
    "## CatBoostClassifier stock model"
   ]
  },
  {
   "cell_type": "code",
   "execution_count": 40,
   "id": "16370a15",
   "metadata": {
    "execution": {
     "iopub.execute_input": "2024-03-13T05:54:38.676016Z",
     "iopub.status.busy": "2024-03-13T05:54:38.675306Z",
     "iopub.status.idle": "2024-03-13T05:54:38.679838Z",
     "shell.execute_reply": "2024-03-13T05:54:38.678937Z"
    },
    "papermill": {
     "duration": 0.042286,
     "end_time": "2024-03-13T05:54:38.682136",
     "exception": false,
     "start_time": "2024-03-13T05:54:38.639850",
     "status": "completed"
    },
    "tags": []
   },
   "outputs": [],
   "source": [
    "categorical_num = [X_train.columns.get_loc(col) for col in categorical_features]"
   ]
  },
  {
   "cell_type": "code",
   "execution_count": 41,
   "id": "2d134e6b",
   "metadata": {
    "execution": {
     "iopub.execute_input": "2024-03-13T05:54:38.755101Z",
     "iopub.status.busy": "2024-03-13T05:54:38.754286Z",
     "iopub.status.idle": "2024-03-13T05:54:38.762079Z",
     "shell.execute_reply": "2024-03-13T05:54:38.761207Z"
    },
    "papermill": {
     "duration": 0.045891,
     "end_time": "2024-03-13T05:54:38.764582",
     "exception": false,
     "start_time": "2024-03-13T05:54:38.718691",
     "status": "completed"
    },
    "tags": []
   },
   "outputs": [],
   "source": [
    "cbc = CatBoostClassifier(cat_features=categorical_num, loss_function='Logloss')"
   ]
  },
  {
   "cell_type": "code",
   "execution_count": 42,
   "id": "5d8a3dc4",
   "metadata": {
    "execution": {
     "iopub.execute_input": "2024-03-13T05:54:38.835280Z",
     "iopub.status.busy": "2024-03-13T05:54:38.834893Z",
     "iopub.status.idle": "2024-03-13T05:54:41.611286Z",
     "shell.execute_reply": "2024-03-13T05:54:41.610026Z"
    },
    "papermill": {
     "duration": 2.814478,
     "end_time": "2024-03-13T05:54:41.613851",
     "exception": false,
     "start_time": "2024-03-13T05:54:38.799373",
     "status": "completed"
    },
    "scrolled": true,
    "tags": []
   },
   "outputs": [
    {
     "name": "stdout",
     "output_type": "stream",
     "text": [
      "Learning rate set to 0.00826\n",
      "0:\tlearn: 0.6877089\ttotal: 60ms\tremaining: 60s\n",
      "1:\tlearn: 0.6834311\ttotal: 63.5ms\tremaining: 31.7s\n",
      "2:\tlearn: 0.6796286\ttotal: 65.6ms\tremaining: 21.8s\n",
      "3:\tlearn: 0.6748089\ttotal: 68.5ms\tremaining: 17.1s\n",
      "4:\tlearn: 0.6707192\ttotal: 71.2ms\tremaining: 14.2s\n",
      "5:\tlearn: 0.6665978\ttotal: 74.2ms\tremaining: 12.3s\n",
      "6:\tlearn: 0.6618933\ttotal: 76.8ms\tremaining: 10.9s\n",
      "7:\tlearn: 0.6579590\ttotal: 78.5ms\tremaining: 9.73s\n",
      "8:\tlearn: 0.6540557\ttotal: 81.1ms\tremaining: 8.93s\n",
      "9:\tlearn: 0.6495125\ttotal: 84.1ms\tremaining: 8.33s\n",
      "10:\tlearn: 0.6459478\ttotal: 86.4ms\tremaining: 7.77s\n",
      "11:\tlearn: 0.6422058\ttotal: 88.9ms\tremaining: 7.32s\n",
      "12:\tlearn: 0.6384360\ttotal: 90.9ms\tremaining: 6.9s\n",
      "13:\tlearn: 0.6347751\ttotal: 93.5ms\tremaining: 6.58s\n",
      "14:\tlearn: 0.6303398\ttotal: 95.7ms\tremaining: 6.28s\n",
      "15:\tlearn: 0.6257943\ttotal: 97.8ms\tremaining: 6.02s\n",
      "16:\tlearn: 0.6228014\ttotal: 99.6ms\tremaining: 5.76s\n",
      "17:\tlearn: 0.6189286\ttotal: 102ms\tremaining: 5.55s\n",
      "18:\tlearn: 0.6157730\ttotal: 103ms\tremaining: 5.34s\n",
      "19:\tlearn: 0.6117804\ttotal: 106ms\tremaining: 5.2s\n",
      "20:\tlearn: 0.6080598\ttotal: 109ms\tremaining: 5.07s\n",
      "21:\tlearn: 0.6053025\ttotal: 111ms\tremaining: 4.92s\n",
      "22:\tlearn: 0.6018877\ttotal: 113ms\tremaining: 4.81s\n",
      "23:\tlearn: 0.5983516\ttotal: 116ms\tremaining: 4.7s\n",
      "24:\tlearn: 0.5950269\ttotal: 118ms\tremaining: 4.59s\n",
      "25:\tlearn: 0.5919393\ttotal: 119ms\tremaining: 4.48s\n",
      "26:\tlearn: 0.5884602\ttotal: 122ms\tremaining: 4.39s\n",
      "27:\tlearn: 0.5855321\ttotal: 124ms\tremaining: 4.32s\n",
      "28:\tlearn: 0.5835986\ttotal: 126ms\tremaining: 4.22s\n",
      "29:\tlearn: 0.5809520\ttotal: 129ms\tremaining: 4.16s\n",
      "30:\tlearn: 0.5794505\ttotal: 130ms\tremaining: 4.07s\n",
      "31:\tlearn: 0.5761293\ttotal: 133ms\tremaining: 4.01s\n",
      "32:\tlearn: 0.5730227\ttotal: 136ms\tremaining: 3.98s\n",
      "33:\tlearn: 0.5699045\ttotal: 139ms\tremaining: 3.94s\n",
      "34:\tlearn: 0.5675540\ttotal: 141ms\tremaining: 3.89s\n",
      "35:\tlearn: 0.5651720\ttotal: 143ms\tremaining: 3.83s\n",
      "36:\tlearn: 0.5622456\ttotal: 145ms\tremaining: 3.78s\n",
      "37:\tlearn: 0.5600848\ttotal: 147ms\tremaining: 3.72s\n",
      "38:\tlearn: 0.5573788\ttotal: 149ms\tremaining: 3.68s\n",
      "39:\tlearn: 0.5559041\ttotal: 152ms\tremaining: 3.64s\n",
      "40:\tlearn: 0.5532328\ttotal: 154ms\tremaining: 3.6s\n",
      "41:\tlearn: 0.5500148\ttotal: 157ms\tremaining: 3.57s\n",
      "42:\tlearn: 0.5479129\ttotal: 159ms\tremaining: 3.54s\n",
      "43:\tlearn: 0.5457581\ttotal: 161ms\tremaining: 3.5s\n",
      "44:\tlearn: 0.5435704\ttotal: 163ms\tremaining: 3.47s\n",
      "45:\tlearn: 0.5410226\ttotal: 166ms\tremaining: 3.44s\n",
      "46:\tlearn: 0.5393325\ttotal: 168ms\tremaining: 3.4s\n",
      "47:\tlearn: 0.5370499\ttotal: 171ms\tremaining: 3.38s\n",
      "48:\tlearn: 0.5344372\ttotal: 173ms\tremaining: 3.36s\n",
      "49:\tlearn: 0.5321623\ttotal: 176ms\tremaining: 3.34s\n",
      "50:\tlearn: 0.5298460\ttotal: 178ms\tremaining: 3.32s\n",
      "51:\tlearn: 0.5276746\ttotal: 182ms\tremaining: 3.31s\n",
      "52:\tlearn: 0.5260020\ttotal: 185ms\tremaining: 3.3s\n",
      "53:\tlearn: 0.5236007\ttotal: 187ms\tremaining: 3.28s\n",
      "54:\tlearn: 0.5216388\ttotal: 189ms\tremaining: 3.25s\n",
      "55:\tlearn: 0.5194253\ttotal: 191ms\tremaining: 3.23s\n",
      "56:\tlearn: 0.5177407\ttotal: 194ms\tremaining: 3.21s\n",
      "57:\tlearn: 0.5158505\ttotal: 197ms\tremaining: 3.19s\n",
      "58:\tlearn: 0.5143222\ttotal: 198ms\tremaining: 3.16s\n",
      "59:\tlearn: 0.5126634\ttotal: 201ms\tremaining: 3.15s\n",
      "60:\tlearn: 0.5107480\ttotal: 203ms\tremaining: 3.13s\n",
      "61:\tlearn: 0.5088857\ttotal: 205ms\tremaining: 3.11s\n",
      "62:\tlearn: 0.5078231\ttotal: 207ms\tremaining: 3.08s\n",
      "63:\tlearn: 0.5070730\ttotal: 209ms\tremaining: 3.06s\n",
      "64:\tlearn: 0.5054355\ttotal: 211ms\tremaining: 3.03s\n",
      "65:\tlearn: 0.5035412\ttotal: 214ms\tremaining: 3.03s\n",
      "66:\tlearn: 0.5021106\ttotal: 216ms\tremaining: 3s\n",
      "67:\tlearn: 0.5005189\ttotal: 218ms\tremaining: 2.99s\n",
      "68:\tlearn: 0.4987422\ttotal: 221ms\tremaining: 2.98s\n",
      "69:\tlearn: 0.4971468\ttotal: 223ms\tremaining: 2.96s\n",
      "70:\tlearn: 0.4953937\ttotal: 226ms\tremaining: 2.96s\n",
      "71:\tlearn: 0.4941921\ttotal: 228ms\tremaining: 2.94s\n",
      "72:\tlearn: 0.4932786\ttotal: 230ms\tremaining: 2.92s\n",
      "73:\tlearn: 0.4916722\ttotal: 232ms\tremaining: 2.9s\n",
      "74:\tlearn: 0.4902174\ttotal: 235ms\tremaining: 2.9s\n",
      "75:\tlearn: 0.4889039\ttotal: 237ms\tremaining: 2.88s\n",
      "76:\tlearn: 0.4873684\ttotal: 240ms\tremaining: 2.87s\n",
      "77:\tlearn: 0.4870680\ttotal: 241ms\tremaining: 2.85s\n",
      "78:\tlearn: 0.4853923\ttotal: 244ms\tremaining: 2.84s\n",
      "79:\tlearn: 0.4840051\ttotal: 246ms\tremaining: 2.83s\n",
      "80:\tlearn: 0.4822854\ttotal: 249ms\tremaining: 2.82s\n",
      "81:\tlearn: 0.4809906\ttotal: 251ms\tremaining: 2.81s\n",
      "82:\tlearn: 0.4801464\ttotal: 254ms\tremaining: 2.8s\n",
      "83:\tlearn: 0.4786056\ttotal: 256ms\tremaining: 2.79s\n",
      "84:\tlearn: 0.4770494\ttotal: 259ms\tremaining: 2.79s\n",
      "85:\tlearn: 0.4758749\ttotal: 261ms\tremaining: 2.78s\n",
      "86:\tlearn: 0.4746840\ttotal: 264ms\tremaining: 2.77s\n",
      "87:\tlearn: 0.4736207\ttotal: 266ms\tremaining: 2.76s\n",
      "88:\tlearn: 0.4725123\ttotal: 269ms\tremaining: 2.75s\n",
      "89:\tlearn: 0.4710418\ttotal: 271ms\tremaining: 2.74s\n",
      "90:\tlearn: 0.4700383\ttotal: 274ms\tremaining: 2.73s\n",
      "91:\tlearn: 0.4689440\ttotal: 276ms\tremaining: 2.72s\n",
      "92:\tlearn: 0.4674186\ttotal: 278ms\tremaining: 2.71s\n",
      "93:\tlearn: 0.4660138\ttotal: 281ms\tremaining: 2.71s\n",
      "94:\tlearn: 0.4648597\ttotal: 284ms\tremaining: 2.7s\n",
      "95:\tlearn: 0.4632165\ttotal: 286ms\tremaining: 2.69s\n",
      "96:\tlearn: 0.4619130\ttotal: 289ms\tremaining: 2.69s\n",
      "97:\tlearn: 0.4609652\ttotal: 291ms\tremaining: 2.68s\n",
      "98:\tlearn: 0.4605944\ttotal: 293ms\tremaining: 2.66s\n",
      "99:\tlearn: 0.4602301\ttotal: 294ms\tremaining: 2.65s\n",
      "100:\tlearn: 0.4590266\ttotal: 296ms\tremaining: 2.64s\n",
      "101:\tlearn: 0.4585803\ttotal: 298ms\tremaining: 2.63s\n",
      "102:\tlearn: 0.4582794\ttotal: 300ms\tremaining: 2.61s\n",
      "103:\tlearn: 0.4571859\ttotal: 302ms\tremaining: 2.6s\n",
      "104:\tlearn: 0.4560555\ttotal: 305ms\tremaining: 2.6s\n",
      "105:\tlearn: 0.4550597\ttotal: 307ms\tremaining: 2.59s\n",
      "106:\tlearn: 0.4543608\ttotal: 309ms\tremaining: 2.57s\n",
      "107:\tlearn: 0.4537973\ttotal: 311ms\tremaining: 2.57s\n",
      "108:\tlearn: 0.4527275\ttotal: 314ms\tremaining: 2.56s\n",
      "109:\tlearn: 0.4520662\ttotal: 315ms\tremaining: 2.55s\n",
      "110:\tlearn: 0.4509519\ttotal: 318ms\tremaining: 2.55s\n",
      "111:\tlearn: 0.4500873\ttotal: 321ms\tremaining: 2.54s\n",
      "112:\tlearn: 0.4497070\ttotal: 323ms\tremaining: 2.54s\n",
      "113:\tlearn: 0.4487936\ttotal: 326ms\tremaining: 2.53s\n",
      "114:\tlearn: 0.4479502\ttotal: 328ms\tremaining: 2.52s\n",
      "115:\tlearn: 0.4468178\ttotal: 331ms\tremaining: 2.52s\n",
      "116:\tlearn: 0.4460848\ttotal: 333ms\tremaining: 2.51s\n",
      "117:\tlearn: 0.4450357\ttotal: 336ms\tremaining: 2.51s\n",
      "118:\tlearn: 0.4440784\ttotal: 338ms\tremaining: 2.5s\n",
      "119:\tlearn: 0.4428891\ttotal: 340ms\tremaining: 2.5s\n",
      "120:\tlearn: 0.4425575\ttotal: 342ms\tremaining: 2.49s\n",
      "121:\tlearn: 0.4421207\ttotal: 344ms\tremaining: 2.48s\n",
      "122:\tlearn: 0.4412057\ttotal: 346ms\tremaining: 2.47s\n",
      "123:\tlearn: 0.4406178\ttotal: 349ms\tremaining: 2.46s\n",
      "124:\tlearn: 0.4402239\ttotal: 350ms\tremaining: 2.45s\n",
      "125:\tlearn: 0.4395706\ttotal: 353ms\tremaining: 2.45s\n",
      "126:\tlearn: 0.4389905\ttotal: 355ms\tremaining: 2.44s\n",
      "127:\tlearn: 0.4386282\ttotal: 357ms\tremaining: 2.43s\n",
      "128:\tlearn: 0.4379459\ttotal: 359ms\tremaining: 2.42s\n",
      "129:\tlearn: 0.4372913\ttotal: 362ms\tremaining: 2.42s\n",
      "130:\tlearn: 0.4366556\ttotal: 364ms\tremaining: 2.42s\n",
      "131:\tlearn: 0.4358100\ttotal: 367ms\tremaining: 2.41s\n",
      "132:\tlearn: 0.4348884\ttotal: 369ms\tremaining: 2.41s\n",
      "133:\tlearn: 0.4338396\ttotal: 372ms\tremaining: 2.4s\n",
      "134:\tlearn: 0.4330731\ttotal: 377ms\tremaining: 2.42s\n",
      "135:\tlearn: 0.4324625\ttotal: 380ms\tremaining: 2.41s\n",
      "136:\tlearn: 0.4317674\ttotal: 382ms\tremaining: 2.41s\n",
      "137:\tlearn: 0.4313731\ttotal: 384ms\tremaining: 2.4s\n",
      "138:\tlearn: 0.4310112\ttotal: 386ms\tremaining: 2.39s\n",
      "139:\tlearn: 0.4302429\ttotal: 388ms\tremaining: 2.38s\n",
      "140:\tlearn: 0.4296646\ttotal: 390ms\tremaining: 2.38s\n",
      "141:\tlearn: 0.4287057\ttotal: 392ms\tremaining: 2.37s\n",
      "142:\tlearn: 0.4279584\ttotal: 394ms\tremaining: 2.36s\n",
      "143:\tlearn: 0.4277945\ttotal: 396ms\tremaining: 2.35s\n",
      "144:\tlearn: 0.4270201\ttotal: 398ms\tremaining: 2.35s\n",
      "145:\tlearn: 0.4263985\ttotal: 400ms\tremaining: 2.34s\n",
      "146:\tlearn: 0.4257395\ttotal: 402ms\tremaining: 2.33s\n",
      "147:\tlearn: 0.4249061\ttotal: 404ms\tremaining: 2.33s\n",
      "148:\tlearn: 0.4243422\ttotal: 406ms\tremaining: 2.32s\n",
      "149:\tlearn: 0.4240430\ttotal: 409ms\tremaining: 2.31s\n",
      "150:\tlearn: 0.4236134\ttotal: 411ms\tremaining: 2.31s\n",
      "151:\tlearn: 0.4235753\ttotal: 412ms\tremaining: 2.3s\n",
      "152:\tlearn: 0.4233811\ttotal: 414ms\tremaining: 2.29s\n",
      "153:\tlearn: 0.4228899\ttotal: 416ms\tremaining: 2.28s\n",
      "154:\tlearn: 0.4223627\ttotal: 418ms\tremaining: 2.28s\n",
      "155:\tlearn: 0.4217485\ttotal: 420ms\tremaining: 2.27s\n",
      "156:\tlearn: 0.4214279\ttotal: 422ms\tremaining: 2.26s\n",
      "157:\tlearn: 0.4210553\ttotal: 424ms\tremaining: 2.26s\n",
      "158:\tlearn: 0.4205315\ttotal: 426ms\tremaining: 2.25s\n",
      "159:\tlearn: 0.4200390\ttotal: 428ms\tremaining: 2.25s\n",
      "160:\tlearn: 0.4194820\ttotal: 430ms\tremaining: 2.24s\n",
      "161:\tlearn: 0.4190923\ttotal: 432ms\tremaining: 2.23s\n",
      "162:\tlearn: 0.4184442\ttotal: 434ms\tremaining: 2.23s\n",
      "163:\tlearn: 0.4181358\ttotal: 436ms\tremaining: 2.22s\n",
      "164:\tlearn: 0.4175337\ttotal: 438ms\tremaining: 2.21s\n",
      "165:\tlearn: 0.4171506\ttotal: 440ms\tremaining: 2.21s\n",
      "166:\tlearn: 0.4166530\ttotal: 442ms\tremaining: 2.2s\n",
      "167:\tlearn: 0.4161625\ttotal: 444ms\tremaining: 2.2s\n",
      "168:\tlearn: 0.4155832\ttotal: 446ms\tremaining: 2.19s\n",
      "169:\tlearn: 0.4154023\ttotal: 448ms\tremaining: 2.19s\n",
      "170:\tlearn: 0.4149064\ttotal: 450ms\tremaining: 2.18s\n",
      "171:\tlearn: 0.4143217\ttotal: 452ms\tremaining: 2.17s\n",
      "172:\tlearn: 0.4139144\ttotal: 454ms\tremaining: 2.17s\n",
      "173:\tlearn: 0.4135299\ttotal: 456ms\tremaining: 2.16s\n",
      "174:\tlearn: 0.4131080\ttotal: 459ms\tremaining: 2.16s\n",
      "175:\tlearn: 0.4127543\ttotal: 461ms\tremaining: 2.16s\n",
      "176:\tlearn: 0.4122513\ttotal: 463ms\tremaining: 2.15s\n",
      "177:\tlearn: 0.4117692\ttotal: 466ms\tremaining: 2.15s\n",
      "178:\tlearn: 0.4115541\ttotal: 468ms\tremaining: 2.14s\n",
      "179:\tlearn: 0.4110654\ttotal: 470ms\tremaining: 2.14s\n",
      "180:\tlearn: 0.4109454\ttotal: 472ms\tremaining: 2.13s\n",
      "181:\tlearn: 0.4106724\ttotal: 474ms\tremaining: 2.13s\n",
      "182:\tlearn: 0.4103697\ttotal: 476ms\tremaining: 2.13s\n",
      "183:\tlearn: 0.4099665\ttotal: 479ms\tremaining: 2.12s\n",
      "184:\tlearn: 0.4096030\ttotal: 481ms\tremaining: 2.12s\n",
      "185:\tlearn: 0.4090597\ttotal: 484ms\tremaining: 2.12s\n",
      "186:\tlearn: 0.4085946\ttotal: 487ms\tremaining: 2.12s\n",
      "187:\tlearn: 0.4081188\ttotal: 489ms\tremaining: 2.11s\n",
      "188:\tlearn: 0.4078684\ttotal: 491ms\tremaining: 2.11s\n",
      "189:\tlearn: 0.4073380\ttotal: 493ms\tremaining: 2.1s\n",
      "190:\tlearn: 0.4066806\ttotal: 496ms\tremaining: 2.1s\n",
      "191:\tlearn: 0.4061696\ttotal: 499ms\tremaining: 2.1s\n",
      "192:\tlearn: 0.4058012\ttotal: 501ms\tremaining: 2.1s\n",
      "193:\tlearn: 0.4054005\ttotal: 504ms\tremaining: 2.09s\n",
      "194:\tlearn: 0.4050356\ttotal: 506ms\tremaining: 2.09s\n",
      "195:\tlearn: 0.4046826\ttotal: 508ms\tremaining: 2.08s\n",
      "196:\tlearn: 0.4044095\ttotal: 511ms\tremaining: 2.08s\n",
      "197:\tlearn: 0.4037885\ttotal: 513ms\tremaining: 2.08s\n",
      "198:\tlearn: 0.4032287\ttotal: 516ms\tremaining: 2.08s\n",
      "199:\tlearn: 0.4025445\ttotal: 519ms\tremaining: 2.07s\n",
      "200:\tlearn: 0.4023588\ttotal: 521ms\tremaining: 2.07s\n",
      "201:\tlearn: 0.4021566\ttotal: 523ms\tremaining: 2.06s\n",
      "202:\tlearn: 0.4016436\ttotal: 525ms\tremaining: 2.06s\n",
      "203:\tlearn: 0.4015837\ttotal: 527ms\tremaining: 2.06s\n",
      "204:\tlearn: 0.4011293\ttotal: 529ms\tremaining: 2.05s\n",
      "205:\tlearn: 0.4009014\ttotal: 532ms\tremaining: 2.05s\n",
      "206:\tlearn: 0.4008246\ttotal: 534ms\tremaining: 2.04s\n",
      "207:\tlearn: 0.4002757\ttotal: 536ms\tremaining: 2.04s\n",
      "208:\tlearn: 0.3996717\ttotal: 538ms\tremaining: 2.04s\n",
      "209:\tlearn: 0.3995200\ttotal: 541ms\tremaining: 2.03s\n",
      "210:\tlearn: 0.3991985\ttotal: 543ms\tremaining: 2.03s\n",
      "211:\tlearn: 0.3987550\ttotal: 546ms\tremaining: 2.03s\n",
      "212:\tlearn: 0.3982909\ttotal: 548ms\tremaining: 2.02s\n",
      "213:\tlearn: 0.3978527\ttotal: 551ms\tremaining: 2.02s\n",
      "214:\tlearn: 0.3975116\ttotal: 553ms\tremaining: 2.02s\n",
      "215:\tlearn: 0.3972701\ttotal: 556ms\tremaining: 2.02s\n",
      "216:\tlearn: 0.3971829\ttotal: 558ms\tremaining: 2.02s\n",
      "217:\tlearn: 0.3967570\ttotal: 561ms\tremaining: 2.01s\n",
      "218:\tlearn: 0.3963280\ttotal: 564ms\tremaining: 2.01s\n",
      "219:\tlearn: 0.3962603\ttotal: 565ms\tremaining: 2s\n",
      "220:\tlearn: 0.3958220\ttotal: 568ms\tremaining: 2s\n",
      "221:\tlearn: 0.3953458\ttotal: 572ms\tremaining: 2s\n",
      "222:\tlearn: 0.3948024\ttotal: 575ms\tremaining: 2s\n",
      "223:\tlearn: 0.3943970\ttotal: 577ms\tremaining: 2s\n",
      "224:\tlearn: 0.3940777\ttotal: 579ms\tremaining: 2s\n",
      "225:\tlearn: 0.3939821\ttotal: 581ms\tremaining: 1.99s\n",
      "226:\tlearn: 0.3937896\ttotal: 583ms\tremaining: 1.99s\n",
      "227:\tlearn: 0.3935119\ttotal: 586ms\tremaining: 1.98s\n",
      "228:\tlearn: 0.3930720\ttotal: 588ms\tremaining: 1.98s\n",
      "229:\tlearn: 0.3928185\ttotal: 590ms\tremaining: 1.98s\n",
      "230:\tlearn: 0.3927858\ttotal: 592ms\tremaining: 1.97s\n",
      "231:\tlearn: 0.3925101\ttotal: 594ms\tremaining: 1.97s\n",
      "232:\tlearn: 0.3921830\ttotal: 597ms\tremaining: 1.96s\n",
      "233:\tlearn: 0.3918878\ttotal: 599ms\tremaining: 1.96s\n",
      "234:\tlearn: 0.3916339\ttotal: 602ms\tremaining: 1.96s\n",
      "235:\tlearn: 0.3914183\ttotal: 604ms\tremaining: 1.95s\n",
      "236:\tlearn: 0.3910426\ttotal: 606ms\tremaining: 1.95s\n",
      "237:\tlearn: 0.3908876\ttotal: 609ms\tremaining: 1.95s\n",
      "238:\tlearn: 0.3907482\ttotal: 611ms\tremaining: 1.94s\n",
      "239:\tlearn: 0.3906172\ttotal: 613ms\tremaining: 1.94s\n",
      "240:\tlearn: 0.3905731\ttotal: 615ms\tremaining: 1.94s\n",
      "241:\tlearn: 0.3903449\ttotal: 617ms\tremaining: 1.93s\n",
      "242:\tlearn: 0.3900851\ttotal: 619ms\tremaining: 1.93s\n",
      "243:\tlearn: 0.3898074\ttotal: 621ms\tremaining: 1.93s\n",
      "244:\tlearn: 0.3894422\ttotal: 623ms\tremaining: 1.92s\n",
      "245:\tlearn: 0.3892622\ttotal: 626ms\tremaining: 1.92s\n",
      "246:\tlearn: 0.3889923\ttotal: 628ms\tremaining: 1.92s\n",
      "247:\tlearn: 0.3889159\ttotal: 630ms\tremaining: 1.91s\n",
      "248:\tlearn: 0.3888033\ttotal: 632ms\tremaining: 1.91s\n",
      "249:\tlearn: 0.3887477\ttotal: 634ms\tremaining: 1.9s\n",
      "250:\tlearn: 0.3884220\ttotal: 636ms\tremaining: 1.9s\n",
      "251:\tlearn: 0.3884148\ttotal: 638ms\tremaining: 1.89s\n",
      "252:\tlearn: 0.3877885\ttotal: 640ms\tremaining: 1.89s\n",
      "253:\tlearn: 0.3877553\ttotal: 641ms\tremaining: 1.88s\n",
      "254:\tlearn: 0.3874367\ttotal: 644ms\tremaining: 1.88s\n",
      "255:\tlearn: 0.3873107\ttotal: 646ms\tremaining: 1.88s\n",
      "256:\tlearn: 0.3869727\ttotal: 649ms\tremaining: 1.88s\n",
      "257:\tlearn: 0.3866580\ttotal: 651ms\tremaining: 1.87s\n",
      "258:\tlearn: 0.3863373\ttotal: 653ms\tremaining: 1.87s\n",
      "259:\tlearn: 0.3859767\ttotal: 656ms\tremaining: 1.86s\n",
      "260:\tlearn: 0.3858466\ttotal: 657ms\tremaining: 1.86s\n",
      "261:\tlearn: 0.3855757\ttotal: 660ms\tremaining: 1.86s\n",
      "262:\tlearn: 0.3855387\ttotal: 662ms\tremaining: 1.85s\n",
      "263:\tlearn: 0.3851284\ttotal: 664ms\tremaining: 1.85s\n",
      "264:\tlearn: 0.3849157\ttotal: 669ms\tremaining: 1.85s\n",
      "265:\tlearn: 0.3845300\ttotal: 671ms\tremaining: 1.85s\n",
      "266:\tlearn: 0.3842645\ttotal: 674ms\tremaining: 1.85s\n",
      "267:\tlearn: 0.3840627\ttotal: 676ms\tremaining: 1.85s\n",
      "268:\tlearn: 0.3838519\ttotal: 679ms\tremaining: 1.84s\n",
      "269:\tlearn: 0.3835339\ttotal: 681ms\tremaining: 1.84s\n",
      "270:\tlearn: 0.3833966\ttotal: 684ms\tremaining: 1.84s\n",
      "271:\tlearn: 0.3831085\ttotal: 686ms\tremaining: 1.84s\n",
      "272:\tlearn: 0.3831036\ttotal: 687ms\tremaining: 1.83s\n",
      "273:\tlearn: 0.3828711\ttotal: 690ms\tremaining: 1.83s\n",
      "274:\tlearn: 0.3827746\ttotal: 692ms\tremaining: 1.82s\n",
      "275:\tlearn: 0.3825106\ttotal: 694ms\tremaining: 1.82s\n",
      "276:\tlearn: 0.3824640\ttotal: 696ms\tremaining: 1.82s\n",
      "277:\tlearn: 0.3821673\ttotal: 699ms\tremaining: 1.81s\n",
      "278:\tlearn: 0.3818160\ttotal: 702ms\tremaining: 1.81s\n",
      "279:\tlearn: 0.3815487\ttotal: 704ms\tremaining: 1.81s\n",
      "280:\tlearn: 0.3814983\ttotal: 706ms\tremaining: 1.81s\n",
      "281:\tlearn: 0.3811417\ttotal: 709ms\tremaining: 1.8s\n",
      "282:\tlearn: 0.3811092\ttotal: 711ms\tremaining: 1.8s\n",
      "283:\tlearn: 0.3808668\ttotal: 714ms\tremaining: 1.8s\n",
      "284:\tlearn: 0.3804521\ttotal: 716ms\tremaining: 1.8s\n",
      "285:\tlearn: 0.3802028\ttotal: 719ms\tremaining: 1.79s\n",
      "286:\tlearn: 0.3798747\ttotal: 721ms\tremaining: 1.79s\n",
      "287:\tlearn: 0.3798308\ttotal: 723ms\tremaining: 1.79s\n",
      "288:\tlearn: 0.3794876\ttotal: 726ms\tremaining: 1.79s\n",
      "289:\tlearn: 0.3793123\ttotal: 729ms\tremaining: 1.78s\n",
      "290:\tlearn: 0.3792789\ttotal: 730ms\tremaining: 1.78s\n",
      "291:\tlearn: 0.3788991\ttotal: 733ms\tremaining: 1.78s\n",
      "292:\tlearn: 0.3786812\ttotal: 735ms\tremaining: 1.77s\n",
      "293:\tlearn: 0.3784026\ttotal: 738ms\tremaining: 1.77s\n",
      "294:\tlearn: 0.3782695\ttotal: 740ms\tremaining: 1.77s\n",
      "295:\tlearn: 0.3779957\ttotal: 743ms\tremaining: 1.77s\n",
      "296:\tlearn: 0.3777967\ttotal: 745ms\tremaining: 1.76s\n",
      "297:\tlearn: 0.3774689\ttotal: 748ms\tremaining: 1.76s\n",
      "298:\tlearn: 0.3772280\ttotal: 750ms\tremaining: 1.76s\n",
      "299:\tlearn: 0.3770288\ttotal: 753ms\tremaining: 1.76s\n",
      "300:\tlearn: 0.3769276\ttotal: 755ms\tremaining: 1.75s\n",
      "301:\tlearn: 0.3766776\ttotal: 758ms\tremaining: 1.75s\n",
      "302:\tlearn: 0.3763026\ttotal: 760ms\tremaining: 1.75s\n",
      "303:\tlearn: 0.3762783\ttotal: 762ms\tremaining: 1.74s\n",
      "304:\tlearn: 0.3761694\ttotal: 765ms\tremaining: 1.74s\n",
      "305:\tlearn: 0.3760168\ttotal: 768ms\tremaining: 1.74s\n",
      "306:\tlearn: 0.3756648\ttotal: 771ms\tremaining: 1.74s\n",
      "307:\tlearn: 0.3755099\ttotal: 773ms\tremaining: 1.74s\n",
      "308:\tlearn: 0.3753949\ttotal: 776ms\tremaining: 1.74s\n",
      "309:\tlearn: 0.3752304\ttotal: 779ms\tremaining: 1.73s\n",
      "310:\tlearn: 0.3752045\ttotal: 780ms\tremaining: 1.73s\n",
      "311:\tlearn: 0.3750632\ttotal: 783ms\tremaining: 1.73s\n",
      "312:\tlearn: 0.3750295\ttotal: 784ms\tremaining: 1.72s\n",
      "313:\tlearn: 0.3750172\ttotal: 786ms\tremaining: 1.72s\n",
      "314:\tlearn: 0.3749203\ttotal: 788ms\tremaining: 1.71s\n",
      "315:\tlearn: 0.3747045\ttotal: 790ms\tremaining: 1.71s\n",
      "316:\tlearn: 0.3745004\ttotal: 792ms\tremaining: 1.71s\n",
      "317:\tlearn: 0.3744905\ttotal: 794ms\tremaining: 1.7s\n",
      "318:\tlearn: 0.3744778\ttotal: 796ms\tremaining: 1.7s\n",
      "319:\tlearn: 0.3744731\ttotal: 797ms\tremaining: 1.69s\n",
      "320:\tlearn: 0.3740798\ttotal: 799ms\tremaining: 1.69s\n",
      "321:\tlearn: 0.3738778\ttotal: 802ms\tremaining: 1.69s\n",
      "322:\tlearn: 0.3737323\ttotal: 805ms\tremaining: 1.69s\n",
      "323:\tlearn: 0.3735895\ttotal: 807ms\tremaining: 1.68s\n",
      "324:\tlearn: 0.3732165\ttotal: 809ms\tremaining: 1.68s\n",
      "325:\tlearn: 0.3729851\ttotal: 812ms\tremaining: 1.68s\n",
      "326:\tlearn: 0.3725929\ttotal: 814ms\tremaining: 1.68s\n",
      "327:\tlearn: 0.3725437\ttotal: 816ms\tremaining: 1.67s\n",
      "328:\tlearn: 0.3724984\ttotal: 818ms\tremaining: 1.67s\n",
      "329:\tlearn: 0.3722565\ttotal: 820ms\tremaining: 1.66s\n",
      "330:\tlearn: 0.3721269\ttotal: 822ms\tremaining: 1.66s\n",
      "331:\tlearn: 0.3718632\ttotal: 825ms\tremaining: 1.66s\n",
      "332:\tlearn: 0.3716855\ttotal: 827ms\tremaining: 1.66s\n",
      "333:\tlearn: 0.3714875\ttotal: 829ms\tremaining: 1.65s\n",
      "334:\tlearn: 0.3711029\ttotal: 832ms\tremaining: 1.65s\n",
      "335:\tlearn: 0.3709931\ttotal: 835ms\tremaining: 1.65s\n",
      "336:\tlearn: 0.3707515\ttotal: 837ms\tremaining: 1.65s\n",
      "337:\tlearn: 0.3705723\ttotal: 839ms\tremaining: 1.64s\n",
      "338:\tlearn: 0.3704799\ttotal: 842ms\tremaining: 1.64s\n",
      "339:\tlearn: 0.3704705\ttotal: 843ms\tremaining: 1.64s\n",
      "340:\tlearn: 0.3702227\ttotal: 845ms\tremaining: 1.63s\n",
      "341:\tlearn: 0.3700693\ttotal: 848ms\tremaining: 1.63s\n",
      "342:\tlearn: 0.3699819\ttotal: 850ms\tremaining: 1.63s\n",
      "343:\tlearn: 0.3699300\ttotal: 852ms\tremaining: 1.62s\n",
      "344:\tlearn: 0.3698548\ttotal: 854ms\tremaining: 1.62s\n",
      "345:\tlearn: 0.3695101\ttotal: 856ms\tremaining: 1.62s\n",
      "346:\tlearn: 0.3694338\ttotal: 858ms\tremaining: 1.61s\n",
      "347:\tlearn: 0.3694300\ttotal: 860ms\tremaining: 1.61s\n",
      "348:\tlearn: 0.3691010\ttotal: 862ms\tremaining: 1.61s\n",
      "349:\tlearn: 0.3689007\ttotal: 865ms\tremaining: 1.61s\n",
      "350:\tlearn: 0.3687763\ttotal: 867ms\tremaining: 1.6s\n",
      "351:\tlearn: 0.3687752\ttotal: 869ms\tremaining: 1.6s\n",
      "352:\tlearn: 0.3686621\ttotal: 871ms\tremaining: 1.6s\n",
      "353:\tlearn: 0.3686489\ttotal: 873ms\tremaining: 1.59s\n",
      "354:\tlearn: 0.3686358\ttotal: 874ms\tremaining: 1.59s\n",
      "355:\tlearn: 0.3683711\ttotal: 877ms\tremaining: 1.59s\n",
      "356:\tlearn: 0.3682144\ttotal: 879ms\tremaining: 1.58s\n",
      "357:\tlearn: 0.3680300\ttotal: 882ms\tremaining: 1.58s\n",
      "358:\tlearn: 0.3678007\ttotal: 884ms\tremaining: 1.58s\n",
      "359:\tlearn: 0.3675559\ttotal: 887ms\tremaining: 1.58s\n",
      "360:\tlearn: 0.3673470\ttotal: 889ms\tremaining: 1.57s\n",
      "361:\tlearn: 0.3673329\ttotal: 891ms\tremaining: 1.57s\n",
      "362:\tlearn: 0.3670092\ttotal: 893ms\tremaining: 1.57s\n",
      "363:\tlearn: 0.3667992\ttotal: 896ms\tremaining: 1.56s\n",
      "364:\tlearn: 0.3666193\ttotal: 898ms\tremaining: 1.56s\n",
      "365:\tlearn: 0.3665165\ttotal: 900ms\tremaining: 1.56s\n",
      "366:\tlearn: 0.3663961\ttotal: 902ms\tremaining: 1.56s\n",
      "367:\tlearn: 0.3663924\ttotal: 904ms\tremaining: 1.55s\n",
      "368:\tlearn: 0.3662817\ttotal: 906ms\tremaining: 1.55s\n",
      "369:\tlearn: 0.3660040\ttotal: 909ms\tremaining: 1.55s\n",
      "370:\tlearn: 0.3657879\ttotal: 912ms\tremaining: 1.54s\n",
      "371:\tlearn: 0.3656595\ttotal: 914ms\tremaining: 1.54s\n",
      "372:\tlearn: 0.3655690\ttotal: 917ms\tremaining: 1.54s\n",
      "373:\tlearn: 0.3655116\ttotal: 918ms\tremaining: 1.54s\n",
      "374:\tlearn: 0.3653654\ttotal: 921ms\tremaining: 1.53s\n",
      "375:\tlearn: 0.3652460\ttotal: 923ms\tremaining: 1.53s\n",
      "376:\tlearn: 0.3649577\ttotal: 925ms\tremaining: 1.53s\n",
      "377:\tlearn: 0.3649480\ttotal: 927ms\tremaining: 1.52s\n",
      "378:\tlearn: 0.3647790\ttotal: 929ms\tremaining: 1.52s\n",
      "379:\tlearn: 0.3645895\ttotal: 932ms\tremaining: 1.52s\n",
      "380:\tlearn: 0.3643887\ttotal: 934ms\tremaining: 1.52s\n",
      "381:\tlearn: 0.3642802\ttotal: 936ms\tremaining: 1.51s\n",
      "382:\tlearn: 0.3641335\ttotal: 938ms\tremaining: 1.51s\n",
      "383:\tlearn: 0.3638436\ttotal: 941ms\tremaining: 1.51s\n",
      "384:\tlearn: 0.3637633\ttotal: 943ms\tremaining: 1.51s\n",
      "385:\tlearn: 0.3636555\ttotal: 946ms\tremaining: 1.5s\n",
      "386:\tlearn: 0.3633941\ttotal: 948ms\tremaining: 1.5s\n",
      "387:\tlearn: 0.3631293\ttotal: 951ms\tremaining: 1.5s\n",
      "388:\tlearn: 0.3630537\ttotal: 953ms\tremaining: 1.5s\n",
      "389:\tlearn: 0.3628843\ttotal: 955ms\tremaining: 1.49s\n",
      "390:\tlearn: 0.3627409\ttotal: 960ms\tremaining: 1.5s\n",
      "391:\tlearn: 0.3627161\ttotal: 963ms\tremaining: 1.49s\n",
      "392:\tlearn: 0.3626022\ttotal: 965ms\tremaining: 1.49s\n",
      "393:\tlearn: 0.3626017\ttotal: 966ms\tremaining: 1.49s\n",
      "394:\tlearn: 0.3622919\ttotal: 968ms\tremaining: 1.48s\n",
      "395:\tlearn: 0.3622832\ttotal: 969ms\tremaining: 1.48s\n",
      "396:\tlearn: 0.3620804\ttotal: 971ms\tremaining: 1.48s\n",
      "397:\tlearn: 0.3619514\ttotal: 974ms\tremaining: 1.47s\n",
      "398:\tlearn: 0.3619312\ttotal: 975ms\tremaining: 1.47s\n",
      "399:\tlearn: 0.3618741\ttotal: 977ms\tremaining: 1.47s\n",
      "400:\tlearn: 0.3617172\ttotal: 979ms\tremaining: 1.46s\n",
      "401:\tlearn: 0.3614148\ttotal: 981ms\tremaining: 1.46s\n",
      "402:\tlearn: 0.3610447\ttotal: 983ms\tremaining: 1.46s\n",
      "403:\tlearn: 0.3608983\ttotal: 985ms\tremaining: 1.45s\n",
      "404:\tlearn: 0.3606733\ttotal: 988ms\tremaining: 1.45s\n",
      "405:\tlearn: 0.3606487\ttotal: 990ms\tremaining: 1.45s\n",
      "406:\tlearn: 0.3603801\ttotal: 992ms\tremaining: 1.45s\n",
      "407:\tlearn: 0.3602017\ttotal: 995ms\tremaining: 1.44s\n",
      "408:\tlearn: 0.3601851\ttotal: 997ms\tremaining: 1.44s\n",
      "409:\tlearn: 0.3601566\ttotal: 998ms\tremaining: 1.44s\n",
      "410:\tlearn: 0.3600749\ttotal: 1s\tremaining: 1.43s\n",
      "411:\tlearn: 0.3600746\ttotal: 1s\tremaining: 1.43s\n",
      "412:\tlearn: 0.3599498\ttotal: 1s\tremaining: 1.43s\n",
      "413:\tlearn: 0.3598042\ttotal: 1.01s\tremaining: 1.42s\n",
      "414:\tlearn: 0.3596693\ttotal: 1.01s\tremaining: 1.42s\n",
      "415:\tlearn: 0.3595594\ttotal: 1.01s\tremaining: 1.42s\n",
      "416:\tlearn: 0.3593577\ttotal: 1.01s\tremaining: 1.42s\n",
      "417:\tlearn: 0.3592907\ttotal: 1.02s\tremaining: 1.42s\n",
      "418:\tlearn: 0.3592824\ttotal: 1.02s\tremaining: 1.41s\n",
      "419:\tlearn: 0.3591164\ttotal: 1.02s\tremaining: 1.41s\n",
      "420:\tlearn: 0.3589216\ttotal: 1.02s\tremaining: 1.41s\n",
      "421:\tlearn: 0.3588333\ttotal: 1.02s\tremaining: 1.4s\n",
      "422:\tlearn: 0.3587723\ttotal: 1.03s\tremaining: 1.4s\n",
      "423:\tlearn: 0.3587492\ttotal: 1.03s\tremaining: 1.4s\n",
      "424:\tlearn: 0.3585887\ttotal: 1.03s\tremaining: 1.39s\n",
      "425:\tlearn: 0.3582849\ttotal: 1.03s\tremaining: 1.39s\n",
      "426:\tlearn: 0.3581864\ttotal: 1.03s\tremaining: 1.39s\n",
      "427:\tlearn: 0.3581860\ttotal: 1.04s\tremaining: 1.39s\n",
      "428:\tlearn: 0.3579692\ttotal: 1.04s\tremaining: 1.38s\n",
      "429:\tlearn: 0.3578456\ttotal: 1.04s\tremaining: 1.38s\n",
      "430:\tlearn: 0.3577277\ttotal: 1.04s\tremaining: 1.38s\n",
      "431:\tlearn: 0.3577195\ttotal: 1.04s\tremaining: 1.37s\n",
      "432:\tlearn: 0.3577193\ttotal: 1.05s\tremaining: 1.37s\n",
      "433:\tlearn: 0.3577189\ttotal: 1.05s\tremaining: 1.37s\n",
      "434:\tlearn: 0.3576337\ttotal: 1.05s\tremaining: 1.36s\n",
      "435:\tlearn: 0.3576212\ttotal: 1.05s\tremaining: 1.36s\n",
      "436:\tlearn: 0.3574937\ttotal: 1.05s\tremaining: 1.36s\n",
      "437:\tlearn: 0.3573320\ttotal: 1.06s\tremaining: 1.36s\n",
      "438:\tlearn: 0.3573318\ttotal: 1.06s\tremaining: 1.35s\n",
      "439:\tlearn: 0.3572270\ttotal: 1.06s\tremaining: 1.35s\n",
      "440:\tlearn: 0.3569719\ttotal: 1.06s\tremaining: 1.35s\n",
      "441:\tlearn: 0.3566973\ttotal: 1.07s\tremaining: 1.35s\n",
      "442:\tlearn: 0.3566262\ttotal: 1.07s\tremaining: 1.34s\n",
      "443:\tlearn: 0.3565956\ttotal: 1.07s\tremaining: 1.34s\n",
      "444:\tlearn: 0.3564860\ttotal: 1.07s\tremaining: 1.34s\n",
      "445:\tlearn: 0.3564091\ttotal: 1.07s\tremaining: 1.33s\n",
      "446:\tlearn: 0.3562209\ttotal: 1.08s\tremaining: 1.33s\n",
      "447:\tlearn: 0.3560301\ttotal: 1.08s\tremaining: 1.33s\n",
      "448:\tlearn: 0.3557771\ttotal: 1.08s\tremaining: 1.33s\n",
      "449:\tlearn: 0.3557013\ttotal: 1.08s\tremaining: 1.33s\n",
      "450:\tlearn: 0.3556898\ttotal: 1.09s\tremaining: 1.32s\n",
      "451:\tlearn: 0.3556280\ttotal: 1.09s\tremaining: 1.32s\n",
      "452:\tlearn: 0.3553734\ttotal: 1.09s\tremaining: 1.32s\n",
      "453:\tlearn: 0.3553583\ttotal: 1.09s\tremaining: 1.31s\n",
      "454:\tlearn: 0.3553081\ttotal: 1.09s\tremaining: 1.31s\n",
      "455:\tlearn: 0.3550495\ttotal: 1.1s\tremaining: 1.31s\n",
      "456:\tlearn: 0.3549262\ttotal: 1.1s\tremaining: 1.31s\n",
      "457:\tlearn: 0.3549236\ttotal: 1.1s\tremaining: 1.3s\n",
      "458:\tlearn: 0.3548847\ttotal: 1.1s\tremaining: 1.3s\n",
      "459:\tlearn: 0.3548667\ttotal: 1.1s\tremaining: 1.3s\n",
      "460:\tlearn: 0.3548264\ttotal: 1.11s\tremaining: 1.29s\n",
      "461:\tlearn: 0.3547398\ttotal: 1.11s\tremaining: 1.29s\n",
      "462:\tlearn: 0.3546171\ttotal: 1.11s\tremaining: 1.29s\n",
      "463:\tlearn: 0.3544700\ttotal: 1.11s\tremaining: 1.29s\n",
      "464:\tlearn: 0.3543830\ttotal: 1.12s\tremaining: 1.28s\n",
      "465:\tlearn: 0.3540237\ttotal: 1.12s\tremaining: 1.28s\n",
      "466:\tlearn: 0.3538541\ttotal: 1.12s\tremaining: 1.28s\n",
      "467:\tlearn: 0.3535303\ttotal: 1.12s\tremaining: 1.28s\n",
      "468:\tlearn: 0.3532739\ttotal: 1.13s\tremaining: 1.27s\n",
      "469:\tlearn: 0.3532597\ttotal: 1.13s\tremaining: 1.27s\n",
      "470:\tlearn: 0.3531381\ttotal: 1.13s\tremaining: 1.27s\n",
      "471:\tlearn: 0.3530797\ttotal: 1.13s\tremaining: 1.27s\n",
      "472:\tlearn: 0.3530796\ttotal: 1.14s\tremaining: 1.26s\n",
      "473:\tlearn: 0.3529787\ttotal: 1.14s\tremaining: 1.26s\n",
      "474:\tlearn: 0.3528829\ttotal: 1.14s\tremaining: 1.26s\n",
      "475:\tlearn: 0.3526745\ttotal: 1.14s\tremaining: 1.26s\n",
      "476:\tlearn: 0.3526411\ttotal: 1.15s\tremaining: 1.25s\n",
      "477:\tlearn: 0.3524728\ttotal: 1.15s\tremaining: 1.25s\n",
      "478:\tlearn: 0.3523918\ttotal: 1.15s\tremaining: 1.25s\n",
      "479:\tlearn: 0.3523917\ttotal: 1.15s\tremaining: 1.25s\n",
      "480:\tlearn: 0.3523211\ttotal: 1.16s\tremaining: 1.25s\n",
      "481:\tlearn: 0.3522396\ttotal: 1.16s\tremaining: 1.25s\n",
      "482:\tlearn: 0.3521667\ttotal: 1.16s\tremaining: 1.24s\n",
      "483:\tlearn: 0.3521628\ttotal: 1.16s\tremaining: 1.24s\n",
      "484:\tlearn: 0.3519981\ttotal: 1.17s\tremaining: 1.24s\n",
      "485:\tlearn: 0.3519548\ttotal: 1.17s\tremaining: 1.23s\n",
      "486:\tlearn: 0.3516780\ttotal: 1.17s\tremaining: 1.23s\n",
      "487:\tlearn: 0.3515626\ttotal: 1.17s\tremaining: 1.23s\n",
      "488:\tlearn: 0.3511937\ttotal: 1.18s\tremaining: 1.23s\n",
      "489:\tlearn: 0.3511244\ttotal: 1.18s\tremaining: 1.23s\n",
      "490:\tlearn: 0.3511127\ttotal: 1.18s\tremaining: 1.22s\n",
      "491:\tlearn: 0.3509002\ttotal: 1.18s\tremaining: 1.22s\n",
      "492:\tlearn: 0.3507348\ttotal: 1.18s\tremaining: 1.22s\n",
      "493:\tlearn: 0.3505891\ttotal: 1.19s\tremaining: 1.22s\n",
      "494:\tlearn: 0.3503766\ttotal: 1.19s\tremaining: 1.21s\n",
      "495:\tlearn: 0.3502026\ttotal: 1.19s\tremaining: 1.21s\n",
      "496:\tlearn: 0.3501180\ttotal: 1.19s\tremaining: 1.21s\n",
      "497:\tlearn: 0.3500014\ttotal: 1.2s\tremaining: 1.21s\n",
      "498:\tlearn: 0.3498555\ttotal: 1.2s\tremaining: 1.2s\n",
      "499:\tlearn: 0.3497731\ttotal: 1.2s\tremaining: 1.2s\n",
      "500:\tlearn: 0.3495638\ttotal: 1.2s\tremaining: 1.2s\n",
      "501:\tlearn: 0.3492430\ttotal: 1.21s\tremaining: 1.2s\n",
      "502:\tlearn: 0.3489303\ttotal: 1.21s\tremaining: 1.19s\n",
      "503:\tlearn: 0.3488388\ttotal: 1.21s\tremaining: 1.19s\n",
      "504:\tlearn: 0.3486110\ttotal: 1.21s\tremaining: 1.19s\n",
      "505:\tlearn: 0.3483720\ttotal: 1.22s\tremaining: 1.19s\n",
      "506:\tlearn: 0.3483345\ttotal: 1.22s\tremaining: 1.19s\n",
      "507:\tlearn: 0.3482684\ttotal: 1.22s\tremaining: 1.18s\n",
      "508:\tlearn: 0.3479784\ttotal: 1.22s\tremaining: 1.18s\n",
      "509:\tlearn: 0.3477210\ttotal: 1.23s\tremaining: 1.18s\n",
      "510:\tlearn: 0.3472931\ttotal: 1.23s\tremaining: 1.18s\n",
      "511:\tlearn: 0.3472228\ttotal: 1.23s\tremaining: 1.17s\n",
      "512:\tlearn: 0.3470980\ttotal: 1.23s\tremaining: 1.17s\n",
      "513:\tlearn: 0.3469783\ttotal: 1.24s\tremaining: 1.17s\n",
      "514:\tlearn: 0.3466284\ttotal: 1.24s\tremaining: 1.17s\n",
      "515:\tlearn: 0.3464838\ttotal: 1.24s\tremaining: 1.16s\n",
      "516:\tlearn: 0.3464554\ttotal: 1.24s\tremaining: 1.16s\n",
      "517:\tlearn: 0.3463306\ttotal: 1.25s\tremaining: 1.16s\n",
      "518:\tlearn: 0.3462426\ttotal: 1.25s\tremaining: 1.16s\n",
      "519:\tlearn: 0.3461030\ttotal: 1.25s\tremaining: 1.15s\n",
      "520:\tlearn: 0.3461030\ttotal: 1.25s\tremaining: 1.15s\n",
      "521:\tlearn: 0.3459321\ttotal: 1.25s\tremaining: 1.15s\n",
      "522:\tlearn: 0.3458612\ttotal: 1.25s\tremaining: 1.15s\n",
      "523:\tlearn: 0.3458559\ttotal: 1.26s\tremaining: 1.14s\n",
      "524:\tlearn: 0.3458239\ttotal: 1.26s\tremaining: 1.14s\n",
      "525:\tlearn: 0.3458055\ttotal: 1.26s\tremaining: 1.14s\n",
      "526:\tlearn: 0.3457410\ttotal: 1.26s\tremaining: 1.13s\n",
      "527:\tlearn: 0.3456966\ttotal: 1.26s\tremaining: 1.13s\n",
      "528:\tlearn: 0.3454916\ttotal: 1.27s\tremaining: 1.13s\n",
      "529:\tlearn: 0.3454547\ttotal: 1.27s\tremaining: 1.13s\n",
      "530:\tlearn: 0.3454531\ttotal: 1.27s\tremaining: 1.12s\n",
      "531:\tlearn: 0.3453107\ttotal: 1.27s\tremaining: 1.12s\n",
      "532:\tlearn: 0.3451027\ttotal: 1.27s\tremaining: 1.12s\n",
      "533:\tlearn: 0.3450169\ttotal: 1.28s\tremaining: 1.11s\n",
      "534:\tlearn: 0.3448573\ttotal: 1.28s\tremaining: 1.11s\n",
      "535:\tlearn: 0.3447504\ttotal: 1.28s\tremaining: 1.11s\n",
      "536:\tlearn: 0.3446423\ttotal: 1.28s\tremaining: 1.11s\n",
      "537:\tlearn: 0.3445684\ttotal: 1.29s\tremaining: 1.1s\n",
      "538:\tlearn: 0.3445251\ttotal: 1.29s\tremaining: 1.1s\n",
      "539:\tlearn: 0.3445251\ttotal: 1.29s\tremaining: 1.1s\n",
      "540:\tlearn: 0.3443214\ttotal: 1.29s\tremaining: 1.1s\n",
      "541:\tlearn: 0.3443213\ttotal: 1.29s\tremaining: 1.09s\n",
      "542:\tlearn: 0.3441094\ttotal: 1.3s\tremaining: 1.09s\n",
      "543:\tlearn: 0.3440164\ttotal: 1.3s\tremaining: 1.09s\n",
      "544:\tlearn: 0.3437617\ttotal: 1.3s\tremaining: 1.09s\n",
      "545:\tlearn: 0.3435910\ttotal: 1.3s\tremaining: 1.08s\n",
      "546:\tlearn: 0.3434071\ttotal: 1.31s\tremaining: 1.08s\n",
      "547:\tlearn: 0.3431523\ttotal: 1.31s\tremaining: 1.08s\n",
      "548:\tlearn: 0.3429898\ttotal: 1.31s\tremaining: 1.08s\n",
      "549:\tlearn: 0.3427064\ttotal: 1.31s\tremaining: 1.07s\n",
      "550:\tlearn: 0.3426979\ttotal: 1.32s\tremaining: 1.07s\n",
      "551:\tlearn: 0.3426475\ttotal: 1.32s\tremaining: 1.07s\n",
      "552:\tlearn: 0.3424823\ttotal: 1.32s\tremaining: 1.07s\n",
      "553:\tlearn: 0.3424256\ttotal: 1.32s\tremaining: 1.06s\n",
      "554:\tlearn: 0.3423907\ttotal: 1.32s\tremaining: 1.06s\n",
      "555:\tlearn: 0.3422977\ttotal: 1.33s\tremaining: 1.06s\n",
      "556:\tlearn: 0.3421112\ttotal: 1.33s\tremaining: 1.06s\n",
      "557:\tlearn: 0.3420505\ttotal: 1.33s\tremaining: 1.06s\n",
      "558:\tlearn: 0.3419708\ttotal: 1.34s\tremaining: 1.05s\n",
      "559:\tlearn: 0.3417348\ttotal: 1.34s\tremaining: 1.05s\n",
      "560:\tlearn: 0.3414869\ttotal: 1.34s\tremaining: 1.05s\n",
      "561:\tlearn: 0.3413413\ttotal: 1.34s\tremaining: 1.05s\n",
      "562:\tlearn: 0.3413221\ttotal: 1.35s\tremaining: 1.04s\n",
      "563:\tlearn: 0.3413210\ttotal: 1.35s\tremaining: 1.04s\n",
      "564:\tlearn: 0.3412121\ttotal: 1.35s\tremaining: 1.04s\n",
      "565:\tlearn: 0.3411468\ttotal: 1.35s\tremaining: 1.04s\n",
      "566:\tlearn: 0.3409380\ttotal: 1.35s\tremaining: 1.03s\n",
      "567:\tlearn: 0.3407699\ttotal: 1.36s\tremaining: 1.03s\n",
      "568:\tlearn: 0.3406924\ttotal: 1.36s\tremaining: 1.03s\n",
      "569:\tlearn: 0.3406636\ttotal: 1.36s\tremaining: 1.03s\n",
      "570:\tlearn: 0.3406624\ttotal: 1.36s\tremaining: 1.02s\n",
      "571:\tlearn: 0.3405224\ttotal: 1.36s\tremaining: 1.02s\n",
      "572:\tlearn: 0.3404432\ttotal: 1.37s\tremaining: 1.02s\n",
      "573:\tlearn: 0.3402589\ttotal: 1.37s\tremaining: 1.02s\n",
      "574:\tlearn: 0.3402573\ttotal: 1.37s\tremaining: 1.01s\n",
      "575:\tlearn: 0.3400617\ttotal: 1.38s\tremaining: 1.01s\n",
      "576:\tlearn: 0.3399061\ttotal: 1.38s\tremaining: 1.01s\n",
      "577:\tlearn: 0.3398914\ttotal: 1.38s\tremaining: 1.01s\n",
      "578:\tlearn: 0.3396342\ttotal: 1.38s\tremaining: 1s\n",
      "579:\tlearn: 0.3396195\ttotal: 1.39s\tremaining: 1s\n",
      "580:\tlearn: 0.3396028\ttotal: 1.39s\tremaining: 1s\n",
      "581:\tlearn: 0.3394390\ttotal: 1.39s\tremaining: 998ms\n",
      "582:\tlearn: 0.3393750\ttotal: 1.39s\tremaining: 996ms\n",
      "583:\tlearn: 0.3392212\ttotal: 1.39s\tremaining: 993ms\n",
      "584:\tlearn: 0.3389774\ttotal: 1.4s\tremaining: 991ms\n",
      "585:\tlearn: 0.3388580\ttotal: 1.4s\tremaining: 988ms\n",
      "586:\tlearn: 0.3387159\ttotal: 1.4s\tremaining: 986ms\n",
      "587:\tlearn: 0.3385156\ttotal: 1.4s\tremaining: 984ms\n",
      "588:\tlearn: 0.3385148\ttotal: 1.41s\tremaining: 981ms\n",
      "589:\tlearn: 0.3384909\ttotal: 1.41s\tremaining: 978ms\n",
      "590:\tlearn: 0.3384059\ttotal: 1.41s\tremaining: 975ms\n",
      "591:\tlearn: 0.3383244\ttotal: 1.41s\tremaining: 973ms\n",
      "592:\tlearn: 0.3382589\ttotal: 1.41s\tremaining: 971ms\n",
      "593:\tlearn: 0.3381411\ttotal: 1.42s\tremaining: 968ms\n",
      "594:\tlearn: 0.3380200\ttotal: 1.42s\tremaining: 966ms\n",
      "595:\tlearn: 0.3380086\ttotal: 1.42s\tremaining: 963ms\n",
      "596:\tlearn: 0.3379481\ttotal: 1.42s\tremaining: 961ms\n",
      "597:\tlearn: 0.3376908\ttotal: 1.43s\tremaining: 958ms\n",
      "598:\tlearn: 0.3374412\ttotal: 1.43s\tremaining: 956ms\n",
      "599:\tlearn: 0.3373599\ttotal: 1.43s\tremaining: 954ms\n",
      "600:\tlearn: 0.3372053\ttotal: 1.43s\tremaining: 951ms\n",
      "601:\tlearn: 0.3371207\ttotal: 1.44s\tremaining: 949ms\n",
      "602:\tlearn: 0.3370486\ttotal: 1.44s\tremaining: 947ms\n",
      "603:\tlearn: 0.3370470\ttotal: 1.44s\tremaining: 945ms\n",
      "604:\tlearn: 0.3369542\ttotal: 1.44s\tremaining: 942ms\n",
      "605:\tlearn: 0.3368854\ttotal: 1.45s\tremaining: 940ms\n",
      "606:\tlearn: 0.3368672\ttotal: 1.45s\tremaining: 937ms\n",
      "607:\tlearn: 0.3367223\ttotal: 1.45s\tremaining: 935ms\n",
      "608:\tlearn: 0.3367223\ttotal: 1.45s\tremaining: 932ms\n",
      "609:\tlearn: 0.3366334\ttotal: 1.45s\tremaining: 929ms\n",
      "610:\tlearn: 0.3364417\ttotal: 1.46s\tremaining: 927ms\n",
      "611:\tlearn: 0.3362078\ttotal: 1.46s\tremaining: 925ms\n",
      "612:\tlearn: 0.3361490\ttotal: 1.46s\tremaining: 923ms\n",
      "613:\tlearn: 0.3358725\ttotal: 1.46s\tremaining: 920ms\n",
      "614:\tlearn: 0.3358700\ttotal: 1.47s\tremaining: 918ms\n",
      "615:\tlearn: 0.3357899\ttotal: 1.47s\tremaining: 915ms\n",
      "616:\tlearn: 0.3354961\ttotal: 1.47s\tremaining: 913ms\n",
      "617:\tlearn: 0.3354152\ttotal: 1.47s\tremaining: 911ms\n",
      "618:\tlearn: 0.3352745\ttotal: 1.48s\tremaining: 908ms\n",
      "619:\tlearn: 0.3352514\ttotal: 1.48s\tremaining: 906ms\n",
      "620:\tlearn: 0.3351462\ttotal: 1.48s\tremaining: 904ms\n",
      "621:\tlearn: 0.3349716\ttotal: 1.48s\tremaining: 901ms\n",
      "622:\tlearn: 0.3348750\ttotal: 1.49s\tremaining: 899ms\n",
      "623:\tlearn: 0.3345717\ttotal: 1.49s\tremaining: 897ms\n",
      "624:\tlearn: 0.3345180\ttotal: 1.49s\tremaining: 894ms\n",
      "625:\tlearn: 0.3343218\ttotal: 1.49s\tremaining: 892ms\n",
      "626:\tlearn: 0.3343189\ttotal: 1.49s\tremaining: 889ms\n",
      "627:\tlearn: 0.3342194\ttotal: 1.5s\tremaining: 887ms\n",
      "628:\tlearn: 0.3341529\ttotal: 1.5s\tremaining: 885ms\n",
      "629:\tlearn: 0.3340401\ttotal: 1.5s\tremaining: 882ms\n",
      "630:\tlearn: 0.3335865\ttotal: 1.5s\tremaining: 880ms\n",
      "631:\tlearn: 0.3335205\ttotal: 1.51s\tremaining: 878ms\n",
      "632:\tlearn: 0.3334050\ttotal: 1.51s\tremaining: 876ms\n",
      "633:\tlearn: 0.3333341\ttotal: 1.51s\tremaining: 873ms\n",
      "634:\tlearn: 0.3332583\ttotal: 1.51s\tremaining: 871ms\n",
      "635:\tlearn: 0.3331233\ttotal: 1.52s\tremaining: 868ms\n",
      "636:\tlearn: 0.3330771\ttotal: 1.52s\tremaining: 866ms\n",
      "637:\tlearn: 0.3330085\ttotal: 1.52s\tremaining: 863ms\n",
      "638:\tlearn: 0.3329475\ttotal: 1.52s\tremaining: 861ms\n",
      "639:\tlearn: 0.3329220\ttotal: 1.53s\tremaining: 859ms\n",
      "640:\tlearn: 0.3328962\ttotal: 1.53s\tremaining: 856ms\n",
      "641:\tlearn: 0.3328954\ttotal: 1.53s\tremaining: 853ms\n",
      "642:\tlearn: 0.3328028\ttotal: 1.53s\tremaining: 851ms\n",
      "643:\tlearn: 0.3327267\ttotal: 1.54s\tremaining: 849ms\n",
      "644:\tlearn: 0.3325794\ttotal: 1.54s\tremaining: 847ms\n",
      "645:\tlearn: 0.3323547\ttotal: 1.54s\tremaining: 845ms\n",
      "646:\tlearn: 0.3323326\ttotal: 1.54s\tremaining: 842ms\n",
      "647:\tlearn: 0.3323160\ttotal: 1.54s\tremaining: 839ms\n",
      "648:\tlearn: 0.3322129\ttotal: 1.55s\tremaining: 837ms\n",
      "649:\tlearn: 0.3320774\ttotal: 1.55s\tremaining: 835ms\n",
      "650:\tlearn: 0.3320459\ttotal: 1.55s\tremaining: 832ms\n",
      "651:\tlearn: 0.3319595\ttotal: 1.55s\tremaining: 830ms\n",
      "652:\tlearn: 0.3318523\ttotal: 1.56s\tremaining: 828ms\n",
      "653:\tlearn: 0.3317164\ttotal: 1.56s\tremaining: 825ms\n",
      "654:\tlearn: 0.3315655\ttotal: 1.56s\tremaining: 823ms\n",
      "655:\tlearn: 0.3314331\ttotal: 1.56s\tremaining: 821ms\n",
      "656:\tlearn: 0.3313921\ttotal: 1.57s\tremaining: 818ms\n",
      "657:\tlearn: 0.3312418\ttotal: 1.57s\tremaining: 816ms\n",
      "658:\tlearn: 0.3312348\ttotal: 1.57s\tremaining: 813ms\n",
      "659:\tlearn: 0.3310766\ttotal: 1.57s\tremaining: 811ms\n",
      "660:\tlearn: 0.3308990\ttotal: 1.58s\tremaining: 808ms\n",
      "661:\tlearn: 0.3308146\ttotal: 1.58s\tremaining: 806ms\n",
      "662:\tlearn: 0.3307413\ttotal: 1.58s\tremaining: 803ms\n",
      "663:\tlearn: 0.3304946\ttotal: 1.58s\tremaining: 801ms\n",
      "664:\tlearn: 0.3304921\ttotal: 1.58s\tremaining: 798ms\n",
      "665:\tlearn: 0.3304701\ttotal: 1.59s\tremaining: 795ms\n",
      "666:\tlearn: 0.3304021\ttotal: 1.59s\tremaining: 793ms\n",
      "667:\tlearn: 0.3303178\ttotal: 1.59s\tremaining: 791ms\n",
      "668:\tlearn: 0.3301980\ttotal: 1.59s\tremaining: 788ms\n",
      "669:\tlearn: 0.3300239\ttotal: 1.59s\tremaining: 786ms\n",
      "670:\tlearn: 0.3299965\ttotal: 1.6s\tremaining: 783ms\n",
      "671:\tlearn: 0.3299493\ttotal: 1.6s\tremaining: 781ms\n",
      "672:\tlearn: 0.3298187\ttotal: 1.6s\tremaining: 779ms\n",
      "673:\tlearn: 0.3297265\ttotal: 1.6s\tremaining: 776ms\n",
      "674:\tlearn: 0.3297228\ttotal: 1.61s\tremaining: 773ms\n",
      "675:\tlearn: 0.3295815\ttotal: 1.61s\tremaining: 771ms\n",
      "676:\tlearn: 0.3294417\ttotal: 1.61s\tremaining: 769ms\n",
      "677:\tlearn: 0.3292764\ttotal: 1.61s\tremaining: 766ms\n",
      "678:\tlearn: 0.3292732\ttotal: 1.61s\tremaining: 764ms\n",
      "679:\tlearn: 0.3292615\ttotal: 1.62s\tremaining: 761ms\n",
      "680:\tlearn: 0.3291208\ttotal: 1.62s\tremaining: 759ms\n",
      "681:\tlearn: 0.3289361\ttotal: 1.62s\tremaining: 757ms\n",
      "682:\tlearn: 0.3288012\ttotal: 1.63s\tremaining: 755ms\n",
      "683:\tlearn: 0.3286671\ttotal: 1.63s\tremaining: 752ms\n",
      "684:\tlearn: 0.3286377\ttotal: 1.63s\tremaining: 750ms\n",
      "685:\tlearn: 0.3285520\ttotal: 1.63s\tremaining: 748ms\n",
      "686:\tlearn: 0.3282942\ttotal: 1.64s\tremaining: 745ms\n",
      "687:\tlearn: 0.3282836\ttotal: 1.64s\tremaining: 743ms\n",
      "688:\tlearn: 0.3281255\ttotal: 1.64s\tremaining: 740ms\n",
      "689:\tlearn: 0.3279918\ttotal: 1.64s\tremaining: 738ms\n",
      "690:\tlearn: 0.3279204\ttotal: 1.65s\tremaining: 736ms\n",
      "691:\tlearn: 0.3277612\ttotal: 1.65s\tremaining: 733ms\n",
      "692:\tlearn: 0.3277221\ttotal: 1.65s\tremaining: 731ms\n",
      "693:\tlearn: 0.3275945\ttotal: 1.65s\tremaining: 729ms\n",
      "694:\tlearn: 0.3273793\ttotal: 1.66s\tremaining: 727ms\n",
      "695:\tlearn: 0.3272108\ttotal: 1.66s\tremaining: 725ms\n",
      "696:\tlearn: 0.3271265\ttotal: 1.66s\tremaining: 723ms\n",
      "697:\tlearn: 0.3270000\ttotal: 1.66s\tremaining: 720ms\n",
      "698:\tlearn: 0.3268815\ttotal: 1.67s\tremaining: 718ms\n",
      "699:\tlearn: 0.3268596\ttotal: 1.67s\tremaining: 715ms\n",
      "700:\tlearn: 0.3266776\ttotal: 1.67s\tremaining: 713ms\n",
      "701:\tlearn: 0.3266243\ttotal: 1.67s\tremaining: 710ms\n",
      "702:\tlearn: 0.3265106\ttotal: 1.68s\tremaining: 708ms\n",
      "703:\tlearn: 0.3264890\ttotal: 1.68s\tremaining: 705ms\n",
      "704:\tlearn: 0.3262536\ttotal: 1.68s\tremaining: 703ms\n",
      "705:\tlearn: 0.3261610\ttotal: 1.68s\tremaining: 701ms\n",
      "706:\tlearn: 0.3261465\ttotal: 1.68s\tremaining: 698ms\n",
      "707:\tlearn: 0.3260915\ttotal: 1.69s\tremaining: 696ms\n",
      "708:\tlearn: 0.3258564\ttotal: 1.69s\tremaining: 694ms\n",
      "709:\tlearn: 0.3257277\ttotal: 1.69s\tremaining: 691ms\n",
      "710:\tlearn: 0.3256388\ttotal: 1.69s\tremaining: 689ms\n",
      "711:\tlearn: 0.3255510\ttotal: 1.7s\tremaining: 687ms\n",
      "712:\tlearn: 0.3253594\ttotal: 1.7s\tremaining: 684ms\n",
      "713:\tlearn: 0.3251072\ttotal: 1.7s\tremaining: 682ms\n",
      "714:\tlearn: 0.3250080\ttotal: 1.71s\tremaining: 680ms\n",
      "715:\tlearn: 0.3248461\ttotal: 1.71s\tremaining: 677ms\n",
      "716:\tlearn: 0.3248244\ttotal: 1.71s\tremaining: 675ms\n",
      "717:\tlearn: 0.3245519\ttotal: 1.71s\tremaining: 672ms\n",
      "718:\tlearn: 0.3244027\ttotal: 1.71s\tremaining: 670ms\n",
      "719:\tlearn: 0.3243814\ttotal: 1.72s\tremaining: 667ms\n",
      "720:\tlearn: 0.3243338\ttotal: 1.72s\tremaining: 665ms\n",
      "721:\tlearn: 0.3242764\ttotal: 1.72s\tremaining: 662ms\n",
      "722:\tlearn: 0.3241261\ttotal: 1.72s\tremaining: 660ms\n",
      "723:\tlearn: 0.3240477\ttotal: 1.73s\tremaining: 658ms\n",
      "724:\tlearn: 0.3240477\ttotal: 1.73s\tremaining: 655ms\n",
      "725:\tlearn: 0.3239690\ttotal: 1.73s\tremaining: 653ms\n",
      "726:\tlearn: 0.3237620\ttotal: 1.73s\tremaining: 651ms\n",
      "727:\tlearn: 0.3235314\ttotal: 1.74s\tremaining: 649ms\n",
      "728:\tlearn: 0.3232662\ttotal: 1.74s\tremaining: 646ms\n",
      "729:\tlearn: 0.3232099\ttotal: 1.74s\tremaining: 644ms\n",
      "730:\tlearn: 0.3229618\ttotal: 1.74s\tremaining: 642ms\n",
      "731:\tlearn: 0.3228145\ttotal: 1.75s\tremaining: 639ms\n",
      "732:\tlearn: 0.3227003\ttotal: 1.75s\tremaining: 637ms\n",
      "733:\tlearn: 0.3226205\ttotal: 1.75s\tremaining: 634ms\n",
      "734:\tlearn: 0.3223938\ttotal: 1.75s\tremaining: 632ms\n",
      "735:\tlearn: 0.3221781\ttotal: 1.75s\tremaining: 630ms\n",
      "736:\tlearn: 0.3221167\ttotal: 1.76s\tremaining: 627ms\n",
      "737:\tlearn: 0.3219219\ttotal: 1.76s\tremaining: 625ms\n",
      "738:\tlearn: 0.3217113\ttotal: 1.76s\tremaining: 622ms\n",
      "739:\tlearn: 0.3216265\ttotal: 1.76s\tremaining: 620ms\n",
      "740:\tlearn: 0.3216008\ttotal: 1.77s\tremaining: 618ms\n",
      "741:\tlearn: 0.3214667\ttotal: 1.77s\tremaining: 615ms\n",
      "742:\tlearn: 0.3213364\ttotal: 1.77s\tremaining: 613ms\n",
      "743:\tlearn: 0.3212268\ttotal: 1.77s\tremaining: 611ms\n",
      "744:\tlearn: 0.3211562\ttotal: 1.78s\tremaining: 608ms\n",
      "745:\tlearn: 0.3208077\ttotal: 1.78s\tremaining: 606ms\n",
      "746:\tlearn: 0.3207381\ttotal: 1.78s\tremaining: 603ms\n",
      "747:\tlearn: 0.3206870\ttotal: 1.78s\tremaining: 601ms\n",
      "748:\tlearn: 0.3206487\ttotal: 1.79s\tremaining: 599ms\n",
      "749:\tlearn: 0.3204424\ttotal: 1.79s\tremaining: 596ms\n",
      "750:\tlearn: 0.3202893\ttotal: 1.79s\tremaining: 594ms\n",
      "751:\tlearn: 0.3202093\ttotal: 1.79s\tremaining: 592ms\n",
      "752:\tlearn: 0.3199120\ttotal: 1.8s\tremaining: 589ms\n",
      "753:\tlearn: 0.3197377\ttotal: 1.8s\tremaining: 587ms\n",
      "754:\tlearn: 0.3195883\ttotal: 1.8s\tremaining: 585ms\n",
      "755:\tlearn: 0.3195646\ttotal: 1.8s\tremaining: 582ms\n",
      "756:\tlearn: 0.3192122\ttotal: 1.8s\tremaining: 580ms\n",
      "757:\tlearn: 0.3191119\ttotal: 1.81s\tremaining: 577ms\n",
      "758:\tlearn: 0.3191000\ttotal: 1.81s\tremaining: 575ms\n",
      "759:\tlearn: 0.3190100\ttotal: 1.81s\tremaining: 572ms\n",
      "760:\tlearn: 0.3190050\ttotal: 1.81s\tremaining: 570ms\n",
      "761:\tlearn: 0.3186834\ttotal: 1.82s\tremaining: 567ms\n",
      "762:\tlearn: 0.3184838\ttotal: 1.82s\tremaining: 565ms\n",
      "763:\tlearn: 0.3183725\ttotal: 1.82s\tremaining: 563ms\n",
      "764:\tlearn: 0.3182929\ttotal: 1.82s\tremaining: 560ms\n",
      "765:\tlearn: 0.3181761\ttotal: 1.83s\tremaining: 558ms\n",
      "766:\tlearn: 0.3180499\ttotal: 1.83s\tremaining: 556ms\n",
      "767:\tlearn: 0.3179163\ttotal: 1.83s\tremaining: 553ms\n",
      "768:\tlearn: 0.3177005\ttotal: 1.83s\tremaining: 551ms\n",
      "769:\tlearn: 0.3176584\ttotal: 1.84s\tremaining: 548ms\n",
      "770:\tlearn: 0.3175600\ttotal: 1.84s\tremaining: 546ms\n",
      "771:\tlearn: 0.3175197\ttotal: 1.84s\tremaining: 543ms\n",
      "772:\tlearn: 0.3173851\ttotal: 1.84s\tremaining: 541ms\n",
      "773:\tlearn: 0.3172119\ttotal: 1.84s\tremaining: 539ms\n",
      "774:\tlearn: 0.3171150\ttotal: 1.85s\tremaining: 536ms\n",
      "775:\tlearn: 0.3170026\ttotal: 1.85s\tremaining: 534ms\n",
      "776:\tlearn: 0.3169125\ttotal: 1.85s\tremaining: 532ms\n",
      "777:\tlearn: 0.3168190\ttotal: 1.85s\tremaining: 529ms\n",
      "778:\tlearn: 0.3167159\ttotal: 1.86s\tremaining: 527ms\n",
      "779:\tlearn: 0.3166517\ttotal: 1.86s\tremaining: 524ms\n",
      "780:\tlearn: 0.3163897\ttotal: 1.86s\tremaining: 522ms\n",
      "781:\tlearn: 0.3163179\ttotal: 1.86s\tremaining: 520ms\n",
      "782:\tlearn: 0.3160490\ttotal: 1.87s\tremaining: 518ms\n",
      "783:\tlearn: 0.3158786\ttotal: 1.87s\tremaining: 515ms\n",
      "784:\tlearn: 0.3157943\ttotal: 1.87s\tremaining: 513ms\n",
      "785:\tlearn: 0.3156907\ttotal: 1.87s\tremaining: 510ms\n",
      "786:\tlearn: 0.3153829\ttotal: 1.88s\tremaining: 508ms\n",
      "787:\tlearn: 0.3152421\ttotal: 1.88s\tremaining: 506ms\n",
      "788:\tlearn: 0.3151786\ttotal: 1.88s\tremaining: 503ms\n",
      "789:\tlearn: 0.3151619\ttotal: 1.88s\tremaining: 501ms\n",
      "790:\tlearn: 0.3150868\ttotal: 1.89s\tremaining: 499ms\n",
      "791:\tlearn: 0.3149992\ttotal: 1.89s\tremaining: 496ms\n",
      "792:\tlearn: 0.3147228\ttotal: 1.89s\tremaining: 494ms\n",
      "793:\tlearn: 0.3146450\ttotal: 1.89s\tremaining: 492ms\n",
      "794:\tlearn: 0.3145553\ttotal: 1.9s\tremaining: 489ms\n",
      "795:\tlearn: 0.3145269\ttotal: 1.9s\tremaining: 487ms\n",
      "796:\tlearn: 0.3144178\ttotal: 1.9s\tremaining: 485ms\n",
      "797:\tlearn: 0.3143733\ttotal: 1.9s\tremaining: 482ms\n",
      "798:\tlearn: 0.3140941\ttotal: 1.91s\tremaining: 480ms\n",
      "799:\tlearn: 0.3139586\ttotal: 1.91s\tremaining: 477ms\n",
      "800:\tlearn: 0.3138994\ttotal: 1.91s\tremaining: 475ms\n",
      "801:\tlearn: 0.3138394\ttotal: 1.91s\tremaining: 473ms\n",
      "802:\tlearn: 0.3137545\ttotal: 1.92s\tremaining: 470ms\n",
      "803:\tlearn: 0.3136517\ttotal: 1.92s\tremaining: 468ms\n",
      "804:\tlearn: 0.3135511\ttotal: 1.93s\tremaining: 466ms\n",
      "805:\tlearn: 0.3133961\ttotal: 1.93s\tremaining: 464ms\n",
      "806:\tlearn: 0.3132954\ttotal: 1.93s\tremaining: 461ms\n",
      "807:\tlearn: 0.3132331\ttotal: 1.93s\tremaining: 459ms\n",
      "808:\tlearn: 0.3129530\ttotal: 1.93s\tremaining: 457ms\n",
      "809:\tlearn: 0.3129138\ttotal: 1.94s\tremaining: 454ms\n",
      "810:\tlearn: 0.3128189\ttotal: 1.94s\tremaining: 452ms\n",
      "811:\tlearn: 0.3126582\ttotal: 1.94s\tremaining: 450ms\n",
      "812:\tlearn: 0.3124850\ttotal: 1.94s\tremaining: 447ms\n",
      "813:\tlearn: 0.3123682\ttotal: 1.95s\tremaining: 445ms\n",
      "814:\tlearn: 0.3123485\ttotal: 1.95s\tremaining: 442ms\n",
      "815:\tlearn: 0.3121853\ttotal: 1.95s\tremaining: 440ms\n",
      "816:\tlearn: 0.3120777\ttotal: 1.95s\tremaining: 438ms\n",
      "817:\tlearn: 0.3119482\ttotal: 1.96s\tremaining: 435ms\n",
      "818:\tlearn: 0.3117817\ttotal: 1.96s\tremaining: 433ms\n",
      "819:\tlearn: 0.3116221\ttotal: 1.96s\tremaining: 431ms\n",
      "820:\tlearn: 0.3114075\ttotal: 1.96s\tremaining: 428ms\n",
      "821:\tlearn: 0.3112611\ttotal: 1.97s\tremaining: 426ms\n",
      "822:\tlearn: 0.3112251\ttotal: 1.97s\tremaining: 424ms\n",
      "823:\tlearn: 0.3110823\ttotal: 1.97s\tremaining: 421ms\n",
      "824:\tlearn: 0.3107436\ttotal: 1.98s\tremaining: 419ms\n",
      "825:\tlearn: 0.3106043\ttotal: 1.98s\tremaining: 417ms\n",
      "826:\tlearn: 0.3105508\ttotal: 1.98s\tremaining: 414ms\n",
      "827:\tlearn: 0.3104383\ttotal: 1.98s\tremaining: 412ms\n",
      "828:\tlearn: 0.3103904\ttotal: 1.99s\tremaining: 409ms\n",
      "829:\tlearn: 0.3103836\ttotal: 1.99s\tremaining: 407ms\n",
      "830:\tlearn: 0.3102460\ttotal: 1.99s\tremaining: 404ms\n",
      "831:\tlearn: 0.3101244\ttotal: 1.99s\tremaining: 402ms\n",
      "832:\tlearn: 0.3100700\ttotal: 1.99s\tremaining: 399ms\n",
      "833:\tlearn: 0.3100563\ttotal: 1.99s\tremaining: 397ms\n",
      "834:\tlearn: 0.3098748\ttotal: 2s\tremaining: 395ms\n",
      "835:\tlearn: 0.3097280\ttotal: 2s\tremaining: 392ms\n",
      "836:\tlearn: 0.3093683\ttotal: 2s\tremaining: 390ms\n",
      "837:\tlearn: 0.3092450\ttotal: 2s\tremaining: 387ms\n",
      "838:\tlearn: 0.3091797\ttotal: 2.01s\tremaining: 385ms\n",
      "839:\tlearn: 0.3090894\ttotal: 2.01s\tremaining: 383ms\n",
      "840:\tlearn: 0.3088552\ttotal: 2.01s\tremaining: 380ms\n",
      "841:\tlearn: 0.3087461\ttotal: 2.01s\tremaining: 378ms\n",
      "842:\tlearn: 0.3086406\ttotal: 2.02s\tremaining: 376ms\n",
      "843:\tlearn: 0.3085147\ttotal: 2.02s\tremaining: 373ms\n",
      "844:\tlearn: 0.3084409\ttotal: 2.02s\tremaining: 371ms\n",
      "845:\tlearn: 0.3083260\ttotal: 2.02s\tremaining: 368ms\n",
      "846:\tlearn: 0.3081668\ttotal: 2.03s\tremaining: 366ms\n",
      "847:\tlearn: 0.3079400\ttotal: 2.03s\tremaining: 364ms\n",
      "848:\tlearn: 0.3077634\ttotal: 2.03s\tremaining: 361ms\n",
      "849:\tlearn: 0.3076489\ttotal: 2.03s\tremaining: 359ms\n",
      "850:\tlearn: 0.3076365\ttotal: 2.04s\tremaining: 356ms\n",
      "851:\tlearn: 0.3074865\ttotal: 2.04s\tremaining: 354ms\n",
      "852:\tlearn: 0.3072221\ttotal: 2.04s\tremaining: 352ms\n",
      "853:\tlearn: 0.3072098\ttotal: 2.04s\tremaining: 349ms\n",
      "854:\tlearn: 0.3070879\ttotal: 2.04s\tremaining: 347ms\n",
      "855:\tlearn: 0.3069986\ttotal: 2.05s\tremaining: 344ms\n",
      "856:\tlearn: 0.3069637\ttotal: 2.05s\tremaining: 342ms\n",
      "857:\tlearn: 0.3068535\ttotal: 2.05s\tremaining: 339ms\n",
      "858:\tlearn: 0.3065963\ttotal: 2.05s\tremaining: 337ms\n",
      "859:\tlearn: 0.3063791\ttotal: 2.06s\tremaining: 335ms\n",
      "860:\tlearn: 0.3062597\ttotal: 2.06s\tremaining: 332ms\n",
      "861:\tlearn: 0.3061623\ttotal: 2.06s\tremaining: 330ms\n",
      "862:\tlearn: 0.3058416\ttotal: 2.06s\tremaining: 328ms\n",
      "863:\tlearn: 0.3057413\ttotal: 2.07s\tremaining: 325ms\n",
      "864:\tlearn: 0.3055939\ttotal: 2.07s\tremaining: 323ms\n",
      "865:\tlearn: 0.3054987\ttotal: 2.07s\tremaining: 321ms\n",
      "866:\tlearn: 0.3054240\ttotal: 2.07s\tremaining: 318ms\n",
      "867:\tlearn: 0.3053168\ttotal: 2.08s\tremaining: 316ms\n",
      "868:\tlearn: 0.3052823\ttotal: 2.08s\tremaining: 313ms\n",
      "869:\tlearn: 0.3050978\ttotal: 2.08s\tremaining: 311ms\n",
      "870:\tlearn: 0.3049944\ttotal: 2.08s\tremaining: 309ms\n",
      "871:\tlearn: 0.3047999\ttotal: 2.09s\tremaining: 306ms\n",
      "872:\tlearn: 0.3046396\ttotal: 2.09s\tremaining: 304ms\n",
      "873:\tlearn: 0.3045589\ttotal: 2.09s\tremaining: 302ms\n",
      "874:\tlearn: 0.3042948\ttotal: 2.09s\tremaining: 299ms\n",
      "875:\tlearn: 0.3042167\ttotal: 2.1s\tremaining: 297ms\n",
      "876:\tlearn: 0.3041289\ttotal: 2.1s\tremaining: 295ms\n",
      "877:\tlearn: 0.3039970\ttotal: 2.1s\tremaining: 292ms\n",
      "878:\tlearn: 0.3038798\ttotal: 2.1s\tremaining: 290ms\n",
      "879:\tlearn: 0.3038090\ttotal: 2.11s\tremaining: 287ms\n",
      "880:\tlearn: 0.3037761\ttotal: 2.11s\tremaining: 285ms\n",
      "881:\tlearn: 0.3036705\ttotal: 2.11s\tremaining: 283ms\n",
      "882:\tlearn: 0.3033230\ttotal: 2.12s\tremaining: 281ms\n",
      "883:\tlearn: 0.3032207\ttotal: 2.12s\tremaining: 278ms\n",
      "884:\tlearn: 0.3032094\ttotal: 2.12s\tremaining: 276ms\n",
      "885:\tlearn: 0.3030754\ttotal: 2.13s\tremaining: 273ms\n",
      "886:\tlearn: 0.3029964\ttotal: 2.13s\tremaining: 271ms\n",
      "887:\tlearn: 0.3028552\ttotal: 2.13s\tremaining: 269ms\n",
      "888:\tlearn: 0.3028166\ttotal: 2.13s\tremaining: 266ms\n",
      "889:\tlearn: 0.3026849\ttotal: 2.14s\tremaining: 264ms\n",
      "890:\tlearn: 0.3025522\ttotal: 2.14s\tremaining: 262ms\n",
      "891:\tlearn: 0.3024039\ttotal: 2.14s\tremaining: 259ms\n",
      "892:\tlearn: 0.3021302\ttotal: 2.14s\tremaining: 257ms\n",
      "893:\tlearn: 0.3020379\ttotal: 2.15s\tremaining: 255ms\n",
      "894:\tlearn: 0.3019644\ttotal: 2.15s\tremaining: 252ms\n",
      "895:\tlearn: 0.3019078\ttotal: 2.15s\tremaining: 250ms\n",
      "896:\tlearn: 0.3017412\ttotal: 2.15s\tremaining: 247ms\n",
      "897:\tlearn: 0.3015987\ttotal: 2.16s\tremaining: 245ms\n",
      "898:\tlearn: 0.3015596\ttotal: 2.16s\tremaining: 243ms\n",
      "899:\tlearn: 0.3013575\ttotal: 2.16s\tremaining: 240ms\n",
      "900:\tlearn: 0.3012329\ttotal: 2.17s\tremaining: 238ms\n",
      "901:\tlearn: 0.3010121\ttotal: 2.17s\tremaining: 236ms\n",
      "902:\tlearn: 0.3009259\ttotal: 2.17s\tremaining: 233ms\n",
      "903:\tlearn: 0.3007005\ttotal: 2.17s\tremaining: 231ms\n",
      "904:\tlearn: 0.3005522\ttotal: 2.18s\tremaining: 229ms\n",
      "905:\tlearn: 0.3002926\ttotal: 2.18s\tremaining: 226ms\n",
      "906:\tlearn: 0.3002537\ttotal: 2.18s\tremaining: 224ms\n",
      "907:\tlearn: 0.3000972\ttotal: 2.18s\tremaining: 221ms\n",
      "908:\tlearn: 0.3000291\ttotal: 2.19s\tremaining: 219ms\n",
      "909:\tlearn: 0.2999214\ttotal: 2.19s\tremaining: 217ms\n",
      "910:\tlearn: 0.2998473\ttotal: 2.19s\tremaining: 214ms\n",
      "911:\tlearn: 0.2997731\ttotal: 2.19s\tremaining: 212ms\n",
      "912:\tlearn: 0.2996473\ttotal: 2.2s\tremaining: 209ms\n",
      "913:\tlearn: 0.2996367\ttotal: 2.2s\tremaining: 207ms\n",
      "914:\tlearn: 0.2995634\ttotal: 2.2s\tremaining: 205ms\n",
      "915:\tlearn: 0.2994775\ttotal: 2.2s\tremaining: 202ms\n",
      "916:\tlearn: 0.2994206\ttotal: 2.21s\tremaining: 200ms\n",
      "917:\tlearn: 0.2990925\ttotal: 2.21s\tremaining: 197ms\n",
      "918:\tlearn: 0.2990094\ttotal: 2.21s\tremaining: 195ms\n",
      "919:\tlearn: 0.2988460\ttotal: 2.21s\tremaining: 193ms\n",
      "920:\tlearn: 0.2987568\ttotal: 2.22s\tremaining: 190ms\n",
      "921:\tlearn: 0.2985474\ttotal: 2.22s\tremaining: 188ms\n",
      "922:\tlearn: 0.2984305\ttotal: 2.22s\tremaining: 185ms\n",
      "923:\tlearn: 0.2983896\ttotal: 2.23s\tremaining: 183ms\n",
      "924:\tlearn: 0.2982997\ttotal: 2.23s\tremaining: 181ms\n",
      "925:\tlearn: 0.2980684\ttotal: 2.23s\tremaining: 178ms\n",
      "926:\tlearn: 0.2979359\ttotal: 2.23s\tremaining: 176ms\n",
      "927:\tlearn: 0.2976179\ttotal: 2.23s\tremaining: 173ms\n",
      "928:\tlearn: 0.2975505\ttotal: 2.24s\tremaining: 171ms\n",
      "929:\tlearn: 0.2974251\ttotal: 2.24s\tremaining: 169ms\n",
      "930:\tlearn: 0.2971974\ttotal: 2.24s\tremaining: 166ms\n",
      "931:\tlearn: 0.2971641\ttotal: 2.25s\tremaining: 164ms\n",
      "932:\tlearn: 0.2970556\ttotal: 2.25s\tremaining: 161ms\n",
      "933:\tlearn: 0.2968432\ttotal: 2.25s\tremaining: 159ms\n",
      "934:\tlearn: 0.2967350\ttotal: 2.25s\tremaining: 157ms\n",
      "935:\tlearn: 0.2966019\ttotal: 2.25s\tremaining: 154ms\n",
      "936:\tlearn: 0.2965661\ttotal: 2.26s\tremaining: 152ms\n",
      "937:\tlearn: 0.2962992\ttotal: 2.26s\tremaining: 149ms\n",
      "938:\tlearn: 0.2961854\ttotal: 2.26s\tremaining: 147ms\n",
      "939:\tlearn: 0.2960424\ttotal: 2.27s\tremaining: 145ms\n",
      "940:\tlearn: 0.2960414\ttotal: 2.27s\tremaining: 142ms\n",
      "941:\tlearn: 0.2958887\ttotal: 2.27s\tremaining: 140ms\n",
      "942:\tlearn: 0.2956920\ttotal: 2.27s\tremaining: 137ms\n",
      "943:\tlearn: 0.2955441\ttotal: 2.27s\tremaining: 135ms\n",
      "944:\tlearn: 0.2954935\ttotal: 2.28s\tremaining: 133ms\n",
      "945:\tlearn: 0.2954152\ttotal: 2.28s\tremaining: 130ms\n",
      "946:\tlearn: 0.2954050\ttotal: 2.28s\tremaining: 128ms\n",
      "947:\tlearn: 0.2954031\ttotal: 2.28s\tremaining: 125ms\n",
      "948:\tlearn: 0.2952622\ttotal: 2.28s\tremaining: 123ms\n",
      "949:\tlearn: 0.2951402\ttotal: 2.29s\tremaining: 120ms\n",
      "950:\tlearn: 0.2949489\ttotal: 2.29s\tremaining: 118ms\n",
      "951:\tlearn: 0.2948161\ttotal: 2.29s\tremaining: 116ms\n",
      "952:\tlearn: 0.2947068\ttotal: 2.29s\tremaining: 113ms\n",
      "953:\tlearn: 0.2946006\ttotal: 2.3s\tremaining: 111ms\n",
      "954:\tlearn: 0.2944876\ttotal: 2.3s\tremaining: 108ms\n",
      "955:\tlearn: 0.2942767\ttotal: 2.3s\tremaining: 106ms\n",
      "956:\tlearn: 0.2941775\ttotal: 2.31s\tremaining: 104ms\n",
      "957:\tlearn: 0.2941204\ttotal: 2.31s\tremaining: 101ms\n",
      "958:\tlearn: 0.2940507\ttotal: 2.31s\tremaining: 98.8ms\n",
      "959:\tlearn: 0.2938775\ttotal: 2.31s\tremaining: 96.4ms\n",
      "960:\tlearn: 0.2937882\ttotal: 2.32s\tremaining: 94ms\n",
      "961:\tlearn: 0.2937225\ttotal: 2.32s\tremaining: 91.6ms\n",
      "962:\tlearn: 0.2936898\ttotal: 2.32s\tremaining: 89.2ms\n",
      "963:\tlearn: 0.2935684\ttotal: 2.32s\tremaining: 86.8ms\n",
      "964:\tlearn: 0.2934417\ttotal: 2.33s\tremaining: 84.4ms\n",
      "965:\tlearn: 0.2932877\ttotal: 2.33s\tremaining: 82ms\n",
      "966:\tlearn: 0.2931292\ttotal: 2.33s\tremaining: 79.6ms\n",
      "967:\tlearn: 0.2929695\ttotal: 2.33s\tremaining: 77.1ms\n",
      "968:\tlearn: 0.2928960\ttotal: 2.34s\tremaining: 74.7ms\n",
      "969:\tlearn: 0.2927291\ttotal: 2.34s\tremaining: 72.3ms\n",
      "970:\tlearn: 0.2925420\ttotal: 2.34s\tremaining: 69.9ms\n",
      "971:\tlearn: 0.2924398\ttotal: 2.34s\tremaining: 67.5ms\n",
      "972:\tlearn: 0.2923714\ttotal: 2.35s\tremaining: 65.1ms\n",
      "973:\tlearn: 0.2922167\ttotal: 2.35s\tremaining: 62.7ms\n",
      "974:\tlearn: 0.2921228\ttotal: 2.35s\tremaining: 60.3ms\n",
      "975:\tlearn: 0.2920377\ttotal: 2.35s\tremaining: 57.9ms\n",
      "976:\tlearn: 0.2919580\ttotal: 2.36s\tremaining: 55.5ms\n",
      "977:\tlearn: 0.2916568\ttotal: 2.36s\tremaining: 53.1ms\n",
      "978:\tlearn: 0.2915943\ttotal: 2.36s\tremaining: 50.7ms\n",
      "979:\tlearn: 0.2914237\ttotal: 2.36s\tremaining: 48.2ms\n",
      "980:\tlearn: 0.2913424\ttotal: 2.37s\tremaining: 45.8ms\n",
      "981:\tlearn: 0.2910739\ttotal: 2.37s\tremaining: 43.4ms\n",
      "982:\tlearn: 0.2908367\ttotal: 2.37s\tremaining: 41ms\n",
      "983:\tlearn: 0.2907241\ttotal: 2.37s\tremaining: 38.6ms\n",
      "984:\tlearn: 0.2905629\ttotal: 2.38s\tremaining: 36.2ms\n",
      "985:\tlearn: 0.2904075\ttotal: 2.38s\tremaining: 33.8ms\n",
      "986:\tlearn: 0.2903469\ttotal: 2.38s\tremaining: 31.4ms\n",
      "987:\tlearn: 0.2902402\ttotal: 2.38s\tremaining: 29ms\n",
      "988:\tlearn: 0.2900001\ttotal: 2.39s\tremaining: 26.5ms\n",
      "989:\tlearn: 0.2898757\ttotal: 2.39s\tremaining: 24.1ms\n",
      "990:\tlearn: 0.2897754\ttotal: 2.39s\tremaining: 21.7ms\n",
      "991:\tlearn: 0.2895400\ttotal: 2.39s\tremaining: 19.3ms\n",
      "992:\tlearn: 0.2893903\ttotal: 2.4s\tremaining: 16.9ms\n",
      "993:\tlearn: 0.2891924\ttotal: 2.4s\tremaining: 14.5ms\n",
      "994:\tlearn: 0.2889963\ttotal: 2.4s\tremaining: 12.1ms\n",
      "995:\tlearn: 0.2888365\ttotal: 2.4s\tremaining: 9.65ms\n",
      "996:\tlearn: 0.2887055\ttotal: 2.41s\tremaining: 7.24ms\n",
      "997:\tlearn: 0.2883801\ttotal: 2.41s\tremaining: 4.83ms\n",
      "998:\tlearn: 0.2882227\ttotal: 2.41s\tremaining: 2.41ms\n",
      "999:\tlearn: 0.2881841\ttotal: 2.41s\tremaining: 0us\n"
     ]
    },
    {
     "data": {
      "text/plain": [
       "<catboost.core.CatBoostClassifier at 0x7a0899de2170>"
      ]
     },
     "execution_count": 42,
     "metadata": {},
     "output_type": "execute_result"
    }
   ],
   "source": [
    "cbc.fit(X_train, y_train)"
   ]
  },
  {
   "cell_type": "code",
   "execution_count": 43,
   "id": "3c7a3ba1",
   "metadata": {
    "execution": {
     "iopub.execute_input": "2024-03-13T05:54:41.691173Z",
     "iopub.status.busy": "2024-03-13T05:54:41.690779Z",
     "iopub.status.idle": "2024-03-13T05:54:41.701456Z",
     "shell.execute_reply": "2024-03-13T05:54:41.700388Z"
    },
    "papermill": {
     "duration": 0.052508,
     "end_time": "2024-03-13T05:54:41.704072",
     "exception": false,
     "start_time": "2024-03-13T05:54:41.651564",
     "status": "completed"
    },
    "tags": []
   },
   "outputs": [],
   "source": [
    "pred = cbc.predict(X_test)"
   ]
  },
  {
   "cell_type": "code",
   "execution_count": 44,
   "id": "88614943",
   "metadata": {
    "execution": {
     "iopub.execute_input": "2024-03-13T05:54:41.782883Z",
     "iopub.status.busy": "2024-03-13T05:54:41.781711Z",
     "iopub.status.idle": "2024-03-13T05:54:41.797013Z",
     "shell.execute_reply": "2024-03-13T05:54:41.795967Z"
    },
    "papermill": {
     "duration": 0.057349,
     "end_time": "2024-03-13T05:54:41.799861",
     "exception": false,
     "start_time": "2024-03-13T05:54:41.742512",
     "status": "completed"
    },
    "tags": []
   },
   "outputs": [
    {
     "name": "stdout",
     "output_type": "stream",
     "text": [
      "              precision    recall  f1-score   support\n",
      "\n",
      "           0       0.91      0.83      0.87       203\n",
      "           1       0.68      0.82      0.74        92\n",
      "\n",
      "    accuracy                           0.82       295\n",
      "   macro avg       0.79      0.82      0.80       295\n",
      "weighted avg       0.84      0.82      0.83       295\n",
      "\n"
     ]
    }
   ],
   "source": [
    "print(classification_report(pred, y_test))"
   ]
  },
  {
   "cell_type": "markdown",
   "id": "a6bf827f",
   "metadata": {
    "papermill": {
     "duration": 0.036634,
     "end_time": "2024-03-13T05:54:41.874590",
     "exception": false,
     "start_time": "2024-03-13T05:54:41.837956",
     "status": "completed"
    },
    "tags": []
   },
   "source": [
    "## Глубокое обучение Pytorch"
   ]
  },
  {
   "cell_type": "markdown",
   "id": "bf406f2c",
   "metadata": {
    "papermill": {
     "duration": 0.037119,
     "end_time": "2024-03-13T05:54:41.948431",
     "exception": false,
     "start_time": "2024-03-13T05:54:41.911312",
     "status": "completed"
    },
    "tags": []
   },
   "source": [
    "### Подготовка данных"
   ]
  },
  {
   "cell_type": "code",
   "execution_count": 45,
   "id": "36b6f478",
   "metadata": {
    "execution": {
     "iopub.execute_input": "2024-03-13T05:54:42.026556Z",
     "iopub.status.busy": "2024-03-13T05:54:42.025450Z",
     "iopub.status.idle": "2024-03-13T05:54:42.036553Z",
     "shell.execute_reply": "2024-03-13T05:54:42.035410Z"
    },
    "papermill": {
     "duration": 0.05335,
     "end_time": "2024-03-13T05:54:42.039334",
     "exception": false,
     "start_time": "2024-03-13T05:54:41.985984",
     "status": "completed"
    },
    "tags": []
   },
   "outputs": [],
   "source": [
    "X_dummies = pd.get_dummies(X, drop_first=True, dtype=np.float32)"
   ]
  },
  {
   "cell_type": "code",
   "execution_count": 46,
   "id": "faf89037",
   "metadata": {
    "execution": {
     "iopub.execute_input": "2024-03-13T05:54:42.115664Z",
     "iopub.status.busy": "2024-03-13T05:54:42.115209Z",
     "iopub.status.idle": "2024-03-13T05:54:42.124018Z",
     "shell.execute_reply": "2024-03-13T05:54:42.122892Z"
    },
    "papermill": {
     "duration": 0.049995,
     "end_time": "2024-03-13T05:54:42.126404",
     "exception": false,
     "start_time": "2024-03-13T05:54:42.076409",
     "status": "completed"
    },
    "tags": []
   },
   "outputs": [],
   "source": [
    "X_train, X_val, y_train, y_val = train_test_split(X_dummies, y, test_size=.33, random_state=77)"
   ]
  },
  {
   "cell_type": "code",
   "execution_count": 47,
   "id": "78d6733f",
   "metadata": {
    "execution": {
     "iopub.execute_input": "2024-03-13T05:54:42.202959Z",
     "iopub.status.busy": "2024-03-13T05:54:42.202557Z",
     "iopub.status.idle": "2024-03-13T05:54:42.209759Z",
     "shell.execute_reply": "2024-03-13T05:54:42.208569Z"
    },
    "papermill": {
     "duration": 0.048382,
     "end_time": "2024-03-13T05:54:42.212168",
     "exception": false,
     "start_time": "2024-03-13T05:54:42.163786",
     "status": "completed"
    },
    "tags": []
   },
   "outputs": [
    {
     "data": {
      "text/plain": [
       "((596, 9), (295, 9))"
      ]
     },
     "execution_count": 47,
     "metadata": {},
     "output_type": "execute_result"
    }
   ],
   "source": [
    "X_train.shape, X_val.shape"
   ]
  },
  {
   "cell_type": "code",
   "execution_count": 48,
   "id": "23184d1d",
   "metadata": {
    "execution": {
     "iopub.execute_input": "2024-03-13T05:54:42.289407Z",
     "iopub.status.busy": "2024-03-13T05:54:42.289029Z",
     "iopub.status.idle": "2024-03-13T05:54:42.321411Z",
     "shell.execute_reply": "2024-03-13T05:54:42.319829Z"
    },
    "papermill": {
     "duration": 0.074164,
     "end_time": "2024-03-13T05:54:42.324369",
     "exception": false,
     "start_time": "2024-03-13T05:54:42.250205",
     "status": "completed"
    },
    "tags": []
   },
   "outputs": [],
   "source": [
    "# Перевод в тензоры\n",
    "train_X = torch.from_numpy(X_train.values).to(torch.float32)\n",
    "val_X = torch.from_numpy(X_val.values).type_as(train_X)\n",
    "\n",
    "train_y = torch.from_numpy(y_train.values).to(torch.int32)\n",
    "val_y = torch.from_numpy(y_val.values).type_as(train_y)"
   ]
  },
  {
   "cell_type": "code",
   "execution_count": 49,
   "id": "47bec808",
   "metadata": {
    "execution": {
     "iopub.execute_input": "2024-03-13T05:54:42.402498Z",
     "iopub.status.busy": "2024-03-13T05:54:42.402081Z",
     "iopub.status.idle": "2024-03-13T05:54:42.407168Z",
     "shell.execute_reply": "2024-03-13T05:54:42.405851Z"
    },
    "papermill": {
     "duration": 0.046514,
     "end_time": "2024-03-13T05:54:42.409509",
     "exception": false,
     "start_time": "2024-03-13T05:54:42.362995",
     "status": "completed"
    },
    "tags": []
   },
   "outputs": [],
   "source": [
    "BATCH = 32"
   ]
  },
  {
   "cell_type": "code",
   "execution_count": 50,
   "id": "33651491",
   "metadata": {
    "execution": {
     "iopub.execute_input": "2024-03-13T05:54:42.485967Z",
     "iopub.status.busy": "2024-03-13T05:54:42.485522Z",
     "iopub.status.idle": "2024-03-13T05:54:42.491791Z",
     "shell.execute_reply": "2024-03-13T05:54:42.490639Z"
    },
    "papermill": {
     "duration": 0.047088,
     "end_time": "2024-03-13T05:54:42.494016",
     "exception": false,
     "start_time": "2024-03-13T05:54:42.446928",
     "status": "completed"
    },
    "tags": []
   },
   "outputs": [],
   "source": [
    "# Создание датасетов \n",
    "train_dataset = TensorDataset(train_X, train_y)\n",
    "val_dataset = TensorDataset(val_X, val_y)\n",
    "# Создание загрузчиков\n",
    "train_loader = DataLoader(train_dataset, batch_size=BATCH)\n",
    "val_loader = DataLoader(val_dataset, batch_size=BATCH)"
   ]
  },
  {
   "cell_type": "markdown",
   "id": "c9c59943",
   "metadata": {
    "papermill": {
     "duration": 0.037119,
     "end_time": "2024-03-13T05:54:42.568404",
     "exception": false,
     "start_time": "2024-03-13T05:54:42.531285",
     "status": "completed"
    },
    "tags": []
   },
   "source": [
    "### Создание модели нейронной сети"
   ]
  },
  {
   "cell_type": "code",
   "execution_count": 51,
   "id": "a3771d8f",
   "metadata": {
    "execution": {
     "iopub.execute_input": "2024-03-13T05:54:42.646625Z",
     "iopub.status.busy": "2024-03-13T05:54:42.646188Z",
     "iopub.status.idle": "2024-03-13T05:54:42.655655Z",
     "shell.execute_reply": "2024-03-13T05:54:42.654440Z"
    },
    "papermill": {
     "duration": 0.051515,
     "end_time": "2024-03-13T05:54:42.658240",
     "exception": false,
     "start_time": "2024-03-13T05:54:42.606725",
     "status": "completed"
    },
    "tags": []
   },
   "outputs": [],
   "source": [
    "class TitanicModel(nn.Module):\n",
    "    def __init__(self, in_features, out_features):\n",
    "        super().__init__()\n",
    "        self.lin_linear1 = nn.Linear(in_features, 250)        \n",
    "        self.lin_linear2 = nn.Linear(250, 150)\n",
    "        self.lin_linear3 = nn.Linear(150, out_features)\n",
    "        self.do1 = nn.Dropout(.8)\n",
    "        self.do2 = nn.Dropout(.2)\n",
    "        self.relu = F.relu\n",
    "        self.sigmoid = torch.sigmoid\n",
    "    \n",
    "    def forward(self, x):\n",
    "        x = self.lin_linear1(x)\n",
    "        x = self.relu(x)\n",
    "        \n",
    "        x = self.lin_linear2(x)\n",
    "        x = self.relu(x)\n",
    "        x = self.do2(x)\n",
    "        \n",
    "        x = self.lin_linear3(x)\n",
    "        \n",
    "        return x"
   ]
  },
  {
   "cell_type": "markdown",
   "id": "6ec92ade",
   "metadata": {
    "papermill": {
     "duration": 0.044988,
     "end_time": "2024-03-13T05:54:42.741057",
     "exception": false,
     "start_time": "2024-03-13T05:54:42.696069",
     "status": "completed"
    },
    "tags": []
   },
   "source": [
    "### Обучение модели TitanicModel"
   ]
  },
  {
   "cell_type": "code",
   "execution_count": 52,
   "id": "b680ea53",
   "metadata": {
    "execution": {
     "iopub.execute_input": "2024-03-13T05:54:42.829510Z",
     "iopub.status.busy": "2024-03-13T05:54:42.829149Z",
     "iopub.status.idle": "2024-03-13T05:54:43.654520Z",
     "shell.execute_reply": "2024-03-13T05:54:43.653240Z"
    },
    "papermill": {
     "duration": 0.867978,
     "end_time": "2024-03-13T05:54:43.657435",
     "exception": false,
     "start_time": "2024-03-13T05:54:42.789457",
     "status": "completed"
    },
    "tags": []
   },
   "outputs": [],
   "source": [
    "model = TitanicModel(train_X.shape[1], 1)\n",
    "optimizer = torch.optim.Adam(model.parameters(), lr=0.0001)\n",
    "loss_function = nn.BCEWithLogitsLoss()\n",
    "DEVICE = 'cuda' if torch.cuda.is_available() else 'cpu'"
   ]
  },
  {
   "cell_type": "code",
   "execution_count": 53,
   "id": "c950b6e8",
   "metadata": {
    "execution": {
     "iopub.execute_input": "2024-03-13T05:54:43.737353Z",
     "iopub.status.busy": "2024-03-13T05:54:43.735780Z",
     "iopub.status.idle": "2024-03-13T05:54:53.857117Z",
     "shell.execute_reply": "2024-03-13T05:54:53.856126Z"
    },
    "papermill": {
     "duration": 10.163394,
     "end_time": "2024-03-13T05:54:53.859226",
     "exception": false,
     "start_time": "2024-03-13T05:54:43.695832",
     "status": "completed"
    },
    "scrolled": true,
    "tags": []
   },
   "outputs": [
    {
     "data": {
      "application/vnd.jupyter.widget-view+json": {
       "model_id": "8db023f4edbc477cb23ec2a4e84394ae",
       "version_major": 2,
       "version_minor": 0
      },
      "text/plain": [
       "  0%|          | 0/150 [00:00<?, ?it/s]"
      ]
     },
     "metadata": {},
     "output_type": "display_data"
    }
   ],
   "source": [
    "EPOCHS = 150\n",
    "\n",
    "loss_train = []\n",
    "val_loss = []\n",
    "total_loss = []\n",
    "total_val_loss = []\n",
    "acc_val = []\n",
    "\n",
    "model = model.to(DEVICE)\n",
    "accuracy = Accuracy(task='binary')\n",
    "\n",
    "for epoch in tqdm(range(EPOCHS)):\n",
    "    # Процесс обучения\n",
    "    for iteration, (X_batch, y_batch) in enumerate(train_loader):\n",
    "        # Перевод модели в режим обучения\n",
    "        model.train()\n",
    "        # Обнуляем градиенты у оптимизатора\n",
    "        optimizer.zero_grad()\n",
    "        # Пропускаем данные через модель        \n",
    "        outputs = model(X_batch.to(DEVICE))\n",
    "        outputs = outputs.view(-1)\n",
    "        # Считаем лосс\n",
    "        loss = loss_function(outputs, y_batch.to(torch.float32).to(DEVICE))\n",
    "        # Делаем шаг в обратном направлении\n",
    "        loss.backward()\n",
    "        # Собираем лоссы\n",
    "        loss_train.append(loss.detach().cpu().numpy().item())\n",
    "        # Делаем шаг оптимизатора\n",
    "        optimizer.step()\n",
    "    # Собираем средний лосс\n",
    "    total_loss.append(np.mean(loss_train))\n",
    "    # Процесс валидации\n",
    "    for iteration, (X_val, y_val) in enumerate(val_loader):\n",
    "        # Перевод модели в режим валидации, тестирования\n",
    "        model.eval()\n",
    "        with torch.no_grad():\n",
    "            outputs = model(X_val.to(DEVICE))\n",
    "            outputs = outputs.view(-1)\n",
    "            # Рассчитываем лосс\n",
    "            loss = loss_function(outputs, y_val.to(torch.float32).to(DEVICE))\n",
    "            # Собираем лосс\n",
    "            val_loss.append(loss)\n",
    "            # Считаем вероятности\n",
    "            proba = torch.sigmoid(outputs)\n",
    "            # Считаем метрику\n",
    "            acc = accuracy(proba, y_val.to(DEVICE))\n",
    "            acc_val.append(acc)\n",
    "            \n",
    "    # Собираем средний тестовый лосс\n",
    "    total_val_loss.append(np.mean(val_loss))"
   ]
  },
  {
   "cell_type": "code",
   "execution_count": 54,
   "id": "f387e481",
   "metadata": {
    "execution": {
     "iopub.execute_input": "2024-03-13T05:54:53.935052Z",
     "iopub.status.busy": "2024-03-13T05:54:53.934594Z",
     "iopub.status.idle": "2024-03-13T05:54:53.956650Z",
     "shell.execute_reply": "2024-03-13T05:54:53.955466Z"
    },
    "papermill": {
     "duration": 0.06296,
     "end_time": "2024-03-13T05:54:53.958964",
     "exception": false,
     "start_time": "2024-03-13T05:54:53.896004",
     "status": "completed"
    },
    "tags": []
   },
   "outputs": [
    {
     "name": "stdout",
     "output_type": "stream",
     "text": [
      "Accuracy: 78.45%\n"
     ]
    }
   ],
   "source": [
    "acc = np.mean(acc_val)\n",
    "print(f'Accuracy: {acc:.2%}')"
   ]
  },
  {
   "cell_type": "code",
   "execution_count": 55,
   "id": "ec36fddf",
   "metadata": {
    "execution": {
     "iopub.execute_input": "2024-03-13T05:54:54.036627Z",
     "iopub.status.busy": "2024-03-13T05:54:54.035466Z",
     "iopub.status.idle": "2024-03-13T05:54:54.316110Z",
     "shell.execute_reply": "2024-03-13T05:54:54.314829Z"
    },
    "papermill": {
     "duration": 0.322073,
     "end_time": "2024-03-13T05:54:54.318739",
     "exception": false,
     "start_time": "2024-03-13T05:54:53.996666",
     "status": "completed"
    },
    "tags": []
   },
   "outputs": [
    {
     "data": {
      "text/plain": [
       "[<matplotlib.lines.Line2D at 0x7a0890b0c8b0>]"
      ]
     },
     "execution_count": 55,
     "metadata": {},
     "output_type": "execute_result"
    },
    {
     "data": {
      "image/png": "[encoded data removed]",
      "text/plain": [
       "<Figure size 640x480 with 1 Axes>"
      ]
     },
     "metadata": {},
     "output_type": "display_data"
    }
   ],
   "source": [
    "plt.plot(total_loss, color='red')\n",
    "plt.plot(total_val_loss, color='blue')"
   ]
  },
  {
   "cell_type": "markdown",
   "id": "a207f308",
   "metadata": {
    "papermill": {
     "duration": 0.039229,
     "end_time": "2024-03-13T05:54:54.395967",
     "exception": false,
     "start_time": "2024-03-13T05:54:54.356738",
     "status": "completed"
    },
    "tags": []
   },
   "source": [
    "## Тестовые данные"
   ]
  },
  {
   "cell_type": "code",
   "execution_count": 56,
   "id": "0a1dfe0a",
   "metadata": {
    "execution": {
     "iopub.execute_input": "2024-03-13T05:54:54.474191Z",
     "iopub.status.busy": "2024-03-13T05:54:54.473800Z",
     "iopub.status.idle": "2024-03-13T05:54:54.479041Z",
     "shell.execute_reply": "2024-03-13T05:54:54.477898Z"
    },
    "papermill": {
     "duration": 0.046835,
     "end_time": "2024-03-13T05:54:54.481343",
     "exception": false,
     "start_time": "2024-03-13T05:54:54.434508",
     "status": "completed"
    },
    "tags": []
   },
   "outputs": [],
   "source": [
    "test_update = df[titanic.shape[0]:]"
   ]
  },
  {
   "cell_type": "code",
   "execution_count": 57,
   "id": "b1e29c6f",
   "metadata": {
    "execution": {
     "iopub.execute_input": "2024-03-13T05:54:54.559719Z",
     "iopub.status.busy": "2024-03-13T05:54:54.559255Z",
     "iopub.status.idle": "2024-03-13T05:54:54.566826Z",
     "shell.execute_reply": "2024-03-13T05:54:54.565583Z"
    },
    "papermill": {
     "duration": 0.049587,
     "end_time": "2024-03-13T05:54:54.569407",
     "exception": false,
     "start_time": "2024-03-13T05:54:54.519820",
     "status": "completed"
    },
    "tags": []
   },
   "outputs": [],
   "source": [
    "predict_test = cbc.predict(test_update)"
   ]
  },
  {
   "cell_type": "code",
   "execution_count": 58,
   "id": "366bf14c",
   "metadata": {
    "execution": {
     "iopub.execute_input": "2024-03-13T05:54:54.648900Z",
     "iopub.status.busy": "2024-03-13T05:54:54.648480Z",
     "iopub.status.idle": "2024-03-13T05:54:54.654113Z",
     "shell.execute_reply": "2024-03-13T05:54:54.653051Z"
    },
    "papermill": {
     "duration": 0.047442,
     "end_time": "2024-03-13T05:54:54.656555",
     "exception": false,
     "start_time": "2024-03-13T05:54:54.609113",
     "status": "completed"
    },
    "tags": []
   },
   "outputs": [],
   "source": [
    "result_df = pd.DataFrame(data={'PassengerId': test['PassengerId'].values,\n",
    "                  'Survived': predict_test})"
   ]
  },
  {
   "cell_type": "code",
   "execution_count": 59,
   "id": "74023f2a",
   "metadata": {
    "execution": {
     "iopub.execute_input": "2024-03-13T05:54:54.734891Z",
     "iopub.status.busy": "2024-03-13T05:54:54.734486Z",
     "iopub.status.idle": "2024-03-13T05:54:54.742561Z",
     "shell.execute_reply": "2024-03-13T05:54:54.741630Z"
    },
    "papermill": {
     "duration": 0.050068,
     "end_time": "2024-03-13T05:54:54.744964",
     "exception": false,
     "start_time": "2024-03-13T05:54:54.694896",
     "status": "completed"
    },
    "tags": []
   },
   "outputs": [],
   "source": [
    "result_df.to_csv('cbc_stock_model.csv', index=False)"
   ]
  },
  {
   "cell_type": "code",
   "execution_count": null,
   "id": "0898f1cb",
   "metadata": {
    "papermill": {
     "duration": 0.037914,
     "end_time": "2024-03-13T05:54:54.821819",
     "exception": false,
     "start_time": "2024-03-13T05:54:54.783905",
     "status": "completed"
    },
    "tags": []
   },
   "outputs": [],
   "source": []
  },
  {
   "cell_type": "code",
   "execution_count": null,
   "id": "28e34dbc",
   "metadata": {
    "papermill": {
     "duration": 0.03767,
     "end_time": "2024-03-13T05:54:54.897697",
     "exception": false,
     "start_time": "2024-03-13T05:54:54.860027",
     "status": "completed"
    },
    "tags": []
   },
   "outputs": [],
   "source": []
  }
 ],
 "metadata": {
  "kaggle": {
   "accelerator": "none",
   "dataSources": [
    {
     "databundleVersionId": 26502,
     "sourceId": 3136,
     "sourceType": "competition"
    }
   ],
   "dockerImageVersionId": 30664,
   "isGpuEnabled": false,
   "isInternetEnabled": true,
   "language": "python",
   "sourceType": "notebook"
  },
  "kernelspec": {
   "display_name": "Python 3",
   "language": "python",
   "name": "python3"
  },
  "language_info": {
   "codemirror_mode": {
    "name": "ipython",
    "version": 3
   },
   "file_extension": ".py",
   "mimetype": "text/x-python",
   "name": "python",
   "nbconvert_exporter": "python",
   "pygments_lexer": "ipython3",
   "version": "3.10.13"
  },
  "papermill": {
   "default_parameters": {},
   "duration": 44.218725,
   "end_time": "2024-03-13T05:54:57.396207",
   "environment_variables": {},
   "exception": null,
   "input_path": "__notebook__.ipynb",
   "output_path": "__notebook__.ipynb",
   "parameters": {},
   "start_time": "2024-03-13T05:54:13.177482",
   "version": "2.5.0"
  },
  "widgets": {
   "application/vnd.jupyter.widget-state+json": {
    "state": {
     "0c1b510839a749118a5ad988b00a2f0d": {
      "model_module": "@jupyter-widgets/controls",
      "model_module_version": "1.5.0",
      "model_name": "HTMLModel",
      "state": {
       "_dom_classes": [],
       "_model_module": "@jupyter-widgets/controls",
       "_model_module_version": "1.5.0",
       "_model_name": "HTMLModel",
       "_view_count": null,
       "_view_module": "@jupyter-widgets/controls",
       "_view_module_version": "1.5.0",
       "_view_name": "HTMLView",
       "description": "",
       "description_tooltip": null,
       "layout": "IPY_MODEL_66d8e7c70b184ae9b51db830cee4392f",
       "placeholder": "​",
       "style": "IPY_MODEL_da3fcad60de94af6b27c9639c884975f",
       "value": "100%"
      }
     },
     "37f7ed557b9346de87852775ec7d80a6": {
      "model_module": "@jupyter-widgets/controls",
      "model_module_version": "1.5.0",
      "model_name": "HTMLModel",
      "state": {
       "_dom_classes": [],
       "_model_module": "@jupyter-widgets/controls",
       "_model_module_version": "1.5.0",
       "_model_name": "HTMLModel",
       "_view_count": null,
       "_view_module": "@jupyter-widgets/controls",
       "_view_module_version": "1.5.0",
       "_view_name": "HTMLView",
       "description": "",
       "description_tooltip": null,
       "layout": "IPY_MODEL_bb48490265844c08ad6a52102bca5c73",
       "placeholder": "​",
       "style": "IPY_MODEL_f1237bd7440b44ee8888539ddb1e67e5",
       "value": " 150/150 [00:10&lt;00:00, 13.90it/s]"
      }
     },
     "566302817a5f43869b9eda8916dd549b": {
      "model_module": "@jupyter-widgets/base",
      "model_module_version": "1.2.0",
      "model_name": "LayoutModel",
      "state": {
       "_model_module": "@jupyter-widgets/base",
       "_model_module_version": "1.2.0",
       "_model_name": "LayoutModel",
       "_view_count": null,
       "_view_module": "@jupyter-widgets/base",
       "_view_module_version": "1.2.0",
       "_view_name": "LayoutView",
       "align_content": null,
       "align_items": null,
       "align_self": null,
       "border": null,
       "bottom": null,
       "display": null,
       "flex": null,
       "flex_flow": null,
       "grid_area": null,
       "grid_auto_columns": null,
       "grid_auto_flow": null,
       "grid_auto_rows": null,
       "grid_column": null,
       "grid_gap": null,
       "grid_row": null,
       "grid_template_areas": null,
       "grid_template_columns": null,
       "grid_template_rows": null,
       "height": null,
       "justify_content": null,
       "justify_items": null,
       "left": null,
       "margin": null,
       "max_height": null,
       "max_width": null,
       "min_height": null,
       "min_width": null,
       "object_fit": null,
       "object_position": null,
       "order": null,
       "overflow": null,
       "overflow_x": null,
       "overflow_y": null,
       "padding": null,
       "right": null,
       "top": null,
       "visibility": null,
       "width": null
      }
     },
     "66d8e7c70b184ae9b51db830cee4392f": {
      "model_module": "@jupyter-widgets/base",
      "model_module_version": "1.2.0",
      "model_name": "LayoutModel",
      "state": {
       "_model_module": "@jupyter-widgets/base",
       "_model_module_version": "1.2.0",
       "_model_name": "LayoutModel",
       "_view_count": null,
       "_view_module": "@jupyter-widgets/base",
       "_view_module_version": "1.2.0",
       "_view_name": "LayoutView",
       "align_content": null,
       "align_items": null,
       "align_self": null,
       "border": null,
       "bottom": null,
       "display": null,
       "flex": null,
       "flex_flow": null,
       "grid_area": null,
       "grid_auto_columns": null,
       "grid_auto_flow": null,
       "grid_auto_rows": null,
       "grid_column": null,
       "grid_gap": null,
       "grid_row": null,
       "grid_template_areas": null,
       "grid_template_columns": null,
       "grid_template_rows": null,
       "height": null,
       "justify_content": null,
       "justify_items": null,
       "left": null,
       "margin": null,
       "max_height": null,
       "max_width": null,
       "min_height": null,
       "min_width": null,
       "object_fit": null,
       "object_position": null,
       "order": null,
       "overflow": null,
       "overflow_x": null,
       "overflow_y": null,
       "padding": null,
       "right": null,
       "top": null,
       "visibility": null,
       "width": null
      }
     },
     "6a83b5235ae14811844a51cb3c5f827b": {
      "model_module": "@jupyter-widgets/controls",
      "model_module_version": "1.5.0",
      "model_name": "FloatProgressModel",
      "state": {
       "_dom_classes": [],
       "_model_module": "@jupyter-widgets/controls",
       "_model_module_version": "1.5.0",
       "_model_name": "FloatProgressModel",
       "_view_count": null,
       "_view_module": "@jupyter-widgets/controls",
       "_view_module_version": "1.5.0",
       "_view_name": "ProgressView",
       "bar_style": "success",
       "description": "",
       "description_tooltip": null,
       "layout": "IPY_MODEL_566302817a5f43869b9eda8916dd549b",
       "max": 150.0,
       "min": 0.0,
       "orientation": "horizontal",
       "style": "IPY_MODEL_7be9c2e11a524af482446650820dffef",
       "value": 150.0
      }
     },
     "7be9c2e11a524af482446650820dffef": {
      "model_module": "@jupyter-widgets/controls",
      "model_module_version": "1.5.0",
      "model_name": "ProgressStyleModel",
      "state": {
       "_model_module": "@jupyter-widgets/controls",
       "_model_module_version": "1.5.0",
       "_model_name": "ProgressStyleModel",
       "_view_count": null,
       "_view_module": "@jupyter-widgets/base",
       "_view_module_version": "1.2.0",
       "_view_name": "StyleView",
       "bar_color": null,
       "description_width": ""
      }
     },
     "8db023f4edbc477cb23ec2a4e84394ae": {
      "model_module": "@jupyter-widgets/controls",
      "model_module_version": "1.5.0",
      "model_name": "HBoxModel",
      "state": {
       "_dom_classes": [],
       "_model_module": "@jupyter-widgets/controls",
       "_model_module_version": "1.5.0",
       "_model_name": "HBoxModel",
       "_view_count": null,
       "_view_module": "@jupyter-widgets/controls",
       "_view_module_version": "1.5.0",
       "_view_name": "HBoxView",
       "box_style": "",
       "children": [
        "IPY_MODEL_0c1b510839a749118a5ad988b00a2f0d",
        "IPY_MODEL_6a83b5235ae14811844a51cb3c5f827b",
        "IPY_MODEL_37f7ed557b9346de87852775ec7d80a6"
       ],
       "layout": "IPY_MODEL_a9c0540623ab4b34b324c4f18667a98c"
      }
     },
     "a9c0540623ab4b34b324c4f18667a98c": {
      "model_module": "@jupyter-widgets/base",
      "model_module_version": "1.2.0",
      "model_name": "LayoutModel",
      "state": {
       "_model_module": "@jupyter-widgets/base",
       "_model_module_version": "1.2.0",
       "_model_name": "LayoutModel",
       "_view_count": null,
       "_view_module": "@jupyter-widgets/base",
       "_view_module_version": "1.2.0",
       "_view_name": "LayoutView",
       "align_content": null,
       "align_items": null,
       "align_self": null,
       "border": null,
       "bottom": null,
       "display": null,
       "flex": null,
       "flex_flow": null,
       "grid_area": null,
       "grid_auto_columns": null,
       "grid_auto_flow": null,
       "grid_auto_rows": null,
       "grid_column": null,
       "grid_gap": null,
       "grid_row": null,
       "grid_template_areas": null,
       "grid_template_columns": null,
       "grid_template_rows": null,
       "height": null,
       "justify_content": null,
       "justify_items": null,
       "left": null,
       "margin": null,
       "max_height": null,
       "max_width": null,
       "min_height": null,
       "min_width": null,
       "object_fit": null,
       "object_position": null,
       "order": null,
       "overflow": null,
       "overflow_x": null,
       "overflow_y": null,
       "padding": null,
       "right": null,
       "top": null,
       "visibility": null,
       "width": null
      }
     },
     "bb48490265844c08ad6a52102bca5c73": {
      "model_module": "@jupyter-widgets/base",
      "model_module_version": "1.2.0",
      "model_name": "LayoutModel",
      "state": {
       "_model_module": "@jupyter-widgets/base",
       "_model_module_version": "1.2.0",
       "_model_name": "LayoutModel",
       "_view_count": null,
       "_view_module": "@jupyter-widgets/base",
       "_view_module_version": "1.2.0",
       "_view_name": "LayoutView",
       "align_content": null,
       "align_items": null,
       "align_self": null,
       "border": null,
       "bottom": null,
       "display": null,
       "flex": null,
       "flex_flow": null,
       "grid_area": null,
       "grid_auto_columns": null,
       "grid_auto_flow": null,
       "grid_auto_rows": null,
       "grid_column": null,
       "grid_gap": null,
       "grid_row": null,
       "grid_template_areas": null,
       "grid_template_columns": null,
       "grid_template_rows": null,
       "height": null,
       "justify_content": null,
       "justify_items": null,
       "left": null,
       "margin": null,
       "max_height": null,
       "max_width": null,
       "min_height": null,
       "min_width": null,
       "object_fit": null,
       "object_position": null,
       "order": null,
       "overflow": null,
       "overflow_x": null,
       "overflow_y": null,
       "padding": null,
       "right": null,
       "top": null,
       "visibility": null,
       "width": null
      }
     },
     "da3fcad60de94af6b27c9639c884975f": {
      "model_module": "@jupyter-widgets/controls",
      "model_module_version": "1.5.0",
      "model_name": "DescriptionStyleModel",
      "state": {
       "_model_module": "@jupyter-widgets/controls",
       "_model_module_version": "1.5.0",
       "_model_name": "DescriptionStyleModel",
       "_view_count": null,
       "_view_module": "@jupyter-widgets/base",
       "_view_module_version": "1.2.0",
       "_view_name": "StyleView",
       "description_width": ""
      }
     },
     "f1237bd7440b44ee8888539ddb1e67e5": {
      "model_module": "@jupyter-widgets/controls",
      "model_module_version": "1.5.0",
      "model_name": "DescriptionStyleModel",
      "state": {
       "_model_module": "@jupyter-widgets/controls",
       "_model_module_version": "1.5.0",
       "_model_name": "DescriptionStyleModel",
       "_view_count": null,
       "_view_module": "@jupyter-widgets/base",
       "_view_module_version": "1.2.0",
       "_view_name": "StyleView",
       "description_width": ""
      }
     }
    },
    "version_major": 2,
    "version_minor": 0
   }
  }
 },
 "nbformat": 4,
 "nbformat_minor": 5
}
