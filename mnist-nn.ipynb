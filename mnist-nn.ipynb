{
 "cells": [
  {
   "cell_type": "code",
   "execution_count": 1,
   "id": "cc1ad630",
   "metadata": {
    "_cell_guid": "b1076dfc-b9ad-4769-8c92-a6c4dae69d19",
    "_uuid": "8f2839f25d086af736a60e9eeb907d3b93b6e0e5",
    "execution": {
     "iopub.execute_input": "2024-03-16T14:55:37.378853Z",
     "iopub.status.busy": "2024-03-16T14:55:37.378490Z",
     "iopub.status.idle": "2024-03-16T14:55:46.420665Z",
     "shell.execute_reply": "2024-03-16T14:55:46.419543Z"
    },
    "papermill": {
     "duration": 9.055569,
     "end_time": "2024-03-16T14:55:46.422847",
     "exception": false,
     "start_time": "2024-03-16T14:55:37.367278",
     "status": "completed"
    },
    "tags": []
   },
   "outputs": [
    {
     "name": "stdout",
     "output_type": "stream",
     "text": [
      "/kaggle/input/images-mnist/1 for mnist.png\n",
      "/kaggle/input/images-mnist/7 for mnist.png\n",
      "/kaggle/input/images-mnist/5 for mnist.png\n"
     ]
    }
   ],
   "source": [
    "# This Python 3 environment comes with many helpful analytics libraries installed\n",
    "# It is defined by the kaggle/python Docker image: https://github.com/kaggle/docker-python\n",
    "# For example, here's several helpful packages to load\n",
    "\n",
    "import numpy as np # linear algebra\n",
    "import pandas as pd # data processing, CSV file I/O (e.g. pd.read_csv)\n",
    "import matplotlib.pyplot as plt\n",
    "import seaborn as sns\n",
    "import cv2\n",
    "import warnings\n",
    "import random\n",
    "\n",
    "from sklearn.model_selection import train_test_split\n",
    "\n",
    "import torch\n",
    "import torch.nn as nn\n",
    "from torch.utils.data import DataLoader, TensorDataset\n",
    "import torch.nn.functional as F\n",
    "\n",
    "import torchvision as tv\n",
    "\n",
    "from tqdm.autonotebook import tqdm\n",
    "# Input data files are available in the read-only \"../input/\" directory\n",
    "# For example, running this (by clicking run or pressing Shift+Enter) will list all files under the input directory\n",
    "\n",
    "import os\n",
    "for dirname, _, filenames in os.walk('/kaggle/input'):\n",
    "    for filename in filenames:\n",
    "        print(os.path.join(dirname, filename))\n",
    "\n",
    "# You can write up to 20GB to the current directory (/kaggle/working/) that gets preserved as output when you create a version using \"Save & Run All\" \n",
    "# You can also write temporary files to /kaggle/temp/, but they won't be saved outside of the current session\n",
    "plt.style.use('dark_background')\n",
    "warnings.filterwarnings('ignore', 'FutureWarnings')"
   ]
  },
  {
   "cell_type": "markdown",
   "id": "f434cf73",
   "metadata": {
    "papermill": {
     "duration": 0.009051,
     "end_time": "2024-03-16T14:55:46.441834",
     "exception": false,
     "start_time": "2024-03-16T14:55:46.432783",
     "status": "completed"
    },
    "tags": []
   },
   "source": [
    "## Загрузка данных"
   ]
  },
  {
   "cell_type": "code",
   "execution_count": 2,
   "id": "4edf8c5a",
   "metadata": {
    "execution": {
     "iopub.execute_input": "2024-03-16T14:55:46.461771Z",
     "iopub.status.busy": "2024-03-16T14:55:46.461111Z",
     "iopub.status.idle": "2024-03-16T14:55:46.466150Z",
     "shell.execute_reply": "2024-03-16T14:55:46.465139Z"
    },
    "papermill": {
     "duration": 0.017694,
     "end_time": "2024-03-16T14:55:46.468684",
     "exception": false,
     "start_time": "2024-03-16T14:55:46.450990",
     "status": "completed"
    },
    "tags": []
   },
   "outputs": [],
   "source": [
    "transform = tv.transforms.Compose(\n",
    "    [\n",
    "        tv.transforms.ToTensor(),\n",
    "    ]\n",
    ")"
   ]
  },
  {
   "cell_type": "code",
   "execution_count": 3,
   "id": "a0f125a8",
   "metadata": {
    "execution": {
     "iopub.execute_input": "2024-03-16T14:55:46.492628Z",
     "iopub.status.busy": "2024-03-16T14:55:46.492340Z",
     "iopub.status.idle": "2024-03-16T14:55:47.405292Z",
     "shell.execute_reply": "2024-03-16T14:55:47.404412Z"
    },
    "papermill": {
     "duration": 0.925263,
     "end_time": "2024-03-16T14:55:47.407409",
     "exception": false,
     "start_time": "2024-03-16T14:55:46.482146",
     "status": "completed"
    },
    "tags": []
   },
   "outputs": [
    {
     "name": "stdout",
     "output_type": "stream",
     "text": [
      "Downloading http://yann.lecun.com/exdb/mnist/train-images-idx3-ubyte.gz\n",
      "Downloading http://yann.lecun.com/exdb/mnist/train-images-idx3-ubyte.gz to /.datasets/MNIST/raw/train-images-idx3-ubyte.gz\n"
     ]
    },
    {
     "name": "stderr",
     "output_type": "stream",
     "text": [
      "100%|██████████| 9912422/9912422 [00:00<00:00, 101879528.74it/s]\n"
     ]
    },
    {
     "name": "stdout",
     "output_type": "stream",
     "text": [
      "Extracting /.datasets/MNIST/raw/train-images-idx3-ubyte.gz to /.datasets/MNIST/raw\n",
      "\n",
      "Downloading http://yann.lecun.com/exdb/mnist/train-labels-idx1-ubyte.gz\n",
      "Downloading http://yann.lecun.com/exdb/mnist/train-labels-idx1-ubyte.gz to /.datasets/MNIST/raw/train-labels-idx1-ubyte.gz\n"
     ]
    },
    {
     "name": "stderr",
     "output_type": "stream",
     "text": [
      "100%|██████████| 28881/28881 [00:00<00:00, 50138946.12it/s]\n"
     ]
    },
    {
     "name": "stdout",
     "output_type": "stream",
     "text": [
      "Extracting /.datasets/MNIST/raw/train-labels-idx1-ubyte.gz to /.datasets/MNIST/raw\n",
      "\n",
      "Downloading http://yann.lecun.com/exdb/mnist/t10k-images-idx3-ubyte.gz\n",
      "Downloading http://yann.lecun.com/exdb/mnist/t10k-images-idx3-ubyte.gz to /.datasets/MNIST/raw/t10k-images-idx3-ubyte.gz\n"
     ]
    },
    {
     "name": "stderr",
     "output_type": "stream",
     "text": [
      "100%|██████████| 1648877/1648877 [00:00<00:00, 27516626.80it/s]"
     ]
    },
    {
     "name": "stdout",
     "output_type": "stream",
     "text": [
      "Extracting /.datasets/MNIST/raw/t10k-images-idx3-ubyte.gz to /.datasets/MNIST/raw\n"
     ]
    },
    {
     "name": "stderr",
     "output_type": "stream",
     "text": [
      "\n"
     ]
    },
    {
     "name": "stdout",
     "output_type": "stream",
     "text": [
      "\n",
      "Downloading http://yann.lecun.com/exdb/mnist/t10k-labels-idx1-ubyte.gz\n",
      "Downloading http://yann.lecun.com/exdb/mnist/t10k-labels-idx1-ubyte.gz to /.datasets/MNIST/raw/t10k-labels-idx1-ubyte.gz\n"
     ]
    },
    {
     "name": "stderr",
     "output_type": "stream",
     "text": [
      "100%|██████████| 4542/4542 [00:00<00:00, 6614766.93it/s]\n"
     ]
    },
    {
     "name": "stdout",
     "output_type": "stream",
     "text": [
      "Extracting /.datasets/MNIST/raw/t10k-labels-idx1-ubyte.gz to /.datasets/MNIST/raw\n",
      "\n"
     ]
    }
   ],
   "source": [
    "ds_mnist = tv.datasets.MNIST('/.datasets', download=True, transform=transform)"
   ]
  },
  {
   "cell_type": "code",
   "execution_count": 4,
   "id": "2bc54cf4",
   "metadata": {
    "execution": {
     "iopub.execute_input": "2024-03-16T14:55:47.431961Z",
     "iopub.status.busy": "2024-03-16T14:55:47.431690Z",
     "iopub.status.idle": "2024-03-16T14:55:47.499409Z",
     "shell.execute_reply": "2024-03-16T14:55:47.498311Z"
    },
    "papermill": {
     "duration": 0.082135,
     "end_time": "2024-03-16T14:55:47.501934",
     "exception": false,
     "start_time": "2024-03-16T14:55:47.419799",
     "status": "completed"
    },
    "tags": []
   },
   "outputs": [],
   "source": [
    "X = ds_mnist.data.to(torch.float32)\n",
    "y = ds_mnist.targets.to(torch.int64)"
   ]
  },
  {
   "cell_type": "code",
   "execution_count": 5,
   "id": "88549967",
   "metadata": {
    "execution": {
     "iopub.execute_input": "2024-03-16T14:55:47.526301Z",
     "iopub.status.busy": "2024-03-16T14:55:47.526006Z",
     "iopub.status.idle": "2024-03-16T14:55:47.532319Z",
     "shell.execute_reply": "2024-03-16T14:55:47.531493Z"
    },
    "papermill": {
     "duration": 0.019783,
     "end_time": "2024-03-16T14:55:47.534177",
     "exception": false,
     "start_time": "2024-03-16T14:55:47.514394",
     "status": "completed"
    },
    "tags": []
   },
   "outputs": [
    {
     "data": {
      "text/plain": [
       "torch.Size([60000])"
      ]
     },
     "execution_count": 5,
     "metadata": {},
     "output_type": "execute_result"
    }
   ],
   "source": [
    "ds_mnist.targets.shape"
   ]
  },
  {
   "cell_type": "code",
   "execution_count": 6,
   "id": "e2c1473d",
   "metadata": {
    "execution": {
     "iopub.execute_input": "2024-03-16T14:55:47.556931Z",
     "iopub.status.busy": "2024-03-16T14:55:47.556658Z",
     "iopub.status.idle": "2024-03-16T14:55:47.583104Z",
     "shell.execute_reply": "2024-03-16T14:55:47.582255Z"
    },
    "papermill": {
     "duration": 0.039946,
     "end_time": "2024-03-16T14:55:47.584956",
     "exception": false,
     "start_time": "2024-03-16T14:55:47.545010",
     "status": "completed"
    },
    "tags": []
   },
   "outputs": [
    {
     "data": {
      "text/plain": [
       "torch.Size([1, 28, 28])"
      ]
     },
     "execution_count": 6,
     "metadata": {},
     "output_type": "execute_result"
    }
   ],
   "source": [
    "ds_mnist[0][0].shape"
   ]
  },
  {
   "cell_type": "code",
   "execution_count": 7,
   "id": "6429d818",
   "metadata": {
    "execution": {
     "iopub.execute_input": "2024-03-16T14:55:47.608110Z",
     "iopub.status.busy": "2024-03-16T14:55:47.607855Z",
     "iopub.status.idle": "2024-03-16T14:55:47.875605Z",
     "shell.execute_reply": "2024-03-16T14:55:47.874682Z"
    },
    "papermill": {
     "duration": 0.281692,
     "end_time": "2024-03-16T14:55:47.877591",
     "exception": false,
     "start_time": "2024-03-16T14:55:47.595899",
     "status": "completed"
    },
    "tags": []
   },
   "outputs": [
    {
     "data": {
      "text/plain": [
       "<matplotlib.image.AxesImage at 0x7918166b7460>"
      ]
     },
     "execution_count": 7,
     "metadata": {},
     "output_type": "execute_result"
    },
    {
     "data": {
      "image/png": "[encoded data removed]",
      "text/plain": [
       "<Figure size 640x480 with 1 Axes>"
      ]
     },
     "metadata": {},
     "output_type": "display_data"
    }
   ],
   "source": [
    "plt.imshow(ds_mnist[52120][0].numpy()[0])"
   ]
  },
  {
   "cell_type": "code",
   "execution_count": 8,
   "id": "37c6c097",
   "metadata": {
    "execution": {
     "iopub.execute_input": "2024-03-16T14:55:47.901527Z",
     "iopub.status.busy": "2024-03-16T14:55:47.901236Z",
     "iopub.status.idle": "2024-03-16T14:55:47.950493Z",
     "shell.execute_reply": "2024-03-16T14:55:47.949598Z"
    },
    "papermill": {
     "duration": 0.063179,
     "end_time": "2024-03-16T14:55:47.952305",
     "exception": false,
     "start_time": "2024-03-16T14:55:47.889126",
     "status": "completed"
    },
    "tags": []
   },
   "outputs": [],
   "source": [
    "DEVICE = 'cuda' if torch.cuda.is_available() else 'cpu'"
   ]
  },
  {
   "cell_type": "code",
   "execution_count": 9,
   "id": "09398b12",
   "metadata": {
    "execution": {
     "iopub.execute_input": "2024-03-16T14:55:47.976069Z",
     "iopub.status.busy": "2024-03-16T14:55:47.975814Z",
     "iopub.status.idle": "2024-03-16T14:55:48.201865Z",
     "shell.execute_reply": "2024-03-16T14:55:48.200853Z"
    },
    "papermill": {
     "duration": 0.240426,
     "end_time": "2024-03-16T14:55:48.204123",
     "exception": false,
     "start_time": "2024-03-16T14:55:47.963697",
     "status": "completed"
    },
    "tags": []
   },
   "outputs": [],
   "source": [
    "## Нормализация входных данных\n",
    "X = X.to(DEVICE) / 255\n",
    "y = y.to(DEVICE)"
   ]
  },
  {
   "cell_type": "markdown",
   "id": "b9a9d4f4",
   "metadata": {
    "papermill": {
     "duration": 0.011194,
     "end_time": "2024-03-16T14:55:48.227088",
     "exception": false,
     "start_time": "2024-03-16T14:55:48.215894",
     "status": "completed"
    },
    "tags": []
   },
   "source": [
    "## Подготовка данных"
   ]
  },
  {
   "cell_type": "markdown",
   "id": "81c3102f",
   "metadata": {
    "papermill": {
     "duration": 0.011006,
     "end_time": "2024-03-16T14:55:48.249473",
     "exception": false,
     "start_time": "2024-03-16T14:55:48.238467",
     "status": "completed"
    },
    "tags": []
   },
   "source": [
    "### Разбивка данных на тренировочную и тестовую выборку"
   ]
  },
  {
   "cell_type": "code",
   "execution_count": 10,
   "id": "31d69571",
   "metadata": {
    "execution": {
     "iopub.execute_input": "2024-03-16T14:55:48.273140Z",
     "iopub.status.busy": "2024-03-16T14:55:48.272834Z",
     "iopub.status.idle": "2024-03-16T14:55:48.323507Z",
     "shell.execute_reply": "2024-03-16T14:55:48.322522Z"
    },
    "papermill": {
     "duration": 0.064981,
     "end_time": "2024-03-16T14:55:48.325666",
     "exception": false,
     "start_time": "2024-03-16T14:55:48.260685",
     "status": "completed"
    },
    "tags": []
   },
   "outputs": [],
   "source": [
    "X_train, X_val, y_train, y_val = train_test_split(X, y, test_size=.33, random_state=77)"
   ]
  },
  {
   "cell_type": "code",
   "execution_count": 11,
   "id": "49408d99",
   "metadata": {
    "execution": {
     "iopub.execute_input": "2024-03-16T14:55:48.350274Z",
     "iopub.status.busy": "2024-03-16T14:55:48.349564Z",
     "iopub.status.idle": "2024-03-16T14:55:48.355518Z",
     "shell.execute_reply": "2024-03-16T14:55:48.354653Z"
    },
    "papermill": {
     "duration": 0.0202,
     "end_time": "2024-03-16T14:55:48.357503",
     "exception": false,
     "start_time": "2024-03-16T14:55:48.337303",
     "status": "completed"
    },
    "tags": []
   },
   "outputs": [
    {
     "data": {
      "text/plain": [
       "(torch.Size([40200, 28, 28]), torch.Size([19800, 28, 28]))"
      ]
     },
     "execution_count": 11,
     "metadata": {},
     "output_type": "execute_result"
    }
   ],
   "source": [
    "X_train.shape, X_val.shape"
   ]
  },
  {
   "cell_type": "markdown",
   "id": "6f76bb41",
   "metadata": {
    "papermill": {
     "duration": 0.011172,
     "end_time": "2024-03-16T14:55:48.380014",
     "exception": false,
     "start_time": "2024-03-16T14:55:48.368842",
     "status": "completed"
    },
    "tags": []
   },
   "source": [
    "### Создание тренировочного и валидационного датасетов"
   ]
  },
  {
   "cell_type": "code",
   "execution_count": 12,
   "id": "78c0af50",
   "metadata": {
    "execution": {
     "iopub.execute_input": "2024-03-16T14:55:48.404459Z",
     "iopub.status.busy": "2024-03-16T14:55:48.403700Z",
     "iopub.status.idle": "2024-03-16T14:55:48.407802Z",
     "shell.execute_reply": "2024-03-16T14:55:48.406949Z"
    },
    "papermill": {
     "duration": 0.018376,
     "end_time": "2024-03-16T14:55:48.409734",
     "exception": false,
     "start_time": "2024-03-16T14:55:48.391358",
     "status": "completed"
    },
    "tags": []
   },
   "outputs": [],
   "source": [
    "train_dataset = TensorDataset(X_train, y_train)\n",
    "val_dataset = TensorDataset(X_val, y_val)"
   ]
  },
  {
   "cell_type": "markdown",
   "id": "b0f35aae",
   "metadata": {
    "papermill": {
     "duration": 0.011252,
     "end_time": "2024-03-16T14:55:48.432635",
     "exception": false,
     "start_time": "2024-03-16T14:55:48.421383",
     "status": "completed"
    },
    "tags": []
   },
   "source": [
    "### Создание загрузчиков"
   ]
  },
  {
   "cell_type": "code",
   "execution_count": 13,
   "id": "f1d17012",
   "metadata": {
    "execution": {
     "iopub.execute_input": "2024-03-16T14:55:48.456818Z",
     "iopub.status.busy": "2024-03-16T14:55:48.456144Z",
     "iopub.status.idle": "2024-03-16T14:55:48.460064Z",
     "shell.execute_reply": "2024-03-16T14:55:48.459165Z"
    },
    "papermill": {
     "duration": 0.017848,
     "end_time": "2024-03-16T14:55:48.461881",
     "exception": false,
     "start_time": "2024-03-16T14:55:48.444033",
     "status": "completed"
    },
    "tags": []
   },
   "outputs": [],
   "source": [
    "## Количество батчей\n",
    "BATCH = 32"
   ]
  },
  {
   "cell_type": "code",
   "execution_count": 14,
   "id": "00a102a6",
   "metadata": {
    "execution": {
     "iopub.execute_input": "2024-03-16T14:55:48.487074Z",
     "iopub.status.busy": "2024-03-16T14:55:48.486836Z",
     "iopub.status.idle": "2024-03-16T14:55:48.491458Z",
     "shell.execute_reply": "2024-03-16T14:55:48.490617Z"
    },
    "papermill": {
     "duration": 0.01945,
     "end_time": "2024-03-16T14:55:48.493255",
     "exception": false,
     "start_time": "2024-03-16T14:55:48.473805",
     "status": "completed"
    },
    "tags": []
   },
   "outputs": [],
   "source": [
    "train_loader = DataLoader(train_dataset, shuffle=True, batch_size=BATCH, drop_last=True)\n",
    "val_loader = DataLoader(val_dataset, shuffle=True, batch_size=BATCH, drop_last=True)"
   ]
  },
  {
   "cell_type": "code",
   "execution_count": 15,
   "id": "7bd0bba8",
   "metadata": {
    "execution": {
     "iopub.execute_input": "2024-03-16T14:55:48.517199Z",
     "iopub.status.busy": "2024-03-16T14:55:48.516942Z",
     "iopub.status.idle": "2024-03-16T14:55:48.565794Z",
     "shell.execute_reply": "2024-03-16T14:55:48.564956Z"
    },
    "papermill": {
     "duration": 0.062869,
     "end_time": "2024-03-16T14:55:48.567702",
     "exception": false,
     "start_time": "2024-03-16T14:55:48.504833",
     "status": "completed"
    },
    "tags": []
   },
   "outputs": [
    {
     "data": {
      "text/plain": [
       "torch.Size([32, 28, 28])"
      ]
     },
     "execution_count": 15,
     "metadata": {},
     "output_type": "execute_result"
    }
   ],
   "source": [
    "next(iter(train_loader))[0].shape # (Количество батчей, количество каналов, ширина, высота)"
   ]
  },
  {
   "cell_type": "markdown",
   "id": "7bf2d363",
   "metadata": {
    "papermill": {
     "duration": 0.011513,
     "end_time": "2024-03-16T14:55:48.590786",
     "exception": false,
     "start_time": "2024-03-16T14:55:48.579273",
     "status": "completed"
    },
    "tags": []
   },
   "source": [
    "## Создание модели"
   ]
  },
  {
   "cell_type": "code",
   "execution_count": 16,
   "id": "1ab5e87b",
   "metadata": {
    "execution": {
     "iopub.execute_input": "2024-03-16T14:55:48.615147Z",
     "iopub.status.busy": "2024-03-16T14:55:48.614877Z",
     "iopub.status.idle": "2024-03-16T14:55:48.621151Z",
     "shell.execute_reply": "2024-03-16T14:55:48.620331Z"
    },
    "papermill": {
     "duration": 0.020642,
     "end_time": "2024-03-16T14:55:48.622940",
     "exception": false,
     "start_time": "2024-03-16T14:55:48.602298",
     "status": "completed"
    },
    "tags": []
   },
   "outputs": [],
   "source": [
    "class MnistModel(nn.Module):\n",
    "    def __init__(self):\n",
    "        super().__init__()\n",
    "        self.flatten = nn.Flatten()\n",
    "        self.lin_linear1 = nn.Linear(28*28, 300)\n",
    "        self.lin_linear2 = nn.Linear(300, 10)\n",
    "        \n",
    "        self.dropout1 = nn.Dropout(0.2)\n",
    "\n",
    "        self.relu = nn.ReLU()\n",
    "        \n",
    "        \n",
    "    def forward(self, x):\n",
    "        x = self.flatten(x)\n",
    "        \n",
    "        x = self.lin_linear1(x)\n",
    "        x = self.relu(x)\n",
    "        \n",
    "        x = self.dropout1(x)\n",
    "        x = self.lin_linear2(x)\n",
    "    \n",
    "        \n",
    "        return x"
   ]
  },
  {
   "cell_type": "code",
   "execution_count": 17,
   "id": "c4fb8afd",
   "metadata": {
    "execution": {
     "iopub.execute_input": "2024-03-16T14:55:48.646871Z",
     "iopub.status.busy": "2024-03-16T14:55:48.646621Z",
     "iopub.status.idle": "2024-03-16T14:55:48.654155Z",
     "shell.execute_reply": "2024-03-16T14:55:48.653495Z"
    },
    "papermill": {
     "duration": 0.021636,
     "end_time": "2024-03-16T14:55:48.655989",
     "exception": false,
     "start_time": "2024-03-16T14:55:48.634353",
     "status": "completed"
    },
    "tags": []
   },
   "outputs": [],
   "source": [
    "model = MnistModel()"
   ]
  },
  {
   "cell_type": "markdown",
   "id": "990c74a6",
   "metadata": {
    "papermill": {
     "duration": 0.011164,
     "end_time": "2024-03-16T14:55:48.678840",
     "exception": false,
     "start_time": "2024-03-16T14:55:48.667676",
     "status": "completed"
    },
    "tags": []
   },
   "source": [
    "## Обучение модели"
   ]
  },
  {
   "cell_type": "code",
   "execution_count": 18,
   "id": "2aed912c",
   "metadata": {
    "execution": {
     "iopub.execute_input": "2024-03-16T14:55:48.702758Z",
     "iopub.status.busy": "2024-03-16T14:55:48.702516Z",
     "iopub.status.idle": "2024-03-16T14:55:48.707234Z",
     "shell.execute_reply": "2024-03-16T14:55:48.706388Z"
    },
    "papermill": {
     "duration": 0.018775,
     "end_time": "2024-03-16T14:55:48.709097",
     "exception": false,
     "start_time": "2024-03-16T14:55:48.690322",
     "status": "completed"
    },
    "tags": []
   },
   "outputs": [],
   "source": [
    "EPOCHS = 10\n",
    "loss_function = nn.CrossEntropyLoss()\n",
    "optimizer = torch.optim.Adam(model.parameters(), lr=0.001)\n",
    "# accuracy = Accuracy(task='multiclass', num_classes=10).to(DEVICE)"
   ]
  },
  {
   "cell_type": "code",
   "execution_count": 19,
   "id": "c4b057cc",
   "metadata": {
    "execution": {
     "iopub.execute_input": "2024-03-16T14:55:48.732993Z",
     "iopub.status.busy": "2024-03-16T14:55:48.732731Z",
     "iopub.status.idle": "2024-03-16T14:55:48.736847Z",
     "shell.execute_reply": "2024-03-16T14:55:48.736083Z"
    },
    "papermill": {
     "duration": 0.017979,
     "end_time": "2024-03-16T14:55:48.738617",
     "exception": false,
     "start_time": "2024-03-16T14:55:48.720638",
     "status": "completed"
    },
    "tags": []
   },
   "outputs": [],
   "source": [
    "loss_train = []\n",
    "total_loss = []\n",
    "\n",
    "loss_val = []\n",
    "total_val_loss = []\n",
    "\n",
    "acc_val = []\n",
    "rec_val = []"
   ]
  },
  {
   "cell_type": "markdown",
   "id": "14d44298",
   "metadata": {
    "papermill": {
     "duration": 0.011084,
     "end_time": "2024-03-16T14:55:48.761127",
     "exception": false,
     "start_time": "2024-03-16T14:55:48.750043",
     "status": "completed"
    },
    "tags": []
   },
   "source": [
    "### Метрика accuracy"
   ]
  },
  {
   "cell_type": "code",
   "execution_count": 20,
   "id": "22ab9a5a",
   "metadata": {
    "execution": {
     "iopub.execute_input": "2024-03-16T14:55:48.785298Z",
     "iopub.status.busy": "2024-03-16T14:55:48.785029Z",
     "iopub.status.idle": "2024-03-16T14:55:48.789931Z",
     "shell.execute_reply": "2024-03-16T14:55:48.789136Z"
    },
    "papermill": {
     "duration": 0.018903,
     "end_time": "2024-03-16T14:55:48.791724",
     "exception": false,
     "start_time": "2024-03-16T14:55:48.772821",
     "status": "completed"
    },
    "tags": []
   },
   "outputs": [],
   "source": [
    "def accuracy(pred, target):\n",
    "    proba = F.softmax(pred)\n",
    "    true_list = (torch.argmax(proba, dim=1) == torch.argmax(target, dim=1)).sum()\n",
    "    total_examples = len(pred)\n",
    "    acc = true_list / total_examples\n",
    "    return acc.detach().cpu().numpy().item()"
   ]
  },
  {
   "cell_type": "markdown",
   "id": "dec92baa",
   "metadata": {
    "papermill": {
     "duration": 0.011284,
     "end_time": "2024-03-16T14:55:48.814454",
     "exception": false,
     "start_time": "2024-03-16T14:55:48.803170",
     "status": "completed"
    },
    "tags": []
   },
   "source": [
    "### Процесс обучения"
   ]
  },
  {
   "cell_type": "code",
   "execution_count": 21,
   "id": "7641346b",
   "metadata": {
    "_kg_hide-output": false,
    "execution": {
     "iopub.execute_input": "2024-03-16T14:55:48.838642Z",
     "iopub.status.busy": "2024-03-16T14:55:48.838346Z",
     "iopub.status.idle": "2024-03-16T14:56:20.037632Z",
     "shell.execute_reply": "2024-03-16T14:56:20.036691Z"
    },
    "papermill": {
     "duration": 31.215007,
     "end_time": "2024-03-16T14:56:20.041023",
     "exception": false,
     "start_time": "2024-03-16T14:55:48.826016",
     "status": "completed"
    },
    "scrolled": true,
    "tags": []
   },
   "outputs": [
    {
     "data": {
      "application/vnd.jupyter.widget-view+json": {
       "model_id": "fa05dee24aaa47a685ad341e8069cb15",
       "version_major": 2,
       "version_minor": 0
      },
      "text/plain": [
       "  0%|          | 0/10 [00:00<?, ?it/s]"
      ]
     },
     "metadata": {},
     "output_type": "display_data"
    },
    {
     "name": "stdout",
     "output_type": "stream",
     "text": [
      "Epochs 1\n",
      " ----------------------\n",
      "loss: 0.599161 [4000|40200]\n",
      "loss: 0.260153 [8000|40200]\n",
      "loss: 0.367528 [12000|40200]\n",
      "loss: 0.167969 [16000|40200]\n",
      "loss: 0.398778 [20000|40200]\n",
      "loss: 0.229218 [24000|40200]\n",
      "loss: 0.134305 [28000|40200]\n",
      "loss: 0.221996 [32000|40200]\n",
      "loss: 0.045317 [36000|40200]\n",
      "loss: 0.239384 [40000|40200]\n"
     ]
    },
    {
     "name": "stderr",
     "output_type": "stream",
     "text": [
      "/tmp/ipykernel_26/2544929619.py:41: UserWarning: Implicit dimension choice for softmax has been deprecated. Change the call to include dim=X as an argument.\n",
      "  proba = F.softmax(pred)\n",
      "/tmp/ipykernel_26/4156142797.py:2: UserWarning: Implicit dimension choice for softmax has been deprecated. Change the call to include dim=X as an argument.\n",
      "  proba = F.softmax(pred)\n"
     ]
    },
    {
     "name": "stdout",
     "output_type": "stream",
     "text": [
      "Validation Error: \n",
      " Accuracy: 0.9480177993527508 Avg Loss: 0.1750261493081462\n",
      "Epochs 2\n",
      " ----------------------\n",
      "loss: 0.097092 [4000|40200]\n",
      "loss: 0.029749 [8000|40200]\n",
      "loss: 0.045273 [12000|40200]\n",
      "loss: 0.160821 [16000|40200]\n",
      "loss: 0.078845 [20000|40200]\n",
      "loss: 0.168837 [24000|40200]\n",
      "loss: 0.125530 [28000|40200]\n",
      "loss: 0.078022 [32000|40200]\n",
      "loss: 0.227260 [36000|40200]\n",
      "loss: 0.063060 [40000|40200]\n",
      "Validation Error: \n",
      " Accuracy: 0.9561589805825242 Avg Loss: 0.14732102651004364\n",
      "Epochs 3\n",
      " ----------------------\n",
      "loss: 0.188883 [4000|40200]\n",
      "loss: 0.027986 [8000|40200]\n",
      "loss: 0.066322 [12000|40200]\n",
      "loss: 0.056283 [16000|40200]\n",
      "loss: 0.047050 [20000|40200]\n",
      "loss: 0.146037 [24000|40200]\n",
      "loss: 0.070999 [28000|40200]\n",
      "loss: 0.020577 [32000|40200]\n",
      "loss: 0.309866 [36000|40200]\n",
      "loss: 0.006898 [40000|40200]\n",
      "Validation Error: \n",
      " Accuracy: 0.9601031553398058 Avg Loss: 0.13324656011555555\n",
      "Epochs 4\n",
      " ----------------------\n",
      "loss: 0.025887 [4000|40200]\n",
      "loss: 0.032062 [8000|40200]\n",
      "loss: 0.024154 [12000|40200]\n",
      "loss: 0.025015 [16000|40200]\n",
      "loss: 0.011895 [20000|40200]\n",
      "loss: 0.021906 [24000|40200]\n",
      "loss: 0.053666 [28000|40200]\n",
      "loss: 0.003524 [32000|40200]\n",
      "loss: 0.039861 [36000|40200]\n",
      "loss: 0.035956 [40000|40200]\n",
      "Validation Error: \n",
      " Accuracy: 0.9631371359223301 Avg Loss: 0.12297241865307082\n",
      "Epochs 5\n",
      " ----------------------\n",
      "loss: 0.013995 [4000|40200]\n",
      "loss: 0.010375 [8000|40200]\n",
      "loss: 0.015318 [12000|40200]\n",
      "loss: 0.002697 [16000|40200]\n",
      "loss: 0.060219 [20000|40200]\n",
      "loss: 0.034571 [24000|40200]\n",
      "loss: 0.053689 [28000|40200]\n",
      "loss: 0.118491 [32000|40200]\n",
      "loss: 0.077197 [36000|40200]\n",
      "loss: 0.048613 [40000|40200]\n",
      "Validation Error: \n",
      " Accuracy: 0.9652609223300971 Avg Loss: 0.11573174385062696\n",
      "Epochs 6\n",
      " ----------------------\n",
      "loss: 0.003721 [4000|40200]\n",
      "loss: 0.048950 [8000|40200]\n",
      "loss: 0.013791 [12000|40200]\n",
      "loss: 0.031439 [16000|40200]\n",
      "loss: 0.095813 [20000|40200]\n",
      "loss: 0.080026 [24000|40200]\n",
      "loss: 0.021334 [28000|40200]\n",
      "loss: 0.162513 [32000|40200]\n",
      "loss: 0.037284 [36000|40200]\n",
      "loss: 0.080274 [40000|40200]\n",
      "Validation Error: \n",
      " Accuracy: 0.9663143878101402 Avg Loss: 0.11240757731843562\n",
      "Epochs 7\n",
      " ----------------------\n",
      "loss: 0.006342 [4000|40200]\n",
      "loss: 0.032700 [8000|40200]\n",
      "loss: 0.043272 [12000|40200]\n",
      "loss: 0.012968 [16000|40200]\n",
      "loss: 0.005726 [20000|40200]\n",
      "loss: 0.115276 [24000|40200]\n",
      "loss: 0.005381 [28000|40200]\n",
      "loss: 0.028710 [32000|40200]\n",
      "loss: 0.126908 [36000|40200]\n",
      "loss: 0.015382 [40000|40200]\n",
      "Validation Error: \n",
      " Accuracy: 0.9675219602404068 Avg Loss: 0.10907063220071067\n",
      "Epochs 8\n",
      " ----------------------\n",
      "loss: 0.010608 [4000|40200]\n",
      "loss: 0.040787 [8000|40200]\n",
      "loss: 0.013695 [12000|40200]\n",
      "loss: 0.131933 [16000|40200]\n",
      "loss: 0.005267 [20000|40200]\n",
      "loss: 0.015451 [24000|40200]\n",
      "loss: 0.005151 [28000|40200]\n",
      "loss: 0.073417 [32000|40200]\n",
      "loss: 0.006879 [36000|40200]\n",
      "loss: 0.007220 [40000|40200]\n",
      "Validation Error: \n",
      " Accuracy: 0.9686172633495146 Avg Loss: 0.10586950031595124\n",
      "Epochs 9\n",
      " ----------------------\n",
      "loss: 0.029343 [4000|40200]\n",
      "loss: 0.066881 [8000|40200]\n",
      "loss: 0.033831 [12000|40200]\n",
      "loss: 0.016658 [16000|40200]\n",
      "loss: 0.028766 [20000|40200]\n",
      "loss: 0.019999 [24000|40200]\n",
      "loss: 0.002021 [28000|40200]\n",
      "loss: 0.009872 [32000|40200]\n",
      "loss: 0.031029 [36000|40200]\n",
      "loss: 0.123116 [40000|40200]\n",
      "Validation Error: \n",
      " Accuracy: 0.9694017439769866 Avg Loss: 0.10355738692840523\n",
      "Epochs 10\n",
      " ----------------------\n",
      "loss: 0.001997 [4000|40200]\n",
      "loss: 0.012987 [8000|40200]\n",
      "loss: 0.041978 [12000|40200]\n",
      "loss: 0.033640 [16000|40200]\n",
      "loss: 0.020960 [20000|40200]\n",
      "loss: 0.039836 [24000|40200]\n",
      "loss: 0.116794 [28000|40200]\n",
      "loss: 0.009974 [32000|40200]\n",
      "loss: 0.003908 [36000|40200]\n",
      "loss: 0.001996 [40000|40200]\n",
      "Validation Error: \n",
      " Accuracy: 0.9700697815533981 Avg Loss: 0.1021016246198667\n"
     ]
    }
   ],
   "source": [
    "model = model.to(DEVICE)\n",
    "size = len(train_loader.dataset)\n",
    "\n",
    "for epoch in tqdm(range(EPOCHS)):\n",
    "    print(f'Epochs {epoch + 1}\\n ----------------------')\n",
    "    for iteration, (X_batch, y_batch) in enumerate(train_loader):\n",
    "        model.train()\n",
    "\n",
    "        y_batch = F.one_hot(y_batch, num_classes=10).to(torch.float32)\n",
    "        \n",
    "        \n",
    "        optimizer.zero_grad()\n",
    "        \n",
    "        outputs = model(X_batch)\n",
    "        \n",
    "        loss = loss_function(outputs, y_batch)\n",
    "        \n",
    "        loss.backward()\n",
    "        \n",
    "        loss_train.append(loss.detach().cpu().numpy().item())\n",
    "        \n",
    "        optimizer.step()\n",
    "        current = (iteration + 1) * len(X_batch)\n",
    "        if current % 1000 == 0:\n",
    "            print(f'loss: {loss:>7f} [{current}|{size:>2d}]')\n",
    "        \n",
    "    total_loss.append(np.mean(loss_train))\n",
    "    \n",
    "    for iteration, (X_val, y_val) in enumerate(val_loader):\n",
    "        model.eval()\n",
    "        \n",
    "        y_val = F.one_hot(y_val, num_classes=10).to(torch.float32)\n",
    "        \n",
    "        with torch.no_grad():\n",
    "            pred = model(X_val)\n",
    "            \n",
    "            loss = loss_function(pred, y_val)\n",
    "            \n",
    "            loss_val.append(loss.detach().cpu().numpy().item())\n",
    "            \n",
    "            proba = F.softmax(pred)\n",
    "            \n",
    "            acc = accuracy(proba, y_val)\n",
    "            \n",
    "            acc_val.append(acc)\n",
    "    \n",
    "    total_val_loss.append(np.mean(loss_val))\n",
    "    print(f'Validation Error: \\n Accuracy: {np.mean(acc_val)} Avg Loss: {np.mean(loss_val)}')"
   ]
  },
  {
   "cell_type": "markdown",
   "id": "f91e03f4",
   "metadata": {
    "papermill": {
     "duration": 0.019713,
     "end_time": "2024-03-16T14:56:20.081139",
     "exception": false,
     "start_time": "2024-03-16T14:56:20.061426",
     "status": "completed"
    },
    "tags": []
   },
   "source": [
    "### График потерь"
   ]
  },
  {
   "cell_type": "code",
   "execution_count": 22,
   "id": "c61c15dc",
   "metadata": {
    "execution": {
     "iopub.execute_input": "2024-03-16T14:56:20.122401Z",
     "iopub.status.busy": "2024-03-16T14:56:20.122081Z",
     "iopub.status.idle": "2024-03-16T14:56:20.602866Z",
     "shell.execute_reply": "2024-03-16T14:56:20.601906Z"
    },
    "papermill": {
     "duration": 0.504215,
     "end_time": "2024-03-16T14:56:20.605258",
     "exception": false,
     "start_time": "2024-03-16T14:56:20.101043",
     "status": "completed"
    },
    "tags": []
   },
   "outputs": [
    {
     "data": {
      "image/png": "[encoded data removed]",
      "text/plain": [
       "<Figure size 2400x1600 with 1 Axes>"
      ]
     },
     "metadata": {},
     "output_type": "display_data"
    }
   ],
   "source": [
    "plt.figure(figsize=(12, 8), dpi=200)\n",
    "plt.plot(total_loss, color='green', label='Train loss', linewidth=3)\n",
    "plt.plot(total_val_loss, color='red', label='Validation loss', linestyle='--', linewidth=3)\n",
    "plt.xlabel('Epochs')\n",
    "plt.ylabel('CrossEntropyLoss')\n",
    "plt.legend();"
   ]
  },
  {
   "cell_type": "code",
   "execution_count": 23,
   "id": "159f0623",
   "metadata": {
    "execution": {
     "iopub.execute_input": "2024-03-16T14:56:20.649563Z",
     "iopub.status.busy": "2024-03-16T14:56:20.649233Z",
     "iopub.status.idle": "2024-03-16T14:56:20.654905Z",
     "shell.execute_reply": "2024-03-16T14:56:20.653761Z"
    },
    "papermill": {
     "duration": 0.029715,
     "end_time": "2024-03-16T14:56:20.656838",
     "exception": false,
     "start_time": "2024-03-16T14:56:20.627123",
     "status": "completed"
    },
    "tags": []
   },
   "outputs": [
    {
     "name": "stdout",
     "output_type": "stream",
     "text": [
      "Accuracy: 97.01%\n"
     ]
    }
   ],
   "source": [
    "print(f'Accuracy: {np.mean(acc_val):.2%}')"
   ]
  },
  {
   "cell_type": "markdown",
   "id": "5587a20d",
   "metadata": {
    "papermill": {
     "duration": 0.020992,
     "end_time": "2024-03-16T14:56:20.698974",
     "exception": false,
     "start_time": "2024-03-16T14:56:20.677982",
     "status": "completed"
    },
    "tags": []
   },
   "source": [
    "## Рандомное число"
   ]
  },
  {
   "cell_type": "code",
   "execution_count": 24,
   "id": "4010fd94",
   "metadata": {
    "execution": {
     "iopub.execute_input": "2024-03-16T14:56:20.783304Z",
     "iopub.status.busy": "2024-03-16T14:56:20.782968Z",
     "iopub.status.idle": "2024-03-16T14:56:20.787712Z",
     "shell.execute_reply": "2024-03-16T14:56:20.786857Z"
    },
    "papermill": {
     "duration": 0.069476,
     "end_time": "2024-03-16T14:56:20.789740",
     "exception": false,
     "start_time": "2024-03-16T14:56:20.720264",
     "status": "completed"
    },
    "tags": []
   },
   "outputs": [],
   "source": [
    "indx = random.randint(0, X.shape[0])\n",
    "img = X[indx]\n",
    "target = y[indx]"
   ]
  },
  {
   "cell_type": "code",
   "execution_count": 25,
   "id": "9769e8cf",
   "metadata": {
    "execution": {
     "iopub.execute_input": "2024-03-16T14:56:20.833484Z",
     "iopub.status.busy": "2024-03-16T14:56:20.833183Z",
     "iopub.status.idle": "2024-03-16T14:56:21.079029Z",
     "shell.execute_reply": "2024-03-16T14:56:21.078203Z"
    },
    "papermill": {
     "duration": 0.269776,
     "end_time": "2024-03-16T14:56:21.080977",
     "exception": false,
     "start_time": "2024-03-16T14:56:20.811201",
     "status": "completed"
    },
    "tags": []
   },
   "outputs": [
    {
     "data": {
      "text/plain": [
       "<matplotlib.image.AxesImage at 0x791808d45390>"
      ]
     },
     "execution_count": 25,
     "metadata": {},
     "output_type": "execute_result"
    },
    {
     "data": {
      "image/png": "[encoded data removed]",
      "text/plain": [
       "<Figure size 640x480 with 1 Axes>"
      ]
     },
     "metadata": {},
     "output_type": "display_data"
    }
   ],
   "source": [
    "plt.imshow(img.cpu().numpy())"
   ]
  },
  {
   "cell_type": "code",
   "execution_count": 26,
   "id": "a6650e70",
   "metadata": {
    "execution": {
     "iopub.execute_input": "2024-03-16T14:56:21.126873Z",
     "iopub.status.busy": "2024-03-16T14:56:21.126245Z",
     "iopub.status.idle": "2024-03-16T14:56:21.132080Z",
     "shell.execute_reply": "2024-03-16T14:56:21.131250Z"
    },
    "papermill": {
     "duration": 0.030741,
     "end_time": "2024-03-16T14:56:21.133969",
     "exception": false,
     "start_time": "2024-03-16T14:56:21.103228",
     "status": "completed"
    },
    "tags": []
   },
   "outputs": [
    {
     "data": {
      "text/plain": [
       "torch.Size([1, 28, 28])"
      ]
     },
     "execution_count": 26,
     "metadata": {},
     "output_type": "execute_result"
    }
   ],
   "source": [
    "img = img.expand([1, 28, 28])\n",
    "img.shape"
   ]
  },
  {
   "cell_type": "code",
   "execution_count": 27,
   "id": "79762ba5",
   "metadata": {
    "execution": {
     "iopub.execute_input": "2024-03-16T14:56:21.180045Z",
     "iopub.status.busy": "2024-03-16T14:56:21.179386Z",
     "iopub.status.idle": "2024-03-16T14:56:21.199193Z",
     "shell.execute_reply": "2024-03-16T14:56:21.198189Z"
    },
    "papermill": {
     "duration": 0.044875,
     "end_time": "2024-03-16T14:56:21.201090",
     "exception": false,
     "start_time": "2024-03-16T14:56:21.156215",
     "status": "completed"
    },
    "tags": []
   },
   "outputs": [
    {
     "name": "stdout",
     "output_type": "stream",
     "text": [
      "Предсказанное: 0 \n",
      "Истина: 0\n"
     ]
    }
   ],
   "source": [
    "pred = model(img)\n",
    "pred = torch.argmax(pred, 1).detach().cpu().numpy().item()\n",
    "print(f'Предсказанное: {pred} \\nИстина: {target.detach().cpu().numpy().item()}')"
   ]
  }
 ],
 "metadata": {
  "kaggle": {
   "accelerator": "gpu",
   "dataSources": [
    {
     "datasetId": 4605785,
     "sourceId": 7853556,
     "sourceType": "datasetVersion"
    }
   ],
   "dockerImageVersionId": 30664,
   "isGpuEnabled": true,
   "isInternetEnabled": true,
   "language": "python",
   "sourceType": "notebook"
  },
  "kernelspec": {
   "display_name": "Python 3",
   "language": "python",
   "name": "python3"
  },
  "language_info": {
   "codemirror_mode": {
    "name": "ipython",
    "version": 3
   },
   "file_extension": ".py",
   "mimetype": "text/x-python",
   "name": "python",
   "nbconvert_exporter": "python",
   "pygments_lexer": "ipython3",
   "version": "3.10.13"
  },
  "papermill": {
   "default_parameters": {},
   "duration": 49.309316,
   "end_time": "2024-03-16T14:56:23.788548",
   "environment_variables": {},
   "exception": null,
   "input_path": "__notebook__.ipynb",
   "output_path": "__notebook__.ipynb",
   "parameters": {},
   "start_time": "2024-03-16T14:55:34.479232",
   "version": "2.5.0"
  },
  "widgets": {
   "application/vnd.jupyter.widget-state+json": {
    "state": {
     "3987166e0c794c3093edd81d290e3d2c": {
      "model_module": "@jupyter-widgets/controls",
      "model_module_version": "1.5.0",
      "model_name": "DescriptionStyleModel",
      "state": {
       "_model_module": "@jupyter-widgets/controls",
       "_model_module_version": "1.5.0",
       "_model_name": "DescriptionStyleModel",
       "_view_count": null,
       "_view_module": "@jupyter-widgets/base",
       "_view_module_version": "1.2.0",
       "_view_name": "StyleView",
       "description_width": ""
      }
     },
     "6024666fa0f5467e9367c495dc38b9a7": {
      "model_module": "@jupyter-widgets/base",
      "model_module_version": "1.2.0",
      "model_name": "LayoutModel",
      "state": {
       "_model_module": "@jupyter-widgets/base",
       "_model_module_version": "1.2.0",
       "_model_name": "LayoutModel",
       "_view_count": null,
       "_view_module": "@jupyter-widgets/base",
       "_view_module_version": "1.2.0",
       "_view_name": "LayoutView",
       "align_content": null,
       "align_items": null,
       "align_self": null,
       "border": null,
       "bottom": null,
       "display": null,
       "flex": null,
       "flex_flow": null,
       "grid_area": null,
       "grid_auto_columns": null,
       "grid_auto_flow": null,
       "grid_auto_rows": null,
       "grid_column": null,
       "grid_gap": null,
       "grid_row": null,
       "grid_template_areas": null,
       "grid_template_columns": null,
       "grid_template_rows": null,
       "height": null,
       "justify_content": null,
       "justify_items": null,
       "left": null,
       "margin": null,
       "max_height": null,
       "max_width": null,
       "min_height": null,
       "min_width": null,
       "object_fit": null,
       "object_position": null,
       "order": null,
       "overflow": null,
       "overflow_x": null,
       "overflow_y": null,
       "padding": null,
       "right": null,
       "top": null,
       "visibility": null,
       "width": null
      }
     },
     "6841ca130a8f4153862cc5a5fb93d8a8": {
      "model_module": "@jupyter-widgets/controls",
      "model_module_version": "1.5.0",
      "model_name": "HTMLModel",
      "state": {
       "_dom_classes": [],
       "_model_module": "@jupyter-widgets/controls",
       "_model_module_version": "1.5.0",
       "_model_name": "HTMLModel",
       "_view_count": null,
       "_view_module": "@jupyter-widgets/controls",
       "_view_module_version": "1.5.0",
       "_view_name": "HTMLView",
       "description": "",
       "description_tooltip": null,
       "layout": "IPY_MODEL_eaa0f7e793ba45b8b4d5cbee5c805f3b",
       "placeholder": "​",
       "style": "IPY_MODEL_ac9f5a48672749bb8e3c5c63a2b96a4e",
       "value": " 10/10 [00:31&lt;00:00,  3.06s/it]"
      }
     },
     "949ccc2653494de1acd628c99868eff2": {
      "model_module": "@jupyter-widgets/base",
      "model_module_version": "1.2.0",
      "model_name": "LayoutModel",
      "state": {
       "_model_module": "@jupyter-widgets/base",
       "_model_module_version": "1.2.0",
       "_model_name": "LayoutModel",
       "_view_count": null,
       "_view_module": "@jupyter-widgets/base",
       "_view_module_version": "1.2.0",
       "_view_name": "LayoutView",
       "align_content": null,
       "align_items": null,
       "align_self": null,
       "border": null,
       "bottom": null,
       "display": null,
       "flex": null,
       "flex_flow": null,
       "grid_area": null,
       "grid_auto_columns": null,
       "grid_auto_flow": null,
       "grid_auto_rows": null,
       "grid_column": null,
       "grid_gap": null,
       "grid_row": null,
       "grid_template_areas": null,
       "grid_template_columns": null,
       "grid_template_rows": null,
       "height": null,
       "justify_content": null,
       "justify_items": null,
       "left": null,
       "margin": null,
       "max_height": null,
       "max_width": null,
       "min_height": null,
       "min_width": null,
       "object_fit": null,
       "object_position": null,
       "order": null,
       "overflow": null,
       "overflow_x": null,
       "overflow_y": null,
       "padding": null,
       "right": null,
       "top": null,
       "visibility": null,
       "width": null
      }
     },
     "9a3e045c38a74d52a7f58114242fb3f6": {
      "model_module": "@jupyter-widgets/controls",
      "model_module_version": "1.5.0",
      "model_name": "HTMLModel",
      "state": {
       "_dom_classes": [],
       "_model_module": "@jupyter-widgets/controls",
       "_model_module_version": "1.5.0",
       "_model_name": "HTMLModel",
       "_view_count": null,
       "_view_module": "@jupyter-widgets/controls",
       "_view_module_version": "1.5.0",
       "_view_name": "HTMLView",
       "description": "",
       "description_tooltip": null,
       "layout": "IPY_MODEL_6024666fa0f5467e9367c495dc38b9a7",
       "placeholder": "​",
       "style": "IPY_MODEL_3987166e0c794c3093edd81d290e3d2c",
       "value": "100%"
      }
     },
     "9b0e1b108784450f9f59a1a1e40d9144": {
      "model_module": "@jupyter-widgets/base",
      "model_module_version": "1.2.0",
      "model_name": "LayoutModel",
      "state": {
       "_model_module": "@jupyter-widgets/base",
       "_model_module_version": "1.2.0",
       "_model_name": "LayoutModel",
       "_view_count": null,
       "_view_module": "@jupyter-widgets/base",
       "_view_module_version": "1.2.0",
       "_view_name": "LayoutView",
       "align_content": null,
       "align_items": null,
       "align_self": null,
       "border": null,
       "bottom": null,
       "display": null,
       "flex": null,
       "flex_flow": null,
       "grid_area": null,
       "grid_auto_columns": null,
       "grid_auto_flow": null,
       "grid_auto_rows": null,
       "grid_column": null,
       "grid_gap": null,
       "grid_row": null,
       "grid_template_areas": null,
       "grid_template_columns": null,
       "grid_template_rows": null,
       "height": null,
       "justify_content": null,
       "justify_items": null,
       "left": null,
       "margin": null,
       "max_height": null,
       "max_width": null,
       "min_height": null,
       "min_width": null,
       "object_fit": null,
       "object_position": null,
       "order": null,
       "overflow": null,
       "overflow_x": null,
       "overflow_y": null,
       "padding": null,
       "right": null,
       "top": null,
       "visibility": null,
       "width": null
      }
     },
     "ac9f5a48672749bb8e3c5c63a2b96a4e": {
      "model_module": "@jupyter-widgets/controls",
      "model_module_version": "1.5.0",
      "model_name": "DescriptionStyleModel",
      "state": {
       "_model_module": "@jupyter-widgets/controls",
       "_model_module_version": "1.5.0",
       "_model_name": "DescriptionStyleModel",
       "_view_count": null,
       "_view_module": "@jupyter-widgets/base",
       "_view_module_version": "1.2.0",
       "_view_name": "StyleView",
       "description_width": ""
      }
     },
     "b25d1249e7494f90b79a029517ec6087": {
      "model_module": "@jupyter-widgets/controls",
      "model_module_version": "1.5.0",
      "model_name": "FloatProgressModel",
      "state": {
       "_dom_classes": [],
       "_model_module": "@jupyter-widgets/controls",
       "_model_module_version": "1.5.0",
       "_model_name": "FloatProgressModel",
       "_view_count": null,
       "_view_module": "@jupyter-widgets/controls",
       "_view_module_version": "1.5.0",
       "_view_name": "ProgressView",
       "bar_style": "success",
       "description": "",
       "description_tooltip": null,
       "layout": "IPY_MODEL_949ccc2653494de1acd628c99868eff2",
       "max": 10.0,
       "min": 0.0,
       "orientation": "horizontal",
       "style": "IPY_MODEL_fbf10290c7784376b9deb22ab3074bfd",
       "value": 10.0
      }
     },
     "eaa0f7e793ba45b8b4d5cbee5c805f3b": {
      "model_module": "@jupyter-widgets/base",
      "model_module_version": "1.2.0",
      "model_name": "LayoutModel",
      "state": {
       "_model_module": "@jupyter-widgets/base",
       "_model_module_version": "1.2.0",
       "_model_name": "LayoutModel",
       "_view_count": null,
       "_view_module": "@jupyter-widgets/base",
       "_view_module_version": "1.2.0",
       "_view_name": "LayoutView",
       "align_content": null,
       "align_items": null,
       "align_self": null,
       "border": null,
       "bottom": null,
       "display": null,
       "flex": null,
       "flex_flow": null,
       "grid_area": null,
       "grid_auto_columns": null,
       "grid_auto_flow": null,
       "grid_auto_rows": null,
       "grid_column": null,
       "grid_gap": null,
       "grid_row": null,
       "grid_template_areas": null,
       "grid_template_columns": null,
       "grid_template_rows": null,
       "height": null,
       "justify_content": null,
       "justify_items": null,
       "left": null,
       "margin": null,
       "max_height": null,
       "max_width": null,
       "min_height": null,
       "min_width": null,
       "object_fit": null,
       "object_position": null,
       "order": null,
       "overflow": null,
       "overflow_x": null,
       "overflow_y": null,
       "padding": null,
       "right": null,
       "top": null,
       "visibility": null,
       "width": null
      }
     },
     "fa05dee24aaa47a685ad341e8069cb15": {
      "model_module": "@jupyter-widgets/controls",
      "model_module_version": "1.5.0",
      "model_name": "HBoxModel",
      "state": {
       "_dom_classes": [],
       "_model_module": "@jupyter-widgets/controls",
       "_model_module_version": "1.5.0",
       "_model_name": "HBoxModel",
       "_view_count": null,
       "_view_module": "@jupyter-widgets/controls",
       "_view_module_version": "1.5.0",
       "_view_name": "HBoxView",
       "box_style": "",
       "children": [
        "IPY_MODEL_9a3e045c38a74d52a7f58114242fb3f6",
        "IPY_MODEL_b25d1249e7494f90b79a029517ec6087",
        "IPY_MODEL_6841ca130a8f4153862cc5a5fb93d8a8"
       ],
       "layout": "IPY_MODEL_9b0e1b108784450f9f59a1a1e40d9144"
      }
     },
     "fbf10290c7784376b9deb22ab3074bfd": {
      "model_module": "@jupyter-widgets/controls",
      "model_module_version": "1.5.0",
      "model_name": "ProgressStyleModel",
      "state": {
       "_model_module": "@jupyter-widgets/controls",
       "_model_module_version": "1.5.0",
       "_model_name": "ProgressStyleModel",
       "_view_count": null,
       "_view_module": "@jupyter-widgets/base",
       "_view_module_version": "1.2.0",
       "_view_name": "StyleView",
       "bar_color": null,
       "description_width": ""
      }
     }
    },
    "version_major": 2,
    "version_minor": 0
   }
  }
 },
 "nbformat": 4,
 "nbformat_minor": 5
}
